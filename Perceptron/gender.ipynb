{
 "cells": [
  {
   "cell_type": "code",
   "execution_count": 3,
   "metadata": {},
   "outputs": [],
   "source": [
    "import pandas as pd\n",
    "import matplotlib.pyplot as plt\n",
    "import numpy as np"
   ]
  },
  {
   "cell_type": "code",
   "execution_count": 15,
   "metadata": {},
   "outputs": [
    {
     "name": "stdout",
     "output_type": "stream",
     "text": [
      "      long_hair  forehead_width_cm  forehead_height_cm  nose_wide  nose_long  \\\n",
      "0             1               11.8                 6.1          1          0   \n",
      "1             0               14.0                 5.4          0          0   \n",
      "2             0               11.8                 6.3          1          1   \n",
      "3             0               14.4                 6.1          0          1   \n",
      "4             1               13.5                 5.9          0          0   \n",
      "...         ...                ...                 ...        ...        ...   \n",
      "4996          1               13.6                 5.1          0          0   \n",
      "4997          1               11.9                 5.4          0          0   \n",
      "4998          1               12.9                 5.7          0          0   \n",
      "4999          1               13.2                 6.2          0          0   \n",
      "5000          1               15.4                 5.4          1          1   \n",
      "\n",
      "      lips_thin  distance_nose_to_lip_long  gender  \n",
      "0             1                          1       1  \n",
      "1             1                          0       0  \n",
      "2             1                          1       1  \n",
      "3             1                          1       1  \n",
      "4             0                          0       0  \n",
      "...         ...                        ...     ...  \n",
      "4996          0                          0       0  \n",
      "4997          0                          0       0  \n",
      "4998          0                          0       0  \n",
      "4999          0                          0       0  \n",
      "5000          1                          1       1  \n",
      "\n",
      "[5001 rows x 8 columns]\n"
     ]
    }
   ],
   "source": [
    "data = pd.read_csv(\"dataset/gender_classification_v7.csv\")\n",
    "\n",
    "data=data.replace(\"Male\",1)\n",
    "data=data.replace(\"Female\",0)\n",
    "print(data)"
   ]
  },
  {
   "cell_type": "code",
   "execution_count": 17,
   "metadata": {},
   "outputs": [
    {
     "name": "stdout",
     "output_type": "stream",
     "text": [
      "                           long_hair  forehead_width_cm  forehead_height_cm  \\\n",
      "long_hair                   1.000000          -0.006530           -0.017233   \n",
      "forehead_width_cm          -0.006530           1.000000            0.088596   \n",
      "forehead_height_cm         -0.017233           0.088596            1.000000   \n",
      "nose_wide                   0.001216           0.251648            0.211655   \n",
      "nose_long                   0.014432           0.257368            0.194120   \n",
      "lips_thin                   0.011287           0.258564            0.205441   \n",
      "distance_nose_to_lip_long  -0.025794           0.251328            0.215292   \n",
      "gender                     -0.010767           0.334125            0.277190   \n",
      "\n",
      "                           nose_wide  nose_long  lips_thin  \\\n",
      "long_hair                   0.001216   0.014432   0.011287   \n",
      "forehead_width_cm           0.251648   0.257368   0.258564   \n",
      "forehead_height_cm          0.211655   0.194120   0.205441   \n",
      "nose_wide                   1.000000   0.565192   0.557615   \n",
      "nose_long                   0.565192   1.000000   0.561229   \n",
      "lips_thin                   0.557615   0.561229   1.000000   \n",
      "distance_nose_to_lip_long   0.569303   0.559794   0.565312   \n",
      "gender                      0.758502   0.744147   0.743319   \n",
      "\n",
      "                           distance_nose_to_lip_long    gender  \n",
      "long_hair                                  -0.025794 -0.010767  \n",
      "forehead_width_cm                           0.251328  0.334125  \n",
      "forehead_height_cm                          0.215292  0.277190  \n",
      "nose_wide                                   0.569303  0.758502  \n",
      "nose_long                                   0.559794  0.744147  \n",
      "lips_thin                                   0.565312  0.743319  \n",
      "distance_nose_to_lip_long                   1.000000  0.754850  \n",
      "gender                                      0.754850  1.000000  \n"
     ]
    }
   ],
   "source": [
    "correlation = data.corr()\n",
    "print(correlation)"
   ]
  },
  {
   "cell_type": "code",
   "execution_count": 19,
   "metadata": {},
   "outputs": [],
   "source": [
    "X = data.drop(labels = [\"gender\"],axis=1)\n",
    "Y = data[\"gender\"]"
   ]
  },
  {
   "cell_type": "code",
   "execution_count": 33,
   "metadata": {},
   "outputs": [
    {
     "name": "stdout",
     "output_type": "stream",
     "text": [
      "Do chinh xac cua mo hinh: 0.9605714285714285\n",
      "Do chinh xac cua du doan: 0.9513657561625583\n"
     ]
    }
   ],
   "source": [
    "\n",
    "from sklearn.linear_model import Perceptron\n",
    "from sklearn.model_selection import train_test_split\n",
    "\n",
    "X_train,X_test,Y_train,Y_test = train_test_split(X,Y,test_size=0.3,shuffle=True)\n",
    "model = Perceptron(max_iter=1000,eta0 =0.2,random_state=0)\n",
    "model.fit(X_train,Y_train)\n",
    "print(\"Do chinh xac cua mo hinh:\",model.score(X_train,Y_train))\n",
    "print(\"Do chinh xac cua du doan:\",model.score(X_test,Y_test))"
   ]
  },
  {
   "cell_type": "code",
   "execution_count": 35,
   "metadata": {},
   "outputs": [
    {
     "name": "stdout",
     "output_type": "stream",
     "text": [
      "[0]\n"
     ]
    },
    {
     "name": "stderr",
     "output_type": "stream",
     "text": [
      "/home/tan/Carla_envi/Car_enviroment/lib/python3.8/site-packages/sklearn/base.py:450: UserWarning: X does not have valid feature names, but Perceptron was fitted with feature names\n",
      "  warnings.warn(\n"
     ]
    }
   ],
   "source": [
    "predictor = pd.DataFrame([1,13.6,6,0,0,0,0]).T # female\n",
    "y_predict = model.predict(X= predictor)\n",
    "print(y_predict)"
   ]
  },
  {
   "cell_type": "code",
   "execution_count": 36,
   "metadata": {},
   "outputs": [
    {
     "name": "stdout",
     "output_type": "stream",
     "text": [
      "[1]\n"
     ]
    },
    {
     "name": "stderr",
     "output_type": "stream",
     "text": [
      "/home/tan/Carla_envi/Car_enviroment/lib/python3.8/site-packages/sklearn/base.py:450: UserWarning: X does not have valid feature names, but Perceptron was fitted with feature names\n",
      "  warnings.warn(\n"
     ]
    }
   ],
   "source": [
    "predictor = pd.DataFrame([1,15.4,5.4,1,1,1,1]).T # male\n",
    "y_predict = model.predict(X= predictor)\n",
    "print(y_predict)"
   ]
  }
 ],
 "metadata": {
  "kernelspec": {
   "display_name": "Python 3.8.10 ('Car_enviroment')",
   "language": "python",
   "name": "python3"
  },
  "language_info": {
   "codemirror_mode": {
    "name": "ipython",
    "version": 3
   },
   "file_extension": ".py",
   "mimetype": "text/x-python",
   "name": "python",
   "nbconvert_exporter": "python",
   "pygments_lexer": "ipython3",
   "version": "3.8.10"
  },
  "orig_nbformat": 4,
  "vscode": {
   "interpreter": {
    "hash": "adc40417d40e2457938e3d78b2a2e0058813177b0c69e12c033c503d15659ee9"
   }
  }
 },
 "nbformat": 4,
 "nbformat_minor": 2
}
