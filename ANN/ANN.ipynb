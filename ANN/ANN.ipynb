{
 "cells": [
  {
   "cell_type": "code",
   "execution_count": 68,
   "metadata": {},
   "outputs": [],
   "source": [
    "import numpy as np\n",
    "import matplotlib.pyplot as plt"
   ]
  },
  {
   "cell_type": "markdown",
   "metadata": {},
   "source": [
    "## model.add(Dense(imput_dim =2 , unit =10, activation = \"relu\"))"
   ]
  },
  {
   "cell_type": "code",
   "execution_count": 69,
   "metadata": {},
   "outputs": [
    {
     "data": {
      "text/plain": [
       "(60000, 28, 28)"
      ]
     },
     "execution_count": 69,
     "metadata": {},
     "output_type": "execute_result"
    }
   ],
   "source": [
    "from keras.datasets import mnist\n",
    "\n",
    "(train_img,train_label),(test_img,test_label) = mnist.load_data()\n",
    "\n",
    "train_img.shape"
   ]
  },
  {
   "cell_type": "code",
   "execution_count": 70,
   "metadata": {},
   "outputs": [
    {
     "name": "stdout",
     "output_type": "stream",
     "text": [
      "4\n"
     ]
    },
    {
     "data": {
      "image/png": "[encoded data removed]",
      "text/plain": [
       "<Figure size 640x480 with 1 Axes>"
      ]
     },
     "metadata": {},
     "output_type": "display_data"
    }
   ],
   "source": [
    "plt.imshow(train_img[9],cmap = plt.cm.binary)\n",
    "print(train_label[9])\n",
    "plt.show()"
   ]
  },
  {
   "cell_type": "code",
   "execution_count": 71,
   "metadata": {},
   "outputs": [
    {
     "data": {
      "text/plain": [
       "(60000, 28, 28)"
      ]
     },
     "execution_count": 71,
     "metadata": {},
     "output_type": "execute_result"
    }
   ],
   "source": [
    "train_img.shape"
   ]
  },
  {
   "cell_type": "code",
   "execution_count": 72,
   "metadata": {},
   "outputs": [],
   "source": [
    "from keras import models\n",
    "from keras import layers\n",
    "model = models.Sequential()\n",
    "model.add(layers.Dense(512,activation=\"relu\",input_shape=(28*28,)))\n",
    "model.add(layers.Dense(10,activation=\"softmax\"))\n",
    "model.compile(optimizer= \"rmsprop\",loss = \"categorical_crossentropy\",metrics=[\"accuracy\"])"
   ]
  },
  {
   "cell_type": "code",
   "execution_count": 73,
   "metadata": {},
   "outputs": [],
   "source": [
    "# reshape image\n",
    "from keras.utils import to_categorical\n",
    "train_img = train_img.reshape((60000,28*28))\n",
    "train_img = train_img.astype(\"float32\")/255\n",
    "\n",
    "test_img = test_img.reshape((10000,28*28))\n",
    "test_img = test_img.astype(\"float32\")/255\n",
    "\n",
    "train_label = to_categorical(train_label)\n",
    "test_label  = to_categorical(test_label)\n",
    "\n"
   ]
  },
  {
   "cell_type": "code",
   "execution_count": 74,
   "metadata": {},
   "outputs": [
    {
     "name": "stdout",
     "output_type": "stream",
     "text": [
      "Epoch 1/100\n",
      "469/469 [==============================] - 2s 3ms/step - loss: 0.2577 - accuracy: 0.9253 - val_loss: 0.1241 - val_accuracy: 0.9619\n",
      "Epoch 2/100\n",
      "469/469 [==============================] - 2s 3ms/step - loss: 0.1039 - accuracy: 0.9702 - val_loss: 0.0911 - val_accuracy: 0.9721\n",
      "Epoch 3/100\n",
      "469/469 [==============================] - 2s 3ms/step - loss: 0.0689 - accuracy: 0.9795 - val_loss: 0.0709 - val_accuracy: 0.9773\n",
      "Epoch 4/100\n",
      "469/469 [==============================] - 2s 3ms/step - loss: 0.0503 - accuracy: 0.9851 - val_loss: 0.0707 - val_accuracy: 0.9782\n",
      "Epoch 5/100\n",
      "469/469 [==============================] - 2s 3ms/step - loss: 0.0375 - accuracy: 0.9889 - val_loss: 0.0781 - val_accuracy: 0.9781\n",
      "Epoch 6/100\n",
      "469/469 [==============================] - 2s 3ms/step - loss: 0.0287 - accuracy: 0.9917 - val_loss: 0.0654 - val_accuracy: 0.9796\n",
      "Epoch 7/100\n",
      "469/469 [==============================] - 2s 3ms/step - loss: 0.0223 - accuracy: 0.9930 - val_loss: 0.0726 - val_accuracy: 0.9794\n",
      "Epoch 8/100\n",
      "469/469 [==============================] - 2s 3ms/step - loss: 0.0168 - accuracy: 0.9950 - val_loss: 0.0642 - val_accuracy: 0.9815\n",
      "Epoch 9/100\n",
      "469/469 [==============================] - 2s 3ms/step - loss: 0.0130 - accuracy: 0.9964 - val_loss: 0.0688 - val_accuracy: 0.9818\n",
      "Epoch 10/100\n",
      "469/469 [==============================] - 2s 3ms/step - loss: 0.0101 - accuracy: 0.9972 - val_loss: 0.0763 - val_accuracy: 0.9807\n",
      "Epoch 11/100\n",
      "469/469 [==============================] - 2s 3ms/step - loss: 0.0076 - accuracy: 0.9979 - val_loss: 0.0680 - val_accuracy: 0.9829\n",
      "Epoch 12/100\n",
      "469/469 [==============================] - 2s 3ms/step - loss: 0.0056 - accuracy: 0.9985 - val_loss: 0.0811 - val_accuracy: 0.9812\n",
      "Epoch 13/100\n",
      "469/469 [==============================] - 2s 3ms/step - loss: 0.0045 - accuracy: 0.9988 - val_loss: 0.0830 - val_accuracy: 0.9813\n",
      "Epoch 14/100\n",
      "469/469 [==============================] - 2s 3ms/step - loss: 0.0039 - accuracy: 0.9987 - val_loss: 0.0898 - val_accuracy: 0.9806\n",
      "Epoch 15/100\n",
      "469/469 [==============================] - 2s 3ms/step - loss: 0.0031 - accuracy: 0.9991 - val_loss: 0.0916 - val_accuracy: 0.9804\n",
      "Epoch 16/100\n",
      "469/469 [==============================] - 2s 3ms/step - loss: 0.0022 - accuracy: 0.9994 - val_loss: 0.0884 - val_accuracy: 0.9818\n",
      "Epoch 17/100\n",
      "469/469 [==============================] - 2s 3ms/step - loss: 0.0016 - accuracy: 0.9996 - val_loss: 0.0866 - val_accuracy: 0.9828\n",
      "Epoch 18/100\n",
      "469/469 [==============================] - 2s 3ms/step - loss: 0.0013 - accuracy: 0.9997 - val_loss: 0.0925 - val_accuracy: 0.9821\n",
      "Epoch 19/100\n",
      "469/469 [==============================] - 2s 3ms/step - loss: 0.0011 - accuracy: 0.9998 - val_loss: 0.0962 - val_accuracy: 0.9816\n",
      "Epoch 20/100\n",
      "469/469 [==============================] - 2s 3ms/step - loss: 8.2952e-04 - accuracy: 0.9997 - val_loss: 0.1036 - val_accuracy: 0.9824\n",
      "Epoch 21/100\n",
      "469/469 [==============================] - 2s 3ms/step - loss: 6.4466e-04 - accuracy: 0.9998 - val_loss: 0.0994 - val_accuracy: 0.9825\n",
      "Epoch 22/100\n",
      "469/469 [==============================] - 2s 3ms/step - loss: 7.9451e-04 - accuracy: 0.9998 - val_loss: 0.0992 - val_accuracy: 0.9817\n",
      "Epoch 23/100\n",
      "469/469 [==============================] - 2s 3ms/step - loss: 4.3990e-04 - accuracy: 0.9999 - val_loss: 0.1082 - val_accuracy: 0.9821\n",
      "Epoch 24/100\n",
      "469/469 [==============================] - 2s 3ms/step - loss: 3.4748e-04 - accuracy: 0.9999 - val_loss: 0.1079 - val_accuracy: 0.9826\n",
      "Epoch 25/100\n",
      "469/469 [==============================] - 2s 3ms/step - loss: 2.3600e-04 - accuracy: 0.9999 - val_loss: 0.1155 - val_accuracy: 0.9816\n",
      "Epoch 26/100\n",
      "469/469 [==============================] - 2s 3ms/step - loss: 2.5758e-04 - accuracy: 0.9999 - val_loss: 0.1136 - val_accuracy: 0.9818\n",
      "Epoch 27/100\n",
      "469/469 [==============================] - 2s 3ms/step - loss: 1.1745e-04 - accuracy: 1.0000 - val_loss: 0.1242 - val_accuracy: 0.9822\n",
      "Epoch 28/100\n",
      "469/469 [==============================] - 2s 3ms/step - loss: 1.7611e-04 - accuracy: 0.9999 - val_loss: 0.1195 - val_accuracy: 0.9826\n",
      "Epoch 29/100\n",
      "469/469 [==============================] - 2s 3ms/step - loss: 2.0733e-04 - accuracy: 0.9999 - val_loss: 0.1175 - val_accuracy: 0.9834\n",
      "Epoch 30/100\n",
      "469/469 [==============================] - 2s 3ms/step - loss: 1.4373e-04 - accuracy: 0.9999 - val_loss: 0.1225 - val_accuracy: 0.9821\n",
      "Epoch 31/100\n",
      "469/469 [==============================] - 2s 3ms/step - loss: 8.7134e-05 - accuracy: 1.0000 - val_loss: 0.1365 - val_accuracy: 0.9827\n",
      "Epoch 32/100\n",
      "469/469 [==============================] - 2s 3ms/step - loss: 5.9216e-05 - accuracy: 1.0000 - val_loss: 0.1300 - val_accuracy: 0.9824\n",
      "Epoch 33/100\n",
      "469/469 [==============================] - 2s 3ms/step - loss: 5.8409e-05 - accuracy: 1.0000 - val_loss: 0.1473 - val_accuracy: 0.9813\n",
      "Epoch 34/100\n",
      "469/469 [==============================] - 2s 3ms/step - loss: 6.3068e-05 - accuracy: 1.0000 - val_loss: 0.1306 - val_accuracy: 0.9827\n",
      "Epoch 35/100\n",
      "469/469 [==============================] - 2s 3ms/step - loss: 4.0153e-05 - accuracy: 1.0000 - val_loss: 0.1343 - val_accuracy: 0.9818\n",
      "Epoch 36/100\n",
      "469/469 [==============================] - 2s 3ms/step - loss: 3.0581e-05 - accuracy: 1.0000 - val_loss: 0.1388 - val_accuracy: 0.9834\n",
      "Epoch 37/100\n",
      "469/469 [==============================] - 2s 3ms/step - loss: 2.9438e-05 - accuracy: 1.0000 - val_loss: 0.1353 - val_accuracy: 0.9834\n",
      "Epoch 38/100\n",
      "469/469 [==============================] - 2s 3ms/step - loss: 9.0302e-06 - accuracy: 1.0000 - val_loss: 0.1458 - val_accuracy: 0.9825\n",
      "Epoch 39/100\n",
      "469/469 [==============================] - 2s 3ms/step - loss: 5.6477e-06 - accuracy: 1.0000 - val_loss: 0.1437 - val_accuracy: 0.9824\n",
      "Epoch 40/100\n",
      "469/469 [==============================] - 2s 3ms/step - loss: 5.9610e-06 - accuracy: 1.0000 - val_loss: 0.1497 - val_accuracy: 0.9816\n",
      "Epoch 41/100\n",
      "469/469 [==============================] - 2s 3ms/step - loss: 2.7731e-06 - accuracy: 1.0000 - val_loss: 0.1452 - val_accuracy: 0.9836\n",
      "Epoch 42/100\n",
      "469/469 [==============================] - 2s 3ms/step - loss: 8.2121e-07 - accuracy: 1.0000 - val_loss: 0.1452 - val_accuracy: 0.9839\n",
      "Epoch 43/100\n",
      "469/469 [==============================] - 2s 3ms/step - loss: 9.3172e-08 - accuracy: 1.0000 - val_loss: 0.1417 - val_accuracy: 0.9841\n",
      "Epoch 44/100\n",
      "469/469 [==============================] - 2s 3ms/step - loss: 3.3814e-08 - accuracy: 1.0000 - val_loss: 0.1437 - val_accuracy: 0.9840\n",
      "Epoch 45/100\n",
      "469/469 [==============================] - 2s 3ms/step - loss: 2.3959e-08 - accuracy: 1.0000 - val_loss: 0.1442 - val_accuracy: 0.9839\n",
      "Epoch 46/100\n",
      "469/469 [==============================] - 2s 3ms/step - loss: 1.9809e-08 - accuracy: 1.0000 - val_loss: 0.1459 - val_accuracy: 0.9841\n",
      "Epoch 47/100\n",
      "469/469 [==============================] - 2s 3ms/step - loss: 1.8030e-08 - accuracy: 1.0000 - val_loss: 0.1466 - val_accuracy: 0.9838\n",
      "Epoch 48/100\n",
      "469/469 [==============================] - 2s 3ms/step - loss: 1.6131e-08 - accuracy: 1.0000 - val_loss: 0.1471 - val_accuracy: 0.9840\n",
      "Epoch 49/100\n",
      "469/469 [==============================] - 2s 3ms/step - loss: 1.4887e-08 - accuracy: 1.0000 - val_loss: 0.1466 - val_accuracy: 0.9839\n",
      "Epoch 50/100\n",
      "469/469 [==============================] - 2s 3ms/step - loss: 1.3870e-08 - accuracy: 1.0000 - val_loss: 0.1474 - val_accuracy: 0.9838\n",
      "Epoch 51/100\n",
      "469/469 [==============================] - 2s 3ms/step - loss: 1.3034e-08 - accuracy: 1.0000 - val_loss: 0.1481 - val_accuracy: 0.9839\n",
      "Epoch 52/100\n",
      "469/469 [==============================] - 2s 3ms/step - loss: 1.2372e-08 - accuracy: 1.0000 - val_loss: 0.1481 - val_accuracy: 0.9838\n",
      "Epoch 53/100\n",
      "469/469 [==============================] - 2s 3ms/step - loss: 1.1673e-08 - accuracy: 1.0000 - val_loss: 0.1490 - val_accuracy: 0.9838\n",
      "Epoch 54/100\n",
      "469/469 [==============================] - 2s 3ms/step - loss: 1.1232e-08 - accuracy: 1.0000 - val_loss: 0.1491 - val_accuracy: 0.9839\n",
      "Epoch 55/100\n",
      "469/469 [==============================] - 2s 3ms/step - loss: 1.0602e-08 - accuracy: 1.0000 - val_loss: 0.1492 - val_accuracy: 0.9838\n",
      "Epoch 56/100\n",
      "469/469 [==============================] - 2s 3ms/step - loss: 1.0252e-08 - accuracy: 1.0000 - val_loss: 0.1496 - val_accuracy: 0.9839\n",
      "Epoch 57/100\n",
      "469/469 [==============================] - 2s 3ms/step - loss: 9.8169e-09 - accuracy: 1.0000 - val_loss: 0.1500 - val_accuracy: 0.9837\n",
      "Epoch 58/100\n",
      "469/469 [==============================] - 2s 3ms/step - loss: 9.4573e-09 - accuracy: 1.0000 - val_loss: 0.1501 - val_accuracy: 0.9838\n",
      "Epoch 59/100\n",
      "469/469 [==============================] - 2s 3ms/step - loss: 9.1056e-09 - accuracy: 1.0000 - val_loss: 0.1503 - val_accuracy: 0.9838\n",
      "Epoch 60/100\n",
      "469/469 [==============================] - 2s 3ms/step - loss: 8.8314e-09 - accuracy: 1.0000 - val_loss: 0.1507 - val_accuracy: 0.9838\n",
      "Epoch 61/100\n",
      "469/469 [==============================] - 2s 3ms/step - loss: 8.4380e-09 - accuracy: 1.0000 - val_loss: 0.1510 - val_accuracy: 0.9840\n",
      "Epoch 62/100\n",
      "469/469 [==============================] - 2s 4ms/step - loss: 8.3168e-09 - accuracy: 1.0000 - val_loss: 0.1513 - val_accuracy: 0.9839\n",
      "Epoch 63/100\n",
      "469/469 [==============================] - 2s 4ms/step - loss: 7.9950e-09 - accuracy: 1.0000 - val_loss: 0.1515 - val_accuracy: 0.9837\n",
      "Epoch 64/100\n",
      "469/469 [==============================] - 2s 3ms/step - loss: 7.7983e-09 - accuracy: 1.0000 - val_loss: 0.1518 - val_accuracy: 0.9838\n",
      "Epoch 65/100\n",
      "469/469 [==============================] - 2s 4ms/step - loss: 7.6373e-09 - accuracy: 1.0000 - val_loss: 0.1518 - val_accuracy: 0.9840\n",
      "Epoch 66/100\n",
      "469/469 [==============================] - 2s 4ms/step - loss: 7.4108e-09 - accuracy: 1.0000 - val_loss: 0.1519 - val_accuracy: 0.9836\n",
      "Epoch 67/100\n",
      "469/469 [==============================] - 2s 3ms/step - loss: 7.2598e-09 - accuracy: 1.0000 - val_loss: 0.1523 - val_accuracy: 0.9839\n",
      "Epoch 68/100\n",
      "469/469 [==============================] - 2s 3ms/step - loss: 7.1069e-09 - accuracy: 1.0000 - val_loss: 0.1524 - val_accuracy: 0.9836\n",
      "Epoch 69/100\n",
      "469/469 [==============================] - 2s 4ms/step - loss: 6.9261e-09 - accuracy: 1.0000 - val_loss: 0.1526 - val_accuracy: 0.9836\n",
      "Epoch 70/100\n",
      "469/469 [==============================] - 2s 3ms/step - loss: 6.7532e-09 - accuracy: 1.0000 - val_loss: 0.1530 - val_accuracy: 0.9836\n",
      "Epoch 71/100\n",
      "469/469 [==============================] - 2s 3ms/step - loss: 6.7274e-09 - accuracy: 1.0000 - val_loss: 0.1533 - val_accuracy: 0.9836\n",
      "Epoch 72/100\n",
      "469/469 [==============================] - 2s 3ms/step - loss: 6.5307e-09 - accuracy: 1.0000 - val_loss: 0.1533 - val_accuracy: 0.9836\n",
      "Epoch 73/100\n",
      "469/469 [==============================] - 2s 3ms/step - loss: 6.4254e-09 - accuracy: 1.0000 - val_loss: 0.1535 - val_accuracy: 0.9835\n",
      "Epoch 74/100\n",
      "469/469 [==============================] - 2s 3ms/step - loss: 6.3439e-09 - accuracy: 1.0000 - val_loss: 0.1537 - val_accuracy: 0.9836\n",
      "Epoch 75/100\n",
      "469/469 [==============================] - 2s 4ms/step - loss: 6.2048e-09 - accuracy: 1.0000 - val_loss: 0.1541 - val_accuracy: 0.9836\n",
      "Epoch 76/100\n",
      "469/469 [==============================] - 2s 3ms/step - loss: 6.0697e-09 - accuracy: 1.0000 - val_loss: 0.1542 - val_accuracy: 0.9836\n",
      "Epoch 77/100\n",
      "469/469 [==============================] - 2s 4ms/step - loss: 6.0022e-09 - accuracy: 1.0000 - val_loss: 0.1544 - val_accuracy: 0.9836\n",
      "Epoch 78/100\n",
      "469/469 [==============================] - 2s 3ms/step - loss: 5.8750e-09 - accuracy: 1.0000 - val_loss: 0.1546 - val_accuracy: 0.9835\n",
      "Epoch 79/100\n",
      "469/469 [==============================] - 2s 3ms/step - loss: 5.8055e-09 - accuracy: 1.0000 - val_loss: 0.1548 - val_accuracy: 0.9834\n",
      "Epoch 80/100\n",
      "469/469 [==============================] - 2s 4ms/step - loss: 5.7201e-09 - accuracy: 1.0000 - val_loss: 0.1549 - val_accuracy: 0.9835\n",
      "Epoch 81/100\n",
      "469/469 [==============================] - 2s 4ms/step - loss: 5.6823e-09 - accuracy: 1.0000 - val_loss: 0.1551 - val_accuracy: 0.9834\n",
      "Epoch 82/100\n",
      "469/469 [==============================] - 2s 4ms/step - loss: 5.6108e-09 - accuracy: 1.0000 - val_loss: 0.1552 - val_accuracy: 0.9836\n",
      "Epoch 83/100\n",
      "469/469 [==============================] - 2s 4ms/step - loss: 5.5393e-09 - accuracy: 1.0000 - val_loss: 0.1554 - val_accuracy: 0.9835\n",
      "Epoch 84/100\n",
      "469/469 [==============================] - 2s 3ms/step - loss: 5.4657e-09 - accuracy: 1.0000 - val_loss: 0.1555 - val_accuracy: 0.9835\n",
      "Epoch 85/100\n",
      "469/469 [==============================] - 2s 3ms/step - loss: 5.3843e-09 - accuracy: 1.0000 - val_loss: 0.1560 - val_accuracy: 0.9835\n",
      "Epoch 86/100\n",
      "469/469 [==============================] - 2s 4ms/step - loss: 5.4200e-09 - accuracy: 1.0000 - val_loss: 0.1561 - val_accuracy: 0.9834\n",
      "Epoch 87/100\n",
      "469/469 [==============================] - 2s 4ms/step - loss: 5.2949e-09 - accuracy: 1.0000 - val_loss: 0.1562 - val_accuracy: 0.9834\n",
      "Epoch 88/100\n",
      "469/469 [==============================] - 2s 4ms/step - loss: 5.2035e-09 - accuracy: 1.0000 - val_loss: 0.1564 - val_accuracy: 0.9836\n",
      "Epoch 89/100\n",
      "469/469 [==============================] - 2s 4ms/step - loss: 5.2055e-09 - accuracy: 1.0000 - val_loss: 0.1566 - val_accuracy: 0.9833\n",
      "Epoch 90/100\n",
      "469/469 [==============================] - 2s 4ms/step - loss: 5.1816e-09 - accuracy: 1.0000 - val_loss: 0.1568 - val_accuracy: 0.9834\n",
      "Epoch 91/100\n",
      "469/469 [==============================] - 2s 4ms/step - loss: 5.0803e-09 - accuracy: 1.0000 - val_loss: 0.1569 - val_accuracy: 0.9836\n",
      "Epoch 92/100\n",
      "469/469 [==============================] - 2s 4ms/step - loss: 5.0783e-09 - accuracy: 1.0000 - val_loss: 0.1571 - val_accuracy: 0.9834\n",
      "Epoch 93/100\n",
      "469/469 [==============================] - 2s 4ms/step - loss: 4.9710e-09 - accuracy: 1.0000 - val_loss: 0.1574 - val_accuracy: 0.9835\n",
      "Epoch 94/100\n",
      "469/469 [==============================] - 2s 4ms/step - loss: 5.0465e-09 - accuracy: 1.0000 - val_loss: 0.1575 - val_accuracy: 0.9836\n",
      "Epoch 95/100\n",
      "469/469 [==============================] - 2s 4ms/step - loss: 4.9631e-09 - accuracy: 1.0000 - val_loss: 0.1577 - val_accuracy: 0.9834\n",
      "Epoch 96/100\n",
      "469/469 [==============================] - 2s 4ms/step - loss: 4.9869e-09 - accuracy: 1.0000 - val_loss: 0.1577 - val_accuracy: 0.9837\n",
      "Epoch 97/100\n",
      "469/469 [==============================] - 2s 4ms/step - loss: 4.9253e-09 - accuracy: 1.0000 - val_loss: 0.1581 - val_accuracy: 0.9835\n",
      "Epoch 98/100\n",
      "469/469 [==============================] - 2s 4ms/step - loss: 4.8995e-09 - accuracy: 1.0000 - val_loss: 0.1583 - val_accuracy: 0.9834\n",
      "Epoch 99/100\n",
      "469/469 [==============================] - 2s 3ms/step - loss: 4.8776e-09 - accuracy: 1.0000 - val_loss: 0.1581 - val_accuracy: 0.9837\n",
      "Epoch 100/100\n",
      "469/469 [==============================] - 2s 3ms/step - loss: 4.8796e-09 - accuracy: 1.0000 - val_loss: 0.1581 - val_accuracy: 0.9836\n"
     ]
    },
    {
     "data": {
      "text/plain": [
       "<keras.callbacks.History at 0x7f7faf3ffe50>"
      ]
     },
     "execution_count": 74,
     "metadata": {},
     "output_type": "execute_result"
    }
   ],
   "source": [
    "model.fit(train_img,train_label,epochs =100,batch_size =128,validation_data=(test_img,test_label))"
   ]
  },
  {
   "cell_type": "code",
   "execution_count": 90,
   "metadata": {},
   "outputs": [
    {
     "name": "stdout",
     "output_type": "stream",
     "text": [
      "313/313 [==============================] - 0s 791us/step - loss: 0.1581 - accuracy: 0.9836\n",
      "test accuracy: 0.9836000204086304\n",
      "test loss 0.15814882516860962\n"
     ]
    }
   ],
   "source": [
    "test_loss, test_acc = model.evaluate(test_img,test_label)\n",
    "print(\"test accuracy:\", test_acc)\n",
    "print(\"test loss\",test_loss)"
   ]
  },
  {
   "cell_type": "code",
   "execution_count": 91,
   "metadata": {},
   "outputs": [
    {
     "name": "stderr",
     "output_type": "stream",
     "text": [
      "/home/tan/Carla_envi/Car_enviroment/lib/python3.8/site-packages/keras/engine/data_adapter.py:707: VisibleDeprecationWarning: Creating an ndarray from ragged nested sequences (which is a list-or-tuple of lists-or-tuples-or ndarrays with different lengths or shapes) is deprecated. If you meant to do this, you must specify 'dtype=object' when creating the ndarray.\n",
      "  x = np.asarray(x)\n"
     ]
    },
    {
     "ename": "ValueError",
     "evalue": "Failed to convert a NumPy array to a Tensor (Unsupported object type int).",
     "output_type": "error",
     "traceback": [
      "\u001b[0;31m---------------------------------------------------------------------------\u001b[0m",
      "\u001b[0;31mValueError\u001b[0m                                Traceback (most recent call last)",
      "Cell \u001b[0;32mIn [91], line 1\u001b[0m\n\u001b[0;32m----> 1\u001b[0m result \u001b[39m=\u001b[39mmodel\u001b[39m.\u001b[39mpredict([\u001b[39m1\u001b[39m,test_img[\u001b[39m1\u001b[39m]])\n",
      "File \u001b[0;32m~/Carla_envi/Car_enviroment/lib/python3.8/site-packages/keras/utils/traceback_utils.py:70\u001b[0m, in \u001b[0;36mfilter_traceback.<locals>.error_handler\u001b[0;34m(*args, **kwargs)\u001b[0m\n\u001b[1;32m     67\u001b[0m     filtered_tb \u001b[39m=\u001b[39m _process_traceback_frames(e\u001b[39m.\u001b[39m__traceback__)\n\u001b[1;32m     68\u001b[0m     \u001b[39m# To get the full stack trace, call:\u001b[39;00m\n\u001b[1;32m     69\u001b[0m     \u001b[39m# `tf.debugging.disable_traceback_filtering()`\u001b[39;00m\n\u001b[0;32m---> 70\u001b[0m     \u001b[39mraise\u001b[39;00m e\u001b[39m.\u001b[39mwith_traceback(filtered_tb) \u001b[39mfrom\u001b[39;00m \u001b[39mNone\u001b[39m\n\u001b[1;32m     71\u001b[0m \u001b[39mfinally\u001b[39;00m:\n\u001b[1;32m     72\u001b[0m     \u001b[39mdel\u001b[39;00m filtered_tb\n",
      "File \u001b[0;32m~/Carla_envi/Car_enviroment/lib/python3.8/site-packages/tensorflow/python/framework/constant_op.py:102\u001b[0m, in \u001b[0;36mconvert_to_eager_tensor\u001b[0;34m(value, ctx, dtype)\u001b[0m\n\u001b[1;32m    100\u001b[0m     dtype \u001b[39m=\u001b[39m dtypes\u001b[39m.\u001b[39mas_dtype(dtype)\u001b[39m.\u001b[39mas_datatype_enum\n\u001b[1;32m    101\u001b[0m ctx\u001b[39m.\u001b[39mensure_initialized()\n\u001b[0;32m--> 102\u001b[0m \u001b[39mreturn\u001b[39;00m ops\u001b[39m.\u001b[39;49mEagerTensor(value, ctx\u001b[39m.\u001b[39;49mdevice_name, dtype)\n",
      "\u001b[0;31mValueError\u001b[0m: Failed to convert a NumPy array to a Tensor (Unsupported object type int)."
     ]
    }
   ],
   "source": [
    "result =model.predict([1,test_img[1]])\n"
   ]
  },
  {
   "cell_type": "code",
   "execution_count": null,
   "metadata": {},
   "outputs": [],
   "source": [
    "import cv2 as cv\n",
    "image = cv.imread(file, cv.IMREAD_GRAYSCALE)\n",
    "image = cv.resize(image, (28,28))"
   ]
  }
 ],
 "metadata": {
  "kernelspec": {
   "display_name": "Python 3.8.10 ('Car_enviroment')",
   "language": "python",
   "name": "python3"
  },
  "language_info": {
   "codemirror_mode": {
    "name": "ipython",
    "version": 3
   },
   "file_extension": ".py",
   "mimetype": "text/x-python",
   "name": "python",
   "nbconvert_exporter": "python",
   "pygments_lexer": "ipython3",
   "version": "3.8.10"
  },
  "orig_nbformat": 4,
  "vscode": {
   "interpreter": {
    "hash": "adc40417d40e2457938e3d78b2a2e0058813177b0c69e12c033c503d15659ee9"
   }
  }
 },
 "nbformat": 4,
 "nbformat_minor": 2
}
