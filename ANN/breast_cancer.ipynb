{
 "cells": [
  {
   "cell_type": "code",
   "execution_count": 1,
   "metadata": {},
   "outputs": [],
   "source": [
    "import pandas as pd\n",
    "import matplotlib.pyplot as plt\n",
    "import numpy as np"
   ]
  },
  {
   "cell_type": "code",
   "execution_count": 2,
   "metadata": {},
   "outputs": [
    {
     "name": "stdout",
     "output_type": "stream",
     "text": [
      "       age menopause tumor-size inv-nodes node-caps  deg-malig breast  \\\n",
      "0    40-49   premeno      15-19       0-2       yes          3  right   \n",
      "1    50-59      ge40      15-19       0-2        no          1  right   \n",
      "2    50-59      ge40      35-39       0-2        no          2   left   \n",
      "3    40-49   premeno      35-39       0-2       yes          3  right   \n",
      "4    40-49   premeno      30-34       3-5       yes          2   left   \n",
      "..     ...       ...        ...       ...       ...        ...    ...   \n",
      "281  50-59      ge40      30-34       6-8       yes          2   left   \n",
      "282  50-59   premeno      25-29       3-5       yes          2   left   \n",
      "283  30-39   premeno      30-34       6-8       yes          2  right   \n",
      "284  50-59   premeno      15-19       0-2        no          2  right   \n",
      "285  50-59      ge40      40-44       0-2        no          3   left   \n",
      "\n",
      "    breast-quad irradiat                 Class  \n",
      "0       left_up       no     recurrence-events  \n",
      "1       central       no  no-recurrence-events  \n",
      "2      left_low       no     recurrence-events  \n",
      "3      left_low      yes  no-recurrence-events  \n",
      "4      right_up       no     recurrence-events  \n",
      "..          ...      ...                   ...  \n",
      "281    left_low       no  no-recurrence-events  \n",
      "282    left_low      yes  no-recurrence-events  \n",
      "283    right_up       no  no-recurrence-events  \n",
      "284    left_low       no  no-recurrence-events  \n",
      "285    right_up       no  no-recurrence-events  \n",
      "\n",
      "[286 rows x 10 columns]\n"
     ]
    }
   ],
   "source": [
    "data = pd.read_csv(\"dataset/breast-cancer.csv\")\n",
    "print(data)"
   ]
  },
  {
   "cell_type": "code",
   "execution_count": 3,
   "metadata": {},
   "outputs": [
    {
     "name": "stdout",
     "output_type": "stream",
     "text": [
      "50-59    96\n",
      "40-49    90\n",
      "60-69    57\n",
      "30-39    36\n",
      "70-79     6\n",
      "20-29     1\n",
      "Name: age, dtype: int64\n",
      "premeno    150\n",
      "ge40       129\n",
      "lt40         7\n",
      "Name: menopause, dtype: int64\n",
      "30-34    60\n",
      "25-29    54\n",
      "20-24    50\n",
      "15-19    30\n",
      "10-14    28\n",
      "40-44    22\n",
      "35-39    19\n",
      "0-4       8\n",
      "50-54     8\n",
      "5-9       4\n",
      "45-49     3\n",
      "Name: tumor-size, dtype: int64\n",
      "left_low     110\n",
      "left_up       97\n",
      "right_up      33\n",
      "right_low     24\n",
      "central       21\n",
      "Name: breast-quad, dtype: int64\n"
     ]
    }
   ],
   "source": [
    "print(data[\"age\"].value_counts())\n",
    "print(data[\"menopause\"].value_counts())\n",
    "print(data[\"tumor-size\"].value_counts())\n",
    "print(data[\"breast-quad\"].value_counts())"
   ]
  },
  {
   "cell_type": "code",
   "execution_count": 4,
   "metadata": {},
   "outputs": [
    {
     "name": "stdout",
     "output_type": "stream",
     "text": [
      "     age  menopause tumor-size inv-nodes  node-caps  deg-malig  breast  \\\n",
      "0     45          0      15-19       0-2        1.0          3       1   \n",
      "1     55          1      15-19       0-2        0.0          1       1   \n",
      "2     55          1      35-39       0-2        0.0          2       0   \n",
      "3     45          0      35-39       0-2        1.0          3       1   \n",
      "4     45          0      30-34       3-5        1.0          2       0   \n",
      "..   ...        ...        ...       ...        ...        ...     ...   \n",
      "281   55          1      30-34       6-8        1.0          2       0   \n",
      "282   55          0      25-29       3-5        1.0          2       0   \n",
      "283   35          0      30-34       6-8        1.0          2       1   \n",
      "284   55          0      15-19       0-2        0.0          2       1   \n",
      "285   55          1      40-44       0-2        0.0          3       0   \n",
      "\n",
      "    breast-quad  irradiat  Class  \n",
      "0       left_up         0      1  \n",
      "1       central         0      0  \n",
      "2      left_low         0      1  \n",
      "3      left_low         1      0  \n",
      "4      right_up         0      1  \n",
      "..          ...       ...    ...  \n",
      "281    left_low         0      0  \n",
      "282    left_low         1      0  \n",
      "283    right_up         0      0  \n",
      "284    left_low         0      0  \n",
      "285    right_up         0      0  \n",
      "\n",
      "[286 rows x 10 columns]\n"
     ]
    }
   ],
   "source": [
    "data=data.replace(\"20-29\",25)\n",
    "data=data.replace(\"30-39\",35)\n",
    "data=data.replace(\"40-49\",45)\n",
    "data=data.replace(\"50-59\",55)\n",
    "data=data.replace(\"60-69\",65)\n",
    "data=data.replace(\"70-79\",75)\n",
    "data=data.replace(\"yes\",1)\n",
    "data=data.replace(\"no\",0)\n",
    "data=data.replace(\"right\",1)\n",
    "data=data.replace(\"left\",0)\n",
    "data=data.replace(\"recurrence-events\",1)\n",
    "data=data.replace(\"no-recurrence-events\",0)\n",
    "data=data.replace(\"premeno\",0)\n",
    "data=data.replace(\"ge40\",1)\n",
    "data=data.replace(\"lt40\",0)\n",
    "\n",
    "print(data)\n"
   ]
  },
  {
   "cell_type": "code",
   "execution_count": 5,
   "metadata": {},
   "outputs": [
    {
     "name": "stdout",
     "output_type": "stream",
     "text": [
      "     age  menopause  node-caps  deg-malig  breast  irradiat\n",
      "0     45          0        1.0          3       1         0\n",
      "1     55          1        0.0          1       1         0\n",
      "2     55          1        0.0          2       0         0\n",
      "3     45          0        1.0          3       1         1\n",
      "4     45          0        1.0          2       0         0\n",
      "..   ...        ...        ...        ...     ...       ...\n",
      "281   55          1        1.0          2       0         0\n",
      "282   55          0        1.0          2       0         1\n",
      "283   35          0        1.0          2       1         0\n",
      "284   55          0        0.0          2       1         0\n",
      "285   55          1        0.0          3       0         0\n",
      "\n",
      "[277 rows x 6 columns]\n"
     ]
    }
   ],
   "source": [
    "data = data.dropna()\n",
    "\n",
    "X = data.drop([\"tumor-size\",'inv-nodes','breast-quad',\"Class\"],axis=1)\n",
    "Y = data[\"Class\"]\n",
    "print(X)"
   ]
  },
  {
   "cell_type": "code",
   "execution_count": 6,
   "metadata": {},
   "outputs": [
    {
     "name": "stdout",
     "output_type": "stream",
     "text": [
      "                age  menopause  node-caps  deg-malig    breast  irradiat  \\\n",
      "age        1.000000   0.705907  -0.044446  -0.065260 -0.041744 -0.075946   \n",
      "menopause  0.705907   1.000000  -0.015675   0.048813 -0.052571 -0.061548   \n",
      "node-caps -0.044446  -0.015675   1.000000   0.330181 -0.012345  0.333537   \n",
      "deg-malig -0.065260   0.048813   0.330181   1.000000 -0.045874  0.230821   \n",
      "breast    -0.041744  -0.052571  -0.012345  -0.045874  1.000000  0.025230   \n",
      "irradiat  -0.075946  -0.061548   0.333537   0.230821  0.025230  1.000000   \n",
      "Class     -0.086981  -0.047401   0.289002   0.330253 -0.041304  0.226020   \n",
      "\n",
      "              Class  \n",
      "age       -0.086981  \n",
      "menopause -0.047401  \n",
      "node-caps  0.289002  \n",
      "deg-malig  0.330253  \n",
      "breast    -0.041304  \n",
      "irradiat   0.226020  \n",
      "Class      1.000000  \n"
     ]
    },
    {
     "name": "stderr",
     "output_type": "stream",
     "text": [
      "/tmp/ipykernel_3775/3497694653.py:1: FutureWarning: The default value of numeric_only in DataFrame.corr is deprecated. In a future version, it will default to False. Select only valid columns or specify the value of numeric_only to silence this warning.\n",
      "  correlation = data.corr()\n"
     ]
    }
   ],
   "source": [
    "correlation = data.corr()\n",
    "print(correlation)"
   ]
  },
  {
   "cell_type": "code",
   "execution_count": 1,
   "metadata": {},
   "outputs": [
    {
     "ename": "NameError",
     "evalue": "name 'X' is not defined",
     "output_type": "error",
     "traceback": [
      "\u001b[0;31m---------------------------------------------------------------------------\u001b[0m",
      "\u001b[0;31mNameError\u001b[0m                                 Traceback (most recent call last)",
      "Cell \u001b[0;32mIn [1], line 3\u001b[0m\n\u001b[1;32m      1\u001b[0m \u001b[39mfrom\u001b[39;00m \u001b[39msklearn\u001b[39;00m\u001b[39m.\u001b[39;00m\u001b[39mlinear_model\u001b[39;00m \u001b[39mimport\u001b[39;00m Perceptron\n\u001b[1;32m      2\u001b[0m \u001b[39mfrom\u001b[39;00m \u001b[39msklearn\u001b[39;00m\u001b[39m.\u001b[39;00m\u001b[39mmodel_selection\u001b[39;00m \u001b[39mimport\u001b[39;00m train_test_split\n\u001b[0;32m----> 3\u001b[0m X_train,X_test,Y_train,Y_test \u001b[39m=\u001b[39m train_test_split(X,Y,test_size\u001b[39m=\u001b[39m\u001b[39m0.3\u001b[39m,shuffle\u001b[39m=\u001b[39m\u001b[39mTrue\u001b[39;00m)\n\u001b[1;32m      4\u001b[0m model \u001b[39m=\u001b[39m Perceptron(max_iter\u001b[39m=\u001b[39m\u001b[39m150\u001b[39m,eta0 \u001b[39m=\u001b[39m\u001b[39m0.01\u001b[39m,random_state\u001b[39m=\u001b[39m\u001b[39m0\u001b[39m)\n\u001b[1;32m      5\u001b[0m model\u001b[39m.\u001b[39mfit(X_train,Y_train)\n",
      "\u001b[0;31mNameError\u001b[0m: name 'X' is not defined"
     ]
    }
   ],
   "source": [
    "\n",
    "from sklearn.linear_model import Perceptron\n",
    "from sklearn.model_selection import train_test_split\n",
    "X_train,X_test,Y_train,Y_test = train_test_split(X,Y,test_size=0.3,shuffle=True)\n",
    "model = Perceptron(max_iter=150,eta0 =0.01,random_state=0)\n",
    "model.fit(X_train,Y_train)\n",
    "print(\"Do chinh xac cua mo hinh:\",model.score(X_train,Y_train))\n",
    "print(\"Do chinh xac cua du doan:\",model.score(X_test,Y_test))"
   ]
  },
  {
   "cell_type": "code",
   "execution_count": 49,
   "metadata": {},
   "outputs": [
    {
     "name": "stdout",
     "output_type": "stream",
     "text": [
      "[0]\n"
     ]
    },
    {
     "name": "stderr",
     "output_type": "stream",
     "text": [
      "/home/tan/Carla_envi/Car_enviroment/lib/python3.8/site-packages/sklearn/base.py:450: UserWarning: X does not have valid feature names, but Perceptron was fitted with feature names\n",
      "  warnings.warn(\n"
     ]
    }
   ],
   "source": [
    "predictor = pd.DataFrame([45,0,1,3,1,1]).T # female\n",
    "y_predict = model.predict(X= predictor)\n",
    "print(y_predict)"
   ]
  }
 ],
 "metadata": {
  "kernelspec": {
   "display_name": "Python 3.8.10 ('Car_enviroment')",
   "language": "python",
   "name": "python3"
  },
  "language_info": {
   "codemirror_mode": {
    "name": "ipython",
    "version": 3
   },
   "file_extension": ".py",
   "mimetype": "text/x-python",
   "name": "python",
   "nbconvert_exporter": "python",
   "pygments_lexer": "ipython3",
   "version": "3.8.10"
  },
  "orig_nbformat": 4,
  "vscode": {
   "interpreter": {
    "hash": "adc40417d40e2457938e3d78b2a2e0058813177b0c69e12c033c503d15659ee9"
   }
  }
 },
 "nbformat": 4,
 "nbformat_minor": 2
}
