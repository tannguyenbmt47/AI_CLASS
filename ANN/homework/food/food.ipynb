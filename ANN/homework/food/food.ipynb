{
 "cells": [
  {
   "cell_type": "code",
   "execution_count": 98,
   "metadata": {},
   "outputs": [],
   "source": [
    "import numpy as np\n",
    "import matplotlib.pyplot as plt\n",
    "from pathlib import Path"
   ]
  },
  {
   "cell_type": "code",
   "execution_count": 99,
   "metadata": {},
   "outputs": [
    {
     "name": "stdout",
     "output_type": "stream",
     "text": [
      "float64\n"
     ]
    }
   ],
   "source": [
    "# load image path\n",
    "import cv2 as cv\n",
    "from keras.utils.image_utils import load_img,img_to_array\n",
    "img_folder = Path(\"data\")\n",
    "\n",
    "label = [\"bread\",\"egg\",\"meat\",'noodle',\"rice\"]\n",
    "test_image = list([])\n",
    "X_data = np.empty((0,32*32))\n",
    "Y_label = []\n",
    "\n",
    "for i in range(len(label)):\n",
    "    train_folder = img_folder/label[i]\n",
    "    test = list(train_folder.glob(\"*.jpeg\"))\n",
    "    test_image = test_image + test\n",
    "    Y_label = Y_label+[i]*len(list(train_folder.glob(\"*.jpeg\")))\n",
    "\n",
    "for  i in range(len(test_image)):\n",
    "    image_path = str(test_image[i])\n",
    "    img = load_img(image_path,target_size=(32,32),color_mode = \"grayscale\")\n",
    "    img= img_to_array(img)\n",
    "    img = img.astype(\"float32\")/255\n",
    "    \n",
    "\n",
    "    img = np.reshape(img,(1,32*32))\n",
    "    X_data = np.vstack((X_data,img))\n",
    "print(X_data.dtype)"
   ]
  },
  {
   "cell_type": "code",
   "execution_count": null,
   "metadata": {},
   "outputs": [],
   "source": []
  },
  {
   "cell_type": "code",
   "execution_count": 101,
   "metadata": {},
   "outputs": [
    {
     "name": "stdout",
     "output_type": "stream",
     "text": [
      "Model: \"sequential_8\"\n",
      "_________________________________________________________________\n",
      " Layer (type)                Output Shape              Param #   \n",
      "=================================================================\n",
      " flatten_8 (Flatten)         (None, 1024)              0         \n",
      "                                                                 \n",
      " dense_31 (Dense)            (None, 512)               524800    \n",
      "                                                                 \n",
      " dense_32 (Dense)            (None, 100)               51300     \n",
      "                                                                 \n",
      " dense_33 (Dense)            (None, 5)                 505       \n",
      "                                                                 \n",
      "=================================================================\n",
      "Total params: 576,605\n",
      "Trainable params: 576,605\n",
      "Non-trainable params: 0\n",
      "_________________________________________________________________\n"
     ]
    }
   ],
   "source": [
    "from keras.models import Sequential\n",
    "from keras import layers\n",
    "\n",
    "model = Sequential()\n",
    "model.add(layers.Flatten(input_shape=[32*32]))\n",
    "\n",
    "model.add(layers.Dense(512,activation=\"relu\"))\n",
    "\n",
    "model.add(layers.Dense(100,activation=\"relu\"))\n",
    "\n",
    "\n",
    "model.add(layers.Dense(5,activation=\"softmax\"))\n",
    "\n",
    "model.summary()"
   ]
  },
  {
   "cell_type": "code",
   "execution_count": 102,
   "metadata": {},
   "outputs": [],
   "source": [
    "model.compile(optimizer= \"rmsprop\",loss = \"categorical_crossentropy\",metrics=[\"accuracy\"])"
   ]
  },
  {
   "cell_type": "code",
   "execution_count": 103,
   "metadata": {},
   "outputs": [],
   "source": [
    "from keras.utils import to_categorical\n",
    "Y_label = to_categorical(Y_label)"
   ]
  },
  {
   "cell_type": "code",
   "execution_count": 104,
   "metadata": {},
   "outputs": [],
   "source": [
    "from sklearn.model_selection import train_test_split\n",
    "X_train,X_test,Y_train,Y_test = train_test_split(X_data,Y_label,test_size=0.2,shuffle=True)"
   ]
  },
  {
   "cell_type": "code",
   "execution_count": 105,
   "metadata": {},
   "outputs": [
    {
     "name": "stdout",
     "output_type": "stream",
     "text": [
      "Epoch 1/50\n",
      "21/21 [==============================] - 1s 9ms/step - loss: 2.7121 - accuracy: 0.2651 - val_loss: 1.9426 - val_accuracy: 0.1429\n",
      "Epoch 2/50\n",
      "21/21 [==============================] - 0s 5ms/step - loss: 1.7713 - accuracy: 0.2289 - val_loss: 1.7816 - val_accuracy: 0.1429\n",
      "Epoch 3/50\n",
      "21/21 [==============================] - 0s 6ms/step - loss: 1.7236 - accuracy: 0.2530 - val_loss: 1.5439 - val_accuracy: 0.1905\n",
      "Epoch 4/50\n",
      "21/21 [==============================] - 0s 6ms/step - loss: 1.6405 - accuracy: 0.3253 - val_loss: 1.8975 - val_accuracy: 0.2857\n",
      "Epoch 5/50\n",
      "21/21 [==============================] - 0s 5ms/step - loss: 1.6717 - accuracy: 0.2530 - val_loss: 1.7491 - val_accuracy: 0.2381\n",
      "Epoch 6/50\n",
      "21/21 [==============================] - 0s 5ms/step - loss: 1.6070 - accuracy: 0.2530 - val_loss: 1.6122 - val_accuracy: 0.2381\n",
      "Epoch 7/50\n",
      "21/21 [==============================] - 0s 5ms/step - loss: 1.5167 - accuracy: 0.4096 - val_loss: 1.9390 - val_accuracy: 0.3333\n",
      "Epoch 8/50\n",
      "21/21 [==============================] - 0s 6ms/step - loss: 1.4789 - accuracy: 0.3855 - val_loss: 1.5081 - val_accuracy: 0.2857\n",
      "Epoch 9/50\n",
      "21/21 [==============================] - 0s 7ms/step - loss: 1.4817 - accuracy: 0.4217 - val_loss: 2.0476 - val_accuracy: 0.3333\n",
      "Epoch 10/50\n",
      "21/21 [==============================] - 0s 6ms/step - loss: 1.3470 - accuracy: 0.4699 - val_loss: 1.6502 - val_accuracy: 0.2381\n",
      "Epoch 11/50\n",
      "21/21 [==============================] - 0s 5ms/step - loss: 1.2925 - accuracy: 0.4096 - val_loss: 1.6801 - val_accuracy: 0.1905\n",
      "Epoch 12/50\n",
      "21/21 [==============================] - 0s 5ms/step - loss: 1.3509 - accuracy: 0.4458 - val_loss: 1.8206 - val_accuracy: 0.2857\n",
      "Epoch 13/50\n",
      "21/21 [==============================] - 0s 5ms/step - loss: 1.2079 - accuracy: 0.5301 - val_loss: 1.9390 - val_accuracy: 0.2381\n",
      "Epoch 14/50\n",
      "21/21 [==============================] - 0s 5ms/step - loss: 1.1693 - accuracy: 0.5060 - val_loss: 1.7269 - val_accuracy: 0.3810\n",
      "Epoch 15/50\n",
      "21/21 [==============================] - 0s 5ms/step - loss: 1.1785 - accuracy: 0.5060 - val_loss: 1.9311 - val_accuracy: 0.1905\n",
      "Epoch 16/50\n",
      "21/21 [==============================] - 0s 6ms/step - loss: 1.0657 - accuracy: 0.5301 - val_loss: 1.8941 - val_accuracy: 0.1905\n",
      "Epoch 17/50\n",
      "21/21 [==============================] - 0s 6ms/step - loss: 1.1772 - accuracy: 0.5060 - val_loss: 1.7485 - val_accuracy: 0.2857\n",
      "Epoch 18/50\n",
      "21/21 [==============================] - 0s 5ms/step - loss: 0.9265 - accuracy: 0.6506 - val_loss: 2.0825 - val_accuracy: 0.2381\n",
      "Epoch 19/50\n",
      "21/21 [==============================] - 0s 5ms/step - loss: 1.1300 - accuracy: 0.5904 - val_loss: 1.6176 - val_accuracy: 0.2857\n",
      "Epoch 20/50\n",
      "21/21 [==============================] - 0s 5ms/step - loss: 1.0689 - accuracy: 0.6024 - val_loss: 1.7018 - val_accuracy: 0.3333\n",
      "Epoch 21/50\n",
      "21/21 [==============================] - 0s 5ms/step - loss: 0.8773 - accuracy: 0.6506 - val_loss: 1.7534 - val_accuracy: 0.3810\n",
      "Epoch 22/50\n",
      "21/21 [==============================] - 0s 5ms/step - loss: 0.8717 - accuracy: 0.6386 - val_loss: 1.9932 - val_accuracy: 0.2857\n",
      "Epoch 23/50\n",
      "21/21 [==============================] - 0s 5ms/step - loss: 0.7722 - accuracy: 0.6747 - val_loss: 2.3692 - val_accuracy: 0.1905\n",
      "Epoch 24/50\n",
      "21/21 [==============================] - 0s 5ms/step - loss: 0.7053 - accuracy: 0.6747 - val_loss: 2.1456 - val_accuracy: 0.3333\n",
      "Epoch 25/50\n",
      "21/21 [==============================] - 0s 5ms/step - loss: 0.8846 - accuracy: 0.6627 - val_loss: 1.7955 - val_accuracy: 0.4286\n",
      "Epoch 26/50\n",
      "21/21 [==============================] - 0s 5ms/step - loss: 0.7110 - accuracy: 0.7590 - val_loss: 2.4727 - val_accuracy: 0.2381\n",
      "Epoch 27/50\n",
      "21/21 [==============================] - 0s 5ms/step - loss: 0.8295 - accuracy: 0.6867 - val_loss: 1.7517 - val_accuracy: 0.3333\n",
      "Epoch 28/50\n",
      "21/21 [==============================] - 0s 5ms/step - loss: 0.6747 - accuracy: 0.7108 - val_loss: 2.9496 - val_accuracy: 0.2857\n",
      "Epoch 29/50\n",
      "21/21 [==============================] - 0s 5ms/step - loss: 0.5570 - accuracy: 0.8554 - val_loss: 2.1891 - val_accuracy: 0.3333\n",
      "Epoch 30/50\n",
      "21/21 [==============================] - 0s 5ms/step - loss: 0.9610 - accuracy: 0.7108 - val_loss: 2.1517 - val_accuracy: 0.4286\n",
      "Epoch 31/50\n",
      "21/21 [==============================] - 0s 5ms/step - loss: 0.5605 - accuracy: 0.7831 - val_loss: 2.6478 - val_accuracy: 0.3333\n",
      "Epoch 32/50\n",
      "21/21 [==============================] - 0s 5ms/step - loss: 0.4620 - accuracy: 0.8675 - val_loss: 2.8055 - val_accuracy: 0.2381\n",
      "Epoch 33/50\n",
      "21/21 [==============================] - 0s 5ms/step - loss: 0.6456 - accuracy: 0.7831 - val_loss: 2.0226 - val_accuracy: 0.4286\n",
      "Epoch 34/50\n",
      "21/21 [==============================] - 0s 5ms/step - loss: 0.5537 - accuracy: 0.8193 - val_loss: 2.0699 - val_accuracy: 0.4286\n",
      "Epoch 35/50\n",
      "21/21 [==============================] - 0s 5ms/step - loss: 0.5506 - accuracy: 0.7831 - val_loss: 2.8046 - val_accuracy: 0.3810\n",
      "Epoch 36/50\n",
      "21/21 [==============================] - 0s 5ms/step - loss: 0.5170 - accuracy: 0.8434 - val_loss: 2.3941 - val_accuracy: 0.3810\n",
      "Epoch 37/50\n",
      "21/21 [==============================] - 0s 5ms/step - loss: 0.5264 - accuracy: 0.8193 - val_loss: 4.6833 - val_accuracy: 0.2381\n",
      "Epoch 38/50\n",
      "21/21 [==============================] - 0s 5ms/step - loss: 0.5104 - accuracy: 0.7952 - val_loss: 2.4242 - val_accuracy: 0.3810\n",
      "Epoch 39/50\n",
      "21/21 [==============================] - 0s 5ms/step - loss: 0.4364 - accuracy: 0.8193 - val_loss: 2.7541 - val_accuracy: 0.3333\n",
      "Epoch 40/50\n",
      "21/21 [==============================] - 0s 5ms/step - loss: 0.6008 - accuracy: 0.7711 - val_loss: 2.9007 - val_accuracy: 0.2857\n",
      "Epoch 41/50\n",
      "21/21 [==============================] - 0s 4ms/step - loss: 0.4244 - accuracy: 0.8675 - val_loss: 1.9563 - val_accuracy: 0.3810\n",
      "Epoch 42/50\n",
      "21/21 [==============================] - 0s 5ms/step - loss: 0.2554 - accuracy: 0.9157 - val_loss: 2.0570 - val_accuracy: 0.5238\n",
      "Epoch 43/50\n",
      "21/21 [==============================] - 0s 5ms/step - loss: 0.4592 - accuracy: 0.8675 - val_loss: 2.5953 - val_accuracy: 0.3810\n",
      "Epoch 44/50\n",
      "21/21 [==============================] - 0s 5ms/step - loss: 0.3356 - accuracy: 0.8675 - val_loss: 2.3420 - val_accuracy: 0.4286\n",
      "Epoch 45/50\n",
      "21/21 [==============================] - 0s 5ms/step - loss: 0.4520 - accuracy: 0.8554 - val_loss: 2.5493 - val_accuracy: 0.4286\n",
      "Epoch 46/50\n",
      "21/21 [==============================] - 0s 5ms/step - loss: 0.2976 - accuracy: 0.8675 - val_loss: 4.1656 - val_accuracy: 0.3810\n",
      "Epoch 47/50\n",
      "21/21 [==============================] - 0s 5ms/step - loss: 0.5199 - accuracy: 0.8072 - val_loss: 2.4671 - val_accuracy: 0.4286\n",
      "Epoch 48/50\n",
      "21/21 [==============================] - 0s 5ms/step - loss: 0.2620 - accuracy: 0.9277 - val_loss: 2.4989 - val_accuracy: 0.4762\n",
      "Epoch 49/50\n",
      "21/21 [==============================] - 0s 5ms/step - loss: 0.2881 - accuracy: 0.9398 - val_loss: 2.8010 - val_accuracy: 0.3810\n",
      "Epoch 50/50\n",
      "21/21 [==============================] - 0s 5ms/step - loss: 0.3675 - accuracy: 0.8795 - val_loss: 2.4617 - val_accuracy: 0.4286\n"
     ]
    },
    {
     "data": {
      "text/plain": [
       "<keras.callbacks.History at 0x7fa5f04d4700>"
      ]
     },
     "execution_count": 105,
     "metadata": {},
     "output_type": "execute_result"
    }
   ],
   "source": [
    "model.fit(X_train,Y_train,epochs =50,batch_size =4,validation_data=[X_test,Y_test])"
   ]
  },
  {
   "cell_type": "code",
   "execution_count": 109,
   "metadata": {},
   "outputs": [],
   "source": [
    "from keras.utils.image_utils import load_img\n",
    "image = load_img('img/egg.jpg', target_size=(32,32),color_mode=\"grayscale\") "
   ]
  },
  {
   "cell_type": "code",
   "execution_count": 110,
   "metadata": {},
   "outputs": [],
   "source": [
    "classnames= [\"bread\",\"egg\",\"meat\",\"noodle\"]"
   ]
  },
  {
   "cell_type": "code",
   "execution_count": 111,
   "metadata": {},
   "outputs": [
    {
     "name": "stdout",
     "output_type": "stream",
     "text": [
      "1/1 [==============================] - 0s 14ms/step\n",
      "egg\n"
     ]
    },
    {
     "data": {
      "image/png": "[encoded data removed]",
      "text/plain": [
       "<Figure size 640x480 with 1 Axes>"
      ]
     },
     "metadata": {},
     "output_type": "display_data"
    }
   ],
   "source": [
    "from keras.utils.image_utils import img_to_array\n",
    "img = img_to_array(image)\n",
    "img = img.reshape(1,1024)\n",
    "img = img.astype('float32')\n",
    "img = img/255\n",
    "tag = np.argmax(model.predict(img),axis=1)\n",
    "plt.imshow(image)\n",
    "print(classnames[tag[0]])"
   ]
  }
 ],
 "metadata": {
  "kernelspec": {
   "display_name": "Python 3.8.10 ('Car_enviroment')",
   "language": "python",
   "name": "python3"
  },
  "language_info": {
   "codemirror_mode": {
    "name": "ipython",
    "version": 3
   },
   "file_extension": ".py",
   "mimetype": "text/x-python",
   "name": "python",
   "nbconvert_exporter": "python",
   "pygments_lexer": "ipython3",
   "version": "3.8.10"
  },
  "orig_nbformat": 4,
  "vscode": {
   "interpreter": {
    "hash": "adc40417d40e2457938e3d78b2a2e0058813177b0c69e12c033c503d15659ee9"
   }
  }
 },
 "nbformat": 4,
 "nbformat_minor": 2
}
