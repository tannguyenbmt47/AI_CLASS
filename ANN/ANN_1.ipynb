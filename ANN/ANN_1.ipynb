{
 "cells": [
  {
   "cell_type": "code",
   "execution_count": 1,
   "metadata": {},
   "outputs": [
    {
     "name": "stderr",
     "output_type": "stream",
     "text": [
      "2022-10-24 22:17:24.192752: I tensorflow/core/platform/cpu_feature_guard.cc:193] This TensorFlow binary is optimized with oneAPI Deep Neural Network Library (oneDNN) to use the following CPU instructions in performance-critical operations:  AVX2 FMA\n",
      "To enable them in other operations, rebuild TensorFlow with the appropriate compiler flags.\n",
      "2022-10-24 22:17:24.314655: W tensorflow/stream_executor/platform/default/dso_loader.cc:64] Could not load dynamic library 'libcudart.so.11.0'; dlerror: libcudart.so.11.0: cannot open shared object file: No such file or directory\n",
      "2022-10-24 22:17:24.314668: I tensorflow/stream_executor/cuda/cudart_stub.cc:29] Ignore above cudart dlerror if you do not have a GPU set up on your machine.\n",
      "2022-10-24 22:17:24.336051: E tensorflow/stream_executor/cuda/cuda_blas.cc:2981] Unable to register cuBLAS factory: Attempting to register factory for plugin cuBLAS when one has already been registered\n",
      "2022-10-24 22:17:24.931879: W tensorflow/stream_executor/platform/default/dso_loader.cc:64] Could not load dynamic library 'libnvinfer.so.7'; dlerror: libnvinfer.so.7: cannot open shared object file: No such file or directory\n",
      "2022-10-24 22:17:24.931926: W tensorflow/stream_executor/platform/default/dso_loader.cc:64] Could not load dynamic library 'libnvinfer_plugin.so.7'; dlerror: libnvinfer_plugin.so.7: cannot open shared object file: No such file or directory\n",
      "2022-10-24 22:17:24.931932: W tensorflow/compiler/tf2tensorrt/utils/py_utils.cc:38] TF-TRT Warning: Cannot dlopen some TensorRT libraries. If you would like to use Nvidia GPU with TensorRT, please make sure the missing libraries mentioned above are installed properly.\n"
     ]
    }
   ],
   "source": [
    "from keras.datasets import fashion_mnist\n",
    "(x_train,y_train),(x_test,y_test) = fashion_mnist.load_data()"
   ]
  },
  {
   "cell_type": "code",
   "execution_count": 3,
   "metadata": {},
   "outputs": [
    {
     "name": "stdout",
     "output_type": "stream",
     "text": [
      "(28, 28)\n"
     ]
    }
   ],
   "source": [
    "print(x_train[1].shape)\n"
   ]
  },
  {
   "cell_type": "code",
   "execution_count": null,
   "metadata": {},
   "outputs": [],
   "source": []
  },
  {
   "cell_type": "code",
   "execution_count": 2,
   "metadata": {},
   "outputs": [
    {
     "data": {
      "text/plain": [
       "(60000,)"
      ]
     },
     "execution_count": 2,
     "metadata": {},
     "output_type": "execute_result"
    }
   ],
   "source": [
    "classnames = [\"T_shirt/top\",\"Trouser\",\"Pullover\",\"Dress\",\"Coat\",\"Sandal\",\"Shirt\",\"Sneaker\",\"Bag\",\"Ankle boot\"]\n",
    "\n",
    "classnames[y_train[0]]\n",
    "y_train.shape"
   ]
  },
  {
   "cell_type": "code",
   "execution_count": 3,
   "metadata": {},
   "outputs": [
    {
     "name": "stdout",
     "output_type": "stream",
     "text": [
      "Dress\n"
     ]
    },
    {
     "data": {
      "image/png": "[encoded data removed]",
      "text/plain": [
       "<Figure size 640x480 with 1 Axes>"
      ]
     },
     "metadata": {},
     "output_type": "display_data"
    }
   ],
   "source": [
    "import matplotlib.pyplot as plt\n",
    "plt.imshow(x_train[3])\n",
    "print(classnames[y_train[3]])\n",
    "plt.show()"
   ]
  },
  {
   "cell_type": "code",
   "execution_count": 4,
   "metadata": {},
   "outputs": [
    {
     "name": "stdout",
     "output_type": "stream",
     "text": [
      "Model: \"sequential\"\n",
      "_________________________________________________________________\n",
      " Layer (type)                Output Shape              Param #   \n",
      "=================================================================\n",
      " flatten (Flatten)           (None, 784)               0         \n",
      "                                                                 \n",
      " dense (Dense)               (None, 512)               401920    \n",
      "                                                                 \n",
      " dense_1 (Dense)             (None, 100)               51300     \n",
      "                                                                 \n",
      " dense_2 (Dense)             (None, 10)                1010      \n",
      "                                                                 \n",
      "=================================================================\n",
      "Total params: 454,230\n",
      "Trainable params: 454,230\n",
      "Non-trainable params: 0\n",
      "_________________________________________________________________\n"
     ]
    },
    {
     "name": "stderr",
     "output_type": "stream",
     "text": [
      "2022-10-24 22:17:34.208005: W tensorflow/stream_executor/platform/default/dso_loader.cc:64] Could not load dynamic library 'libcuda.so.1'; dlerror: libcuda.so.1: cannot open shared object file: No such file or directory\n",
      "2022-10-24 22:17:34.208314: W tensorflow/stream_executor/cuda/cuda_driver.cc:263] failed call to cuInit: UNKNOWN ERROR (303)\n",
      "2022-10-24 22:17:34.208350: I tensorflow/stream_executor/cuda/cuda_diagnostics.cc:156] kernel driver does not appear to be running on this host (dauphongtantan): /proc/driver/nvidia/version does not exist\n",
      "2022-10-24 22:17:34.209045: I tensorflow/core/platform/cpu_feature_guard.cc:193] This TensorFlow binary is optimized with oneAPI Deep Neural Network Library (oneDNN) to use the following CPU instructions in performance-critical operations:  AVX2 FMA\n",
      "To enable them in other operations, rebuild TensorFlow with the appropriate compiler flags.\n"
     ]
    }
   ],
   "source": [
    "from keras.models import Sequential\n",
    "from keras import layers\n",
    "\n",
    "model = Sequential()\n",
    "model.add(layers.Flatten(input_shape=[28,28]))\n",
    "model.add(layers.Dense(512,activation=\"relu\"))\n",
    "model.add(layers.Dense(100,activation=\"relu\"))\n",
    "model.add(layers.Dense(10,activation=\"softmax\"))\n",
    "\n",
    "model.summary()\n",
    "\n"
   ]
  },
  {
   "cell_type": "code",
   "execution_count": 5,
   "metadata": {},
   "outputs": [],
   "source": [
    "model.compile(optimizer= \"rmsprop\",loss = \"categorical_crossentropy\",metrics=[\"accuracy\"])"
   ]
  },
  {
   "cell_type": "code",
   "execution_count": 6,
   "metadata": {},
   "outputs": [],
   "source": [
    "x_train= x_train.astype(\"float32\")/255\n",
    "x_test= x_test.astype(\"float32\")/255"
   ]
  },
  {
   "cell_type": "code",
   "execution_count": 7,
   "metadata": {},
   "outputs": [
    {
     "name": "stdout",
     "output_type": "stream",
     "text": [
      "[[0.         0.         0.         0.         0.00392157 0.\n",
      "  0.         0.         0.         0.08627451 0.34509805 0.7372549\n",
      "  0.6745098  0.5176471  0.49019608 0.5529412  0.78039217 0.56078434\n",
      "  0.03529412 0.         0.         0.         0.00392157 0.\n",
      "  0.         0.         0.         0.        ]\n",
      " [0.         0.         0.         0.00392157 0.         0.\n",
      "  0.07843138 0.5137255  0.78039217 0.80784315 0.76862746 0.7921569\n",
      "  0.9490196  1.         1.         0.98039216 0.87058824 0.77254903\n",
      "  0.80784315 0.7372549  0.49411765 0.06666667 0.         0.\n",
      "  0.         0.         0.         0.        ]\n",
      " [0.         0.         0.         0.00392157 0.         0.13725491\n",
      "  0.8392157  0.7490196  0.7176471  0.69803923 0.6862745  0.65882355\n",
      "  0.5882353  0.63529414 0.62352943 0.59607846 0.61960787 0.7019608\n",
      "  0.7176471  0.7411765  0.7647059  0.7254902  0.32156864 0.\n",
      "  0.         0.         0.         0.        ]\n",
      " [0.         0.         0.         0.         0.         0.6666667\n",
      "  0.74509805 0.6745098  0.69411767 0.6901961  0.67058825 0.6627451\n",
      "  0.63529414 0.60784316 0.5803922  0.6039216  0.6627451  0.68235296\n",
      "  0.6862745  0.6862745  0.69411767 0.7176471  0.7372549  0.04705882\n",
      "  0.         0.         0.         0.        ]\n",
      " [0.         0.         0.         0.         0.09803922 0.7607843\n",
      "  0.7058824  0.69803923 0.68235296 0.72156864 0.73333335 0.7411765\n",
      "  0.73333335 0.72156864 0.70980394 0.7411765  0.78431374 0.77254903\n",
      "  0.75686276 0.74509805 0.69803923 0.6862745  0.7607843  0.3529412\n",
      "  0.         0.         0.         0.        ]\n",
      " [0.         0.         0.         0.         0.16470589 0.85490197\n",
      "  0.7490196  0.77254903 0.8156863  0.8        0.827451   0.81960785\n",
      "  0.8235294  0.83137256 0.827451   0.8392157  0.84313726 0.8352941\n",
      "  0.8392157  0.827451   0.827451   0.7490196  0.78431374 0.61960787\n",
      "  0.         0.         0.         0.        ]\n",
      " [0.         0.         0.         0.         0.34509805 0.8666667\n",
      "  0.84313726 0.8509804  0.85882354 0.827451   0.7254902  0.5882353\n",
      "  0.4627451  0.41960785 0.3882353  0.34509805 0.3254902  0.3529412\n",
      "  0.5294118  0.83137256 0.79607844 0.8117647  0.85882354 0.6627451\n",
      "  0.         0.         0.         0.        ]\n",
      " [0.         0.         0.         0.         0.         0.10588235\n",
      "  0.4627451  0.63529414 0.15686275 0.         0.         0.\n",
      "  0.03921569 0.07450981 0.10980392 0.15294118 0.18431373 0.14117648\n",
      "  0.         0.         0.79607844 0.9019608  0.8627451  0.79607844\n",
      "  0.         0.         0.         0.        ]\n",
      " [0.         0.         0.         0.         0.5411765  0.53333336\n",
      "  0.2784314  0.27058825 0.21176471 0.84705883 0.8509804  0.79607844\n",
      "  0.72156864 0.65882355 0.6392157  0.63529414 0.6392157  0.69803923\n",
      "  0.8666667  0.7294118  0.14901961 0.10196079 0.02745098 0.\n",
      "  0.         0.         0.         0.        ]\n",
      " [0.         0.         0.         0.         0.2627451  0.5254902\n",
      "  0.6039216  0.8784314  0.5058824  0.25882354 0.31764707 0.45882353\n",
      "  0.5058824  0.5019608  0.5176471  0.5372549  0.5137255  0.5058824\n",
      "  0.3372549  0.28627452 0.6156863  0.5921569  0.5254902  0.84705883\n",
      "  0.07058824 0.         0.         0.        ]\n",
      " [0.         0.         0.         0.         0.79607844 0.7764706\n",
      "  0.6745098  0.7176471  0.80784315 1.         1.         0.98039216\n",
      "  0.9529412  0.9411765  0.9372549  0.92156863 0.93333334 0.95686275\n",
      "  1.         0.93333334 0.72156864 0.627451   0.3372549  0.38431373\n",
      "  0.         0.         0.         0.        ]\n",
      " [0.         0.         0.         0.         0.47843137 0.7372549\n",
      "  0.8784314  0.5921569  0.4117647  0.49803922 0.38039216 0.39215687\n",
      "  0.4117647  0.44705883 0.45882353 0.45882353 0.44313726 0.40392157\n",
      "  0.38431373 0.43529412 0.5568628  0.99607843 0.7490196  1.\n",
      "  0.19215687 0.         0.         0.        ]\n",
      " [0.         0.         0.         0.         0.6392157  0.7019608\n",
      "  0.78431374 0.37254903 0.6039216  0.7764706  0.77254903 0.78431374\n",
      "  0.78431374 0.7764706  0.77254903 0.7764706  0.78039217 0.7921569\n",
      "  0.78431374 0.6901961  0.3372549  0.80784315 0.6156863  0.63529414\n",
      "  0.03921569 0.         0.         0.        ]\n",
      " [0.         0.         0.         0.         0.77254903 0.7882353\n",
      "  0.8980392  0.2784314  0.5647059  0.7607843  0.70980394 0.7176471\n",
      "  0.7019608  0.7137255  0.7058824  0.7019608  0.7058824  0.74509805\n",
      "  0.7254902  0.77254903 0.29803923 0.85882354 0.7254902  0.7882353\n",
      "  0.13333334 0.         0.         0.        ]\n",
      " [0.         0.         0.         0.         0.78039217 0.75686276\n",
      "  0.8862745  0.22745098 0.6039216  0.7529412  0.72156864 0.73333335\n",
      "  0.72156864 0.7294118  0.72156864 0.7254902  0.7176471  0.7529412\n",
      "  0.7490196  0.78431374 0.21960784 0.85882354 0.79607844 0.8117647\n",
      "  0.23529412 0.         0.         0.        ]\n",
      " [0.         0.         0.         0.         0.7882353  0.7607843\n",
      "  0.8784314  0.16078432 0.6392157  0.74509805 0.7294118  0.7294118\n",
      "  0.72156864 0.7254902  0.7176471  0.7254902  0.69803923 0.74509805\n",
      "  0.7607843  0.7921569  0.12941177 0.827451   0.78431374 0.80784315\n",
      "  0.28627452 0.         0.         0.        ]\n",
      " [0.         0.         0.         0.         0.7882353  0.77254903\n",
      "  0.87058824 0.06666667 0.6745098  0.74509805 0.7294118  0.73333335\n",
      "  0.7137255  0.7294118  0.7254902  0.73333335 0.7058824  0.73333335\n",
      "  0.75686276 0.7921569  0.10196079 0.83137256 0.7921569  0.79607844\n",
      "  0.29803923 0.         0.         0.        ]\n",
      " [0.         0.         0.         0.         0.78431374 0.77254903\n",
      "  0.8745098  0.         0.69411767 0.7411765  0.72156864 0.7254902\n",
      "  0.69803923 0.72156864 0.7176471  0.72156864 0.7058824  0.7176471\n",
      "  0.7411765  0.79607844 0.13725491 0.76862746 0.79607844 0.79607844\n",
      "  0.32941177 0.         0.         0.        ]\n",
      " [0.         0.         0.         0.         0.78431374 0.77254903\n",
      "  0.8745098  0.         0.7254902  0.73333335 0.7254902  0.73333335\n",
      "  0.7058824  0.72156864 0.7137255  0.7176471  0.69803923 0.7137255\n",
      "  0.7176471  0.8039216  0.17254902 0.62352943 0.8117647  0.7882353\n",
      "  0.33333334 0.         0.         0.        ]\n",
      " [0.         0.         0.         0.         0.73333335 0.7764706\n",
      "  0.88235295 0.         0.7607843  0.7372549  0.72156864 0.7254902\n",
      "  0.7058824  0.7176471  0.7176471  0.72156864 0.70980394 0.70980394\n",
      "  0.69411767 0.80784315 0.18039216 0.5058824  0.827451   0.78431374\n",
      "  0.34509805 0.         0.         0.        ]\n",
      " [0.         0.         0.         0.02352941 0.7294118  0.78431374\n",
      "  0.827451   0.         0.78039217 0.7411765  0.72156864 0.72156864\n",
      "  0.7254902  0.7137255  0.7176471  0.72156864 0.7254902  0.7137255\n",
      "  0.6862745  0.8039216  0.19607843 0.38039216 0.84705883 0.77254903\n",
      "  0.3647059  0.         0.         0.        ]\n",
      " [0.         0.         0.         0.01960784 0.7254902  0.8\n",
      "  0.72156864 0.         0.7921569  0.7372549  0.7137255  0.7137255\n",
      "  0.7176471  0.7176471  0.72156864 0.7137255  0.7058824  0.7137255\n",
      "  0.68235296 0.7921569  0.24705882 0.23137255 0.8627451  0.76862746\n",
      "  0.36862746 0.         0.         0.        ]\n",
      " [0.         0.         0.         0.01960784 0.72156864 0.80784315\n",
      "  0.6156863  0.         0.8        0.73333335 0.73333335 0.7411765\n",
      "  0.7529412  0.74509805 0.74509805 0.7490196  0.74509805 0.73333335\n",
      "  0.7176471  0.7921569  0.30588236 0.13725491 0.87058824 0.77254903\n",
      "  0.37254903 0.         0.         0.        ]\n",
      " [0.         0.         0.         0.01960784 0.7176471  0.8156863\n",
      "  0.49803922 0.         0.77254903 0.6509804  0.6        0.58431375\n",
      "  0.58431375 0.57254905 0.5803922  0.58431375 0.5882353  0.5921569\n",
      "  0.61960787 0.7490196  0.3529412  0.03137255 0.8745098  0.7647059\n",
      "  0.3882353  0.         0.         0.        ]\n",
      " [0.         0.         0.         0.02352941 0.72156864 0.8156863\n",
      "  0.44705883 0.         0.8        0.6784314  0.6313726  0.7058824\n",
      "  0.6901961  0.6745098  0.6784314  0.6784314  0.68235296 0.6901961\n",
      "  0.63529414 0.7921569  0.4509804  0.         0.8980392  0.78039217\n",
      "  0.4117647  0.         0.         0.        ]\n",
      " [0.         0.         0.         0.03529412 0.69803923 0.8\n",
      "  0.4509804  0.         0.4745098  0.5294118  0.44705883 0.45882353\n",
      "  0.44705883 0.44705883 0.45882353 0.4627451  0.46666667 0.45882353\n",
      "  0.44313726 0.5764706  0.24705882 0.         0.88235295 0.76862746\n",
      "  0.41960785 0.         0.         0.        ]\n",
      " [0.         0.         0.         0.07058824 0.7058824  0.80784315\n",
      "  0.5137255  0.         0.         0.         0.         0.\n",
      "  0.         0.         0.         0.         0.         0.\n",
      "  0.         0.         0.         0.         0.8784314  0.77254903\n",
      "  0.48235294 0.         0.         0.        ]\n",
      " [0.         0.         0.         0.         0.5529412  0.5921569\n",
      "  0.29803923 0.         0.00392157 0.00392157 0.         0.\n",
      "  0.         0.         0.         0.         0.         0.\n",
      "  0.         0.         0.         0.         0.52156866 0.654902\n",
      "  0.28627452 0.         0.         0.        ]]\n"
     ]
    }
   ],
   "source": [
    "print(x_train[5])"
   ]
  },
  {
   "cell_type": "code",
   "execution_count": 8,
   "metadata": {},
   "outputs": [],
   "source": [
    "from keras.utils import to_categorical\n",
    "y_train = to_categorical(y_train)\n",
    "y_test  = to_categorical(y_test)"
   ]
  },
  {
   "cell_type": "code",
   "execution_count": 9,
   "metadata": {},
   "outputs": [
    {
     "name": "stdout",
     "output_type": "stream",
     "text": [
      "Epoch 1/200\n",
      "469/469 [==============================] - 3s 5ms/step - loss: 0.5499 - accuracy: 0.8005 - val_loss: 0.4504 - val_accuracy: 0.8354\n",
      "Epoch 2/200\n",
      "469/469 [==============================] - 2s 4ms/step - loss: 0.3805 - accuracy: 0.8587 - val_loss: 0.3958 - val_accuracy: 0.8604\n",
      "Epoch 3/200\n",
      "469/469 [==============================] - 2s 4ms/step - loss: 0.3368 - accuracy: 0.8760 - val_loss: 0.4212 - val_accuracy: 0.8404\n",
      "Epoch 4/200\n",
      "469/469 [==============================] - 2s 5ms/step - loss: 0.3110 - accuracy: 0.8839 - val_loss: 0.3815 - val_accuracy: 0.8671\n",
      "Epoch 5/200\n",
      "469/469 [==============================] - 2s 4ms/step - loss: 0.2929 - accuracy: 0.8906 - val_loss: 0.4706 - val_accuracy: 0.8321\n",
      "Epoch 6/200\n",
      "469/469 [==============================] - 2s 5ms/step - loss: 0.2784 - accuracy: 0.8964 - val_loss: 0.4049 - val_accuracy: 0.8623\n",
      "Epoch 7/200\n",
      "469/469 [==============================] - 2s 4ms/step - loss: 0.2683 - accuracy: 0.9002 - val_loss: 0.3461 - val_accuracy: 0.8813\n",
      "Epoch 8/200\n",
      "469/469 [==============================] - 2s 5ms/step - loss: 0.2555 - accuracy: 0.9042 - val_loss: 0.3429 - val_accuracy: 0.8870\n",
      "Epoch 9/200\n",
      "469/469 [==============================] - 2s 5ms/step - loss: 0.2447 - accuracy: 0.9083 - val_loss: 0.3884 - val_accuracy: 0.8828\n",
      "Epoch 10/200\n",
      "469/469 [==============================] - 2s 5ms/step - loss: 0.2396 - accuracy: 0.9106 - val_loss: 0.3922 - val_accuracy: 0.8776\n",
      "Epoch 11/200\n",
      "469/469 [==============================] - 2s 5ms/step - loss: 0.2280 - accuracy: 0.9146 - val_loss: 0.3604 - val_accuracy: 0.8896\n",
      "Epoch 12/200\n",
      "469/469 [==============================] - 2s 5ms/step - loss: 0.2239 - accuracy: 0.9166 - val_loss: 0.3820 - val_accuracy: 0.8840\n",
      "Epoch 13/200\n",
      "469/469 [==============================] - 2s 5ms/step - loss: 0.2183 - accuracy: 0.9187 - val_loss: 0.3683 - val_accuracy: 0.8866\n",
      "Epoch 14/200\n",
      "469/469 [==============================] - 2s 5ms/step - loss: 0.2122 - accuracy: 0.9210 - val_loss: 0.3926 - val_accuracy: 0.8896\n",
      "Epoch 15/200\n",
      "469/469 [==============================] - 2s 5ms/step - loss: 0.2083 - accuracy: 0.9229 - val_loss: 0.4034 - val_accuracy: 0.8852\n",
      "Epoch 16/200\n",
      "469/469 [==============================] - 2s 5ms/step - loss: 0.2003 - accuracy: 0.9235 - val_loss: 0.3958 - val_accuracy: 0.8923\n",
      "Epoch 17/200\n",
      "469/469 [==============================] - 2s 5ms/step - loss: 0.1979 - accuracy: 0.9266 - val_loss: 0.4398 - val_accuracy: 0.8760\n",
      "Epoch 18/200\n",
      "469/469 [==============================] - 2s 5ms/step - loss: 0.1954 - accuracy: 0.9269 - val_loss: 0.4071 - val_accuracy: 0.8928\n",
      "Epoch 19/200\n",
      "469/469 [==============================] - 2s 5ms/step - loss: 0.1858 - accuracy: 0.9291 - val_loss: 0.4613 - val_accuracy: 0.8878\n",
      "Epoch 20/200\n",
      "469/469 [==============================] - 2s 5ms/step - loss: 0.1858 - accuracy: 0.9311 - val_loss: 0.5241 - val_accuracy: 0.8772\n",
      "Epoch 21/200\n",
      "469/469 [==============================] - 2s 5ms/step - loss: 0.1815 - accuracy: 0.9319 - val_loss: 0.5158 - val_accuracy: 0.8720\n",
      "Epoch 22/200\n",
      "469/469 [==============================] - 2s 5ms/step - loss: 0.1777 - accuracy: 0.9324 - val_loss: 0.5176 - val_accuracy: 0.8793\n",
      "Epoch 23/200\n",
      "469/469 [==============================] - 2s 5ms/step - loss: 0.1729 - accuracy: 0.9359 - val_loss: 0.4944 - val_accuracy: 0.8836\n",
      "Epoch 24/200\n",
      "469/469 [==============================] - 2s 5ms/step - loss: 0.1726 - accuracy: 0.9347 - val_loss: 0.4693 - val_accuracy: 0.8939\n",
      "Epoch 25/200\n",
      "469/469 [==============================] - 2s 5ms/step - loss: 0.1676 - accuracy: 0.9376 - val_loss: 0.5225 - val_accuracy: 0.8930\n",
      "Epoch 26/200\n",
      "469/469 [==============================] - 2s 5ms/step - loss: 0.1672 - accuracy: 0.9383 - val_loss: 0.4834 - val_accuracy: 0.8928\n",
      "Epoch 27/200\n",
      "469/469 [==============================] - 2s 5ms/step - loss: 0.1637 - accuracy: 0.9405 - val_loss: 0.6040 - val_accuracy: 0.8816\n",
      "Epoch 28/200\n",
      "469/469 [==============================] - 2s 5ms/step - loss: 0.1608 - accuracy: 0.9405 - val_loss: 0.5610 - val_accuracy: 0.8911\n",
      "Epoch 29/200\n",
      "469/469 [==============================] - 2s 5ms/step - loss: 0.1581 - accuracy: 0.9411 - val_loss: 0.5607 - val_accuracy: 0.8892\n",
      "Epoch 30/200\n",
      "469/469 [==============================] - 2s 5ms/step - loss: 0.1598 - accuracy: 0.9423 - val_loss: 0.6002 - val_accuracy: 0.8940\n",
      "Epoch 31/200\n",
      "469/469 [==============================] - 2s 5ms/step - loss: 0.1530 - accuracy: 0.9427 - val_loss: 0.6067 - val_accuracy: 0.8953\n",
      "Epoch 32/200\n",
      "469/469 [==============================] - 2s 5ms/step - loss: 0.1483 - accuracy: 0.9452 - val_loss: 0.6579 - val_accuracy: 0.8846\n",
      "Epoch 33/200\n",
      "469/469 [==============================] - 2s 5ms/step - loss: 0.1515 - accuracy: 0.9451 - val_loss: 0.7926 - val_accuracy: 0.8770\n",
      "Epoch 34/200\n",
      "469/469 [==============================] - 2s 5ms/step - loss: 0.1490 - accuracy: 0.9446 - val_loss: 0.6667 - val_accuracy: 0.8780\n",
      "Epoch 35/200\n",
      "469/469 [==============================] - 2s 5ms/step - loss: 0.1442 - accuracy: 0.9470 - val_loss: 0.7039 - val_accuracy: 0.8908\n",
      "Epoch 36/200\n",
      "469/469 [==============================] - 2s 5ms/step - loss: 0.1439 - accuracy: 0.9471 - val_loss: 0.6173 - val_accuracy: 0.8887\n",
      "Epoch 37/200\n",
      "469/469 [==============================] - 2s 5ms/step - loss: 0.1433 - accuracy: 0.9471 - val_loss: 0.6496 - val_accuracy: 0.8884\n",
      "Epoch 38/200\n",
      "469/469 [==============================] - 2s 5ms/step - loss: 0.1400 - accuracy: 0.9484 - val_loss: 0.7140 - val_accuracy: 0.8935\n",
      "Epoch 39/200\n",
      "469/469 [==============================] - 2s 5ms/step - loss: 0.1390 - accuracy: 0.9496 - val_loss: 0.7053 - val_accuracy: 0.8902\n",
      "Epoch 40/200\n",
      "469/469 [==============================] - 2s 5ms/step - loss: 0.1400 - accuracy: 0.9499 - val_loss: 0.6526 - val_accuracy: 0.8900\n",
      "Epoch 41/200\n",
      "469/469 [==============================] - 2s 5ms/step - loss: 0.1362 - accuracy: 0.9503 - val_loss: 0.7278 - val_accuracy: 0.8786\n",
      "Epoch 42/200\n",
      "469/469 [==============================] - 2s 5ms/step - loss: 0.1324 - accuracy: 0.9528 - val_loss: 0.8516 - val_accuracy: 0.8806\n",
      "Epoch 43/200\n",
      "469/469 [==============================] - 2s 5ms/step - loss: 0.1331 - accuracy: 0.9516 - val_loss: 0.7833 - val_accuracy: 0.8910\n",
      "Epoch 44/200\n",
      "469/469 [==============================] - 2s 5ms/step - loss: 0.1331 - accuracy: 0.9514 - val_loss: 0.7560 - val_accuracy: 0.8900\n",
      "Epoch 45/200\n",
      "469/469 [==============================] - 2s 5ms/step - loss: 0.1278 - accuracy: 0.9535 - val_loss: 0.7596 - val_accuracy: 0.8814\n",
      "Epoch 46/200\n",
      "469/469 [==============================] - 2s 5ms/step - loss: 0.1319 - accuracy: 0.9531 - val_loss: 0.9020 - val_accuracy: 0.8804\n",
      "Epoch 47/200\n",
      "469/469 [==============================] - 2s 5ms/step - loss: 0.1270 - accuracy: 0.9546 - val_loss: 0.7955 - val_accuracy: 0.8940\n",
      "Epoch 48/200\n",
      "469/469 [==============================] - 2s 5ms/step - loss: 0.1270 - accuracy: 0.9546 - val_loss: 0.9423 - val_accuracy: 0.8909\n",
      "Epoch 49/200\n",
      "469/469 [==============================] - 2s 5ms/step - loss: 0.1274 - accuracy: 0.9548 - val_loss: 0.8930 - val_accuracy: 0.8935\n",
      "Epoch 50/200\n",
      "469/469 [==============================] - 2s 5ms/step - loss: 0.1227 - accuracy: 0.9562 - val_loss: 0.8944 - val_accuracy: 0.8884\n",
      "Epoch 51/200\n",
      "469/469 [==============================] - 3s 6ms/step - loss: 0.1226 - accuracy: 0.9574 - val_loss: 0.8472 - val_accuracy: 0.8890\n",
      "Epoch 52/200\n",
      "469/469 [==============================] - 2s 5ms/step - loss: 0.1257 - accuracy: 0.9565 - val_loss: 0.8575 - val_accuracy: 0.8862\n",
      "Epoch 53/200\n",
      "469/469 [==============================] - 2s 5ms/step - loss: 0.1221 - accuracy: 0.9577 - val_loss: 0.9182 - val_accuracy: 0.8857\n",
      "Epoch 54/200\n",
      "469/469 [==============================] - 2s 5ms/step - loss: 0.1246 - accuracy: 0.9571 - val_loss: 0.8603 - val_accuracy: 0.8949\n",
      "Epoch 55/200\n",
      "469/469 [==============================] - 3s 6ms/step - loss: 0.1223 - accuracy: 0.9575 - val_loss: 0.9100 - val_accuracy: 0.8959\n",
      "Epoch 56/200\n",
      "469/469 [==============================] - 2s 5ms/step - loss: 0.1187 - accuracy: 0.9586 - val_loss: 0.9399 - val_accuracy: 0.8935\n",
      "Epoch 57/200\n",
      "469/469 [==============================] - 2s 5ms/step - loss: 0.1196 - accuracy: 0.9596 - val_loss: 1.1542 - val_accuracy: 0.8849\n",
      "Epoch 58/200\n",
      "469/469 [==============================] - 2s 5ms/step - loss: 0.1138 - accuracy: 0.9608 - val_loss: 0.8764 - val_accuracy: 0.8895\n",
      "Epoch 59/200\n",
      "469/469 [==============================] - 3s 6ms/step - loss: 0.1150 - accuracy: 0.9599 - val_loss: 1.2164 - val_accuracy: 0.8760\n",
      "Epoch 60/200\n",
      "469/469 [==============================] - 2s 5ms/step - loss: 0.1127 - accuracy: 0.9610 - val_loss: 1.0257 - val_accuracy: 0.8932\n",
      "Epoch 61/200\n",
      "469/469 [==============================] - 2s 5ms/step - loss: 0.1157 - accuracy: 0.9600 - val_loss: 1.0790 - val_accuracy: 0.8853\n",
      "Epoch 62/200\n",
      "469/469 [==============================] - 3s 6ms/step - loss: 0.1091 - accuracy: 0.9609 - val_loss: 0.9887 - val_accuracy: 0.8917\n",
      "Epoch 63/200\n",
      "469/469 [==============================] - 2s 5ms/step - loss: 0.1092 - accuracy: 0.9625 - val_loss: 0.9918 - val_accuracy: 0.8931\n",
      "Epoch 64/200\n",
      "469/469 [==============================] - 2s 5ms/step - loss: 0.1068 - accuracy: 0.9620 - val_loss: 1.0270 - val_accuracy: 0.8909\n",
      "Epoch 65/200\n",
      "469/469 [==============================] - 2s 5ms/step - loss: 0.1100 - accuracy: 0.9628 - val_loss: 1.0583 - val_accuracy: 0.8955\n",
      "Epoch 66/200\n",
      "469/469 [==============================] - 2s 5ms/step - loss: 0.1078 - accuracy: 0.9631 - val_loss: 1.2502 - val_accuracy: 0.8894\n",
      "Epoch 67/200\n",
      "469/469 [==============================] - 2s 5ms/step - loss: 0.1108 - accuracy: 0.9628 - val_loss: 1.0314 - val_accuracy: 0.8952\n",
      "Epoch 68/200\n",
      "469/469 [==============================] - 2s 5ms/step - loss: 0.1031 - accuracy: 0.9646 - val_loss: 1.1964 - val_accuracy: 0.8929\n",
      "Epoch 69/200\n",
      "469/469 [==============================] - 2s 5ms/step - loss: 0.1064 - accuracy: 0.9636 - val_loss: 1.1147 - val_accuracy: 0.8951\n",
      "Epoch 70/200\n",
      "469/469 [==============================] - 2s 5ms/step - loss: 0.1054 - accuracy: 0.9646 - val_loss: 1.2339 - val_accuracy: 0.8858\n",
      "Epoch 71/200\n",
      "469/469 [==============================] - 2s 5ms/step - loss: 0.1025 - accuracy: 0.9643 - val_loss: 1.1106 - val_accuracy: 0.8939\n",
      "Epoch 72/200\n",
      "469/469 [==============================] - 2s 5ms/step - loss: 0.1001 - accuracy: 0.9662 - val_loss: 1.1802 - val_accuracy: 0.8901\n",
      "Epoch 73/200\n",
      "469/469 [==============================] - 2s 5ms/step - loss: 0.0991 - accuracy: 0.9667 - val_loss: 1.1428 - val_accuracy: 0.8936\n",
      "Epoch 74/200\n",
      "469/469 [==============================] - 3s 5ms/step - loss: 0.0981 - accuracy: 0.9664 - val_loss: 1.1494 - val_accuracy: 0.8954\n",
      "Epoch 75/200\n",
      "469/469 [==============================] - 2s 5ms/step - loss: 0.1044 - accuracy: 0.9660 - val_loss: 1.3271 - val_accuracy: 0.8828\n",
      "Epoch 76/200\n",
      "469/469 [==============================] - 3s 5ms/step - loss: 0.1004 - accuracy: 0.9654 - val_loss: 1.2543 - val_accuracy: 0.8892\n",
      "Epoch 77/200\n",
      "469/469 [==============================] - 2s 5ms/step - loss: 0.0976 - accuracy: 0.9666 - val_loss: 1.1856 - val_accuracy: 0.8880\n",
      "Epoch 78/200\n",
      "182/469 [==========>...................] - ETA: 1s - loss: 0.0903 - accuracy: 0.9678"
     ]
    },
    {
     "ename": "KeyboardInterrupt",
     "evalue": "",
     "output_type": "error",
     "traceback": [
      "\u001b[0;31m---------------------------------------------------------------------------\u001b[0m",
      "\u001b[0;31mKeyboardInterrupt\u001b[0m                         Traceback (most recent call last)",
      "Cell \u001b[0;32mIn [9], line 1\u001b[0m\n\u001b[0;32m----> 1\u001b[0m model\u001b[39m.\u001b[39mfit(x_train,y_train,epochs \u001b[39m=\u001b[39m\u001b[39m200\u001b[39m,batch_size \u001b[39m=\u001b[39m\u001b[39m128\u001b[39m,validation_data\u001b[39m=\u001b[39m(x_test,y_test))\n",
      "File \u001b[0;32m~/Carla_envi/Car_enviroment/lib/python3.8/site-packages/keras/utils/traceback_utils.py:65\u001b[0m, in \u001b[0;36mfilter_traceback.<locals>.error_handler\u001b[0;34m(*args, **kwargs)\u001b[0m\n\u001b[1;32m     63\u001b[0m filtered_tb \u001b[39m=\u001b[39m \u001b[39mNone\u001b[39;00m\n\u001b[1;32m     64\u001b[0m \u001b[39mtry\u001b[39;00m:\n\u001b[0;32m---> 65\u001b[0m     \u001b[39mreturn\u001b[39;00m fn(\u001b[39m*\u001b[39;49margs, \u001b[39m*\u001b[39;49m\u001b[39m*\u001b[39;49mkwargs)\n\u001b[1;32m     66\u001b[0m \u001b[39mexcept\u001b[39;00m \u001b[39mException\u001b[39;00m \u001b[39mas\u001b[39;00m e:\n\u001b[1;32m     67\u001b[0m     filtered_tb \u001b[39m=\u001b[39m _process_traceback_frames(e\u001b[39m.\u001b[39m__traceback__)\n",
      "File \u001b[0;32m~/Carla_envi/Car_enviroment/lib/python3.8/site-packages/keras/engine/training.py:1564\u001b[0m, in \u001b[0;36mModel.fit\u001b[0;34m(self, x, y, batch_size, epochs, verbose, callbacks, validation_split, validation_data, shuffle, class_weight, sample_weight, initial_epoch, steps_per_epoch, validation_steps, validation_batch_size, validation_freq, max_queue_size, workers, use_multiprocessing)\u001b[0m\n\u001b[1;32m   1556\u001b[0m \u001b[39mwith\u001b[39;00m tf\u001b[39m.\u001b[39mprofiler\u001b[39m.\u001b[39mexperimental\u001b[39m.\u001b[39mTrace(\n\u001b[1;32m   1557\u001b[0m     \u001b[39m\"\u001b[39m\u001b[39mtrain\u001b[39m\u001b[39m\"\u001b[39m,\n\u001b[1;32m   1558\u001b[0m     epoch_num\u001b[39m=\u001b[39mepoch,\n\u001b[0;32m   (...)\u001b[0m\n\u001b[1;32m   1561\u001b[0m     _r\u001b[39m=\u001b[39m\u001b[39m1\u001b[39m,\n\u001b[1;32m   1562\u001b[0m ):\n\u001b[1;32m   1563\u001b[0m     callbacks\u001b[39m.\u001b[39mon_train_batch_begin(step)\n\u001b[0;32m-> 1564\u001b[0m     tmp_logs \u001b[39m=\u001b[39m \u001b[39mself\u001b[39;49m\u001b[39m.\u001b[39;49mtrain_function(iterator)\n\u001b[1;32m   1565\u001b[0m     \u001b[39mif\u001b[39;00m data_handler\u001b[39m.\u001b[39mshould_sync:\n\u001b[1;32m   1566\u001b[0m         context\u001b[39m.\u001b[39masync_wait()\n",
      "File \u001b[0;32m~/Carla_envi/Car_enviroment/lib/python3.8/site-packages/tensorflow/python/util/traceback_utils.py:150\u001b[0m, in \u001b[0;36mfilter_traceback.<locals>.error_handler\u001b[0;34m(*args, **kwargs)\u001b[0m\n\u001b[1;32m    148\u001b[0m filtered_tb \u001b[39m=\u001b[39m \u001b[39mNone\u001b[39;00m\n\u001b[1;32m    149\u001b[0m \u001b[39mtry\u001b[39;00m:\n\u001b[0;32m--> 150\u001b[0m   \u001b[39mreturn\u001b[39;00m fn(\u001b[39m*\u001b[39;49margs, \u001b[39m*\u001b[39;49m\u001b[39m*\u001b[39;49mkwargs)\n\u001b[1;32m    151\u001b[0m \u001b[39mexcept\u001b[39;00m \u001b[39mException\u001b[39;00m \u001b[39mas\u001b[39;00m e:\n\u001b[1;32m    152\u001b[0m   filtered_tb \u001b[39m=\u001b[39m _process_traceback_frames(e\u001b[39m.\u001b[39m__traceback__)\n",
      "File \u001b[0;32m~/Carla_envi/Car_enviroment/lib/python3.8/site-packages/tensorflow/python/eager/def_function.py:925\u001b[0m, in \u001b[0;36mFunction.__call__\u001b[0;34m(self, *args, **kwds)\u001b[0m\n\u001b[1;32m    923\u001b[0m \u001b[39mif\u001b[39;00m context\u001b[39m.\u001b[39mexecuting_eagerly():\n\u001b[1;32m    924\u001b[0m   \u001b[39mif\u001b[39;00m without_tracing:\n\u001b[0;32m--> 925\u001b[0m     _frequent_tracing_detector_manager\u001b[39m.\u001b[39;49mcalled_without_tracing(\n\u001b[1;32m    926\u001b[0m         \u001b[39mself\u001b[39;49m\u001b[39m.\u001b[39;49m_key_for_call_stats)\n\u001b[1;32m    927\u001b[0m   \u001b[39melse\u001b[39;00m:\n\u001b[1;32m    928\u001b[0m     _frequent_tracing_detector_manager\u001b[39m.\u001b[39mcalled_with_tracing(\n\u001b[1;32m    929\u001b[0m         \u001b[39mself\u001b[39m\u001b[39m.\u001b[39m_key_for_call_stats, \u001b[39mself\u001b[39m\u001b[39m.\u001b[39m_python_function,\n\u001b[1;32m    930\u001b[0m         \u001b[39mself\u001b[39m\u001b[39m.\u001b[39m_omit_frequent_tracing_warning)\n",
      "File \u001b[0;32m~/Carla_envi/Car_enviroment/lib/python3.8/site-packages/tensorflow/python/eager/def_function.py:187\u001b[0m, in \u001b[0;36m_FrequentTracingDetectorManager.called_without_tracing\u001b[0;34m(self, key)\u001b[0m\n\u001b[1;32m    185\u001b[0m \u001b[39mdef\u001b[39;00m \u001b[39mcalled_without_tracing\u001b[39m(\u001b[39mself\u001b[39m, key):\n\u001b[1;32m    186\u001b[0m   \u001b[39mwith\u001b[39;00m \u001b[39mself\u001b[39m\u001b[39m.\u001b[39m_lock:\n\u001b[0;32m--> 187\u001b[0m     detector \u001b[39m=\u001b[39m \u001b[39mself\u001b[39;49m\u001b[39m.\u001b[39;49m_get_detector(key)\n\u001b[1;32m    188\u001b[0m     detector\u001b[39m.\u001b[39mcalled_without_tracing()\n",
      "File \u001b[0;32m~/Carla_envi/Car_enviroment/lib/python3.8/site-packages/tensorflow/python/eager/def_function.py:181\u001b[0m, in \u001b[0;36m_FrequentTracingDetectorManager._get_detector\u001b[0;34m(self, key)\u001b[0m\n\u001b[1;32m    180\u001b[0m \u001b[39mdef\u001b[39;00m \u001b[39m_get_detector\u001b[39m(\u001b[39mself\u001b[39m, key):\n\u001b[0;32m--> 181\u001b[0m   \u001b[39mif\u001b[39;00m key \u001b[39mnot\u001b[39;49;00m \u001b[39min\u001b[39;49;00m \u001b[39mself\u001b[39;49m\u001b[39m.\u001b[39;49m_detectors:\n\u001b[1;32m    182\u001b[0m     \u001b[39mself\u001b[39m\u001b[39m.\u001b[39m_detectors[key] \u001b[39m=\u001b[39m _FrequentTracingDetector()\n\u001b[1;32m    183\u001b[0m   \u001b[39mreturn\u001b[39;00m \u001b[39mself\u001b[39m\u001b[39m.\u001b[39m_detectors[key]\n",
      "File \u001b[0;32m/usr/lib/python3.8/weakref.py:427\u001b[0m, in \u001b[0;36mWeakKeyDictionary.__contains__\u001b[0;34m(self, key)\u001b[0m\n\u001b[1;32m    425\u001b[0m \u001b[39mexcept\u001b[39;00m \u001b[39mTypeError\u001b[39;00m:\n\u001b[1;32m    426\u001b[0m     \u001b[39mreturn\u001b[39;00m \u001b[39mFalse\u001b[39;00m\n\u001b[0;32m--> 427\u001b[0m \u001b[39mreturn\u001b[39;00m wr \u001b[39min\u001b[39;49;00m \u001b[39mself\u001b[39;49m\u001b[39m.\u001b[39;49mdata\n",
      "\u001b[0;31mKeyboardInterrupt\u001b[0m: "
     ]
    }
   ],
   "source": [
    "model.fit(x_train,y_train,epochs =200,batch_size =128,validation_data=(x_test,y_test))"
   ]
  },
  {
   "cell_type": "code",
   "execution_count": 142,
   "metadata": {},
   "outputs": [
    {
     "name": "stdout",
     "output_type": "stream",
     "text": [
      "[0. 0. 1. 0. 0. 0. 0. 0. 0. 0.]\n"
     ]
    },
    {
     "data": {
      "image/png": "[encoded data removed]",
      "text/plain": [
       "<Figure size 640x480 with 1 Axes>"
      ]
     },
     "metadata": {},
     "output_type": "display_data"
    }
   ],
   "source": [
    "import numpy as np\n",
    "from keras.utils.image_utils import load_img,img_to_array\n",
    "image = load_img(\"image_test/download.jpeg\",target_size=(28,28),color_mode = \"grayscale\")\n",
    "img= img_to_array(image)\n",
    "img = 1-img/255\n",
    "plt.imshow(img)\n",
    "\n",
    "print(y_test[20])"
   ]
  },
  {
   "cell_type": "code",
   "execution_count": 147,
   "metadata": {},
   "outputs": [
    {
     "name": "stdout",
     "output_type": "stream",
     "text": [
      "1/1 [==============================] - 0s 13ms/step\n",
      "Shirt\n"
     ]
    }
   ],
   "source": [
    "import numpy as np\n",
    "\n",
    "\n",
    "\n",
    "\n",
    "tag = np.argmax(model.predict(img),axis=1)\n",
    "print(classnames[tag[0]])\n"
   ]
  }
 ],
 "metadata": {
  "kernelspec": {
   "display_name": "Python 3.8.10 ('Car_enviroment')",
   "language": "python",
   "name": "python3"
  },
  "language_info": {
   "codemirror_mode": {
    "name": "ipython",
    "version": 3
   },
   "file_extension": ".py",
   "mimetype": "text/x-python",
   "name": "python",
   "nbconvert_exporter": "python",
   "pygments_lexer": "ipython3",
   "version": "3.8.10"
  },
  "orig_nbformat": 4,
  "vscode": {
   "interpreter": {
    "hash": "adc40417d40e2457938e3d78b2a2e0058813177b0c69e12c033c503d15659ee9"
   }
  }
 },
 "nbformat": 4,
 "nbformat_minor": 2
}
