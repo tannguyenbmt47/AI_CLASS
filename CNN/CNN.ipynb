{
 "cells": [
  {
   "cell_type": "code",
   "execution_count": null,
   "metadata": {},
   "outputs": [],
   "source": [
    "from keras.datasets import mnist\n",
    "(X_train,Y_train),(X_test,Y_test) = mnist.load_data()"
   ]
  },
  {
   "cell_type": "code",
   "execution_count": null,
   "metadata": {},
   "outputs": [],
   "source": [
    "import matplotlib.pyplot as plt"
   ]
  },
  {
   "cell_type": "code",
   "execution_count": null,
   "metadata": {},
   "outputs": [],
   "source": [
    "n=9\n",
    "plt.figure(figsize=(20,10))\n",
    "for i in range(n):\n",
    "  plt.subplot(330+1+i)\n",
    "  plt.imshow(X_train[i])\n",
    "  plt.title(Y_train[i])\n",
    "plt.show()"
   ]
  },
  {
   "cell_type": "code",
   "execution_count": null,
   "metadata": {},
   "outputs": [],
   "source": [
    "print(X_train.shape)\n",
    "print(X_test.shape)"
   ]
  },
  {
   "cell_type": "code",
   "execution_count": null,
   "metadata": {},
   "outputs": [],
   "source": [
    "from keras.utils import to_categorical\n",
    "Y_train = to_categorical(Y_train)\n",
    "Y_test = to_categorical(Y_test)"
   ]
  },
  {
   "cell_type": "code",
   "execution_count": null,
   "metadata": {},
   "outputs": [],
   "source": [
    "from keras.models import Sequential,Model\n",
    "from keras.layers import Dense,Dropout, Flatten\n",
    "from keras.layers import Conv2D, MaxPooling2D\n",
    "\n",
    "model = Sequential()\n",
    "model.add(Conv2D(32,kernel_size = (3,3),activation = \"relu\", input_shape = (28,28,1),padding = \"same\"))\n",
    "model.add(MaxPooling2D((2,2),padding=\"same\"))\n",
    "model.add(Conv2D(64,kernel_size=(3,3),activation=\"relu\",padding=\"same\"))\n",
    "model.add(MaxPooling2D((2,2),padding = \"same\"))\n",
    "model.add(Flatten())\n",
    "model.add(Dense(128,activation=\"relu\"))\n",
    "model.add(Dense(10,activation=\"softmax\"))"
   ]
  },
  {
   "cell_type": "code",
   "execution_count": null,
   "metadata": {},
   "outputs": [],
   "source": [
    "model.summary()"
   ]
  },
  {
   "cell_type": "code",
   "execution_count": null,
   "metadata": {},
   "outputs": [],
   "source": [
    "from keras.optimizers import Adam\n",
    "model.compile(loss='categorical_crossentropy',optimizer = Adam(),metrics= ['accuracy'])"
   ]
  },
  {
   "cell_type": "code",
   "execution_count": 9,
   "metadata": {},
   "outputs": [
    {
     "name": "stdout",
     "output_type": "stream",
     "text": [
      "469/469 [==============================] - 4s 5ms/step - loss: 0.7777 - accuracy: 0.9254 - val_loss: 0.0748 - val_accuracy: 0.9760\n",
      "Epoch 2/100\n",
      "469/469 [==============================] - 2s 5ms/step - loss: 0.0583 - accuracy: 0.9811 - val_loss: 0.0641 - val_accuracy: 0.9803\n",
      "Epoch 3/100\n",
      "469/469 [==============================] - 2s 5ms/step - loss: 0.0381 - accuracy: 0.9883 - val_loss: 0.0567 - val_accuracy: 0.9827\n",
      "Epoch 4/100\n",
      "283/469 [=================>............] - ETA: 0s - loss: 0.0289 - accuracy: 0.9901"
     ]
    }
   ],
   "source": [
    "history = model.fit(X_train, Y_train, epochs = 100, batch_size = 128, validation_data=[X_test,Y_test])"
   ]
  },
  {
   "cell_type": "code",
   "execution_count": null,
   "metadata": {},
   "outputs": [],
   "source": [
    "plt.plot(history.history[\"accuracy\"])\n",
    "plt.plot(history.history[\"loss\"])\n",
    "plt.title(\"Do chinh xac mo hinh\")\n",
    "plt.ylabel(\"do chinh xac\")\n",
    "plt.xlabel(\"so lan hoc\")\n",
    "plt.legend([\"Do chinh xac\",\"Sai so\"])"
   ]
  },
  {
   "cell_type": "code",
   "execution_count": null,
   "metadata": {},
   "outputs": [],
   "source": [
    "from keras.utils.image_utils import load_img\n",
    "image = load_img('data/anh_so5.png', target_size=(28,28),color_mode=\"grayscale\")\n",
    "plt.imshow(image)"
   ]
  },
  {
   "cell_type": "code",
   "execution_count": null,
   "metadata": {},
   "outputs": [],
   "source": [
    "from keras.utils.image_utils import img_to_array\n",
    "import numpy as np\n",
    "img = img_to_array(image)\n",
    "img = img.reshape(1,28,28)\n",
    "img = img.astype('float32')\n",
    "img = img\n",
    "tag = np.argmax(model.predict(img),axis=1)\n",
    "plt.imshow(image)\n",
    "print(tag)\n"
   ]
  }
 ],
 "metadata": {
  "kernelspec": {
   "display_name": "Python 3",
   "language": "python",
   "name": "python3"
  },
  "language_info": {
   "codemirror_mode": {
    "name": "ipython",
    "version": 3
   },
   "file_extension": ".py",
   "mimetype": "text/x-python",
   "name": "python",
   "nbconvert_exporter": "python",
   "pygments_lexer": "ipython3",
   "version": "3.8.10 (default, Nov 14 2022, 12:59:47) \n[GCC 9.4.0]"
  },
  "orig_nbformat": 4,
  "vscode": {
   "interpreter": {
    "hash": "916dbcbb3f70747c44a77c7bcd40155683ae19c65e1c03b4aa3499c5328201f1"
   }
  }
 },
 "nbformat": 4,
 "nbformat_minor": 2
}
