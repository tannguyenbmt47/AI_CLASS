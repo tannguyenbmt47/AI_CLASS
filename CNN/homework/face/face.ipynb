{
 "cells": [
  {
   "cell_type": "code",
   "execution_count": 1,
   "metadata": {},
   "outputs": [],
   "source": [
    "import numpy as np\n",
    "import matplotlib.pyplot as plt\n",
    "from pathlib import Path"
   ]
  },
  {
   "cell_type": "code",
   "execution_count": 2,
   "metadata": {},
   "outputs": [
    {
     "name": "stderr",
     "output_type": "stream",
     "text": [
      "2022-11-15 11:19:05.083757: I tensorflow/core/platform/cpu_feature_guard.cc:193] This TensorFlow binary is optimized with oneAPI Deep Neural Network Library (oneDNN) to use the following CPU instructions in performance-critical operations:  AVX2 FMA\n",
      "To enable them in other operations, rebuild TensorFlow with the appropriate compiler flags.\n",
      "2022-11-15 11:19:05.201072: W tensorflow/stream_executor/platform/default/dso_loader.cc:64] Could not load dynamic library 'libcudart.so.11.0'; dlerror: libcudart.so.11.0: cannot open shared object file: No such file or directory\n",
      "2022-11-15 11:19:05.201086: I tensorflow/stream_executor/cuda/cudart_stub.cc:29] Ignore above cudart dlerror if you do not have a GPU set up on your machine.\n",
      "2022-11-15 11:19:05.220476: E tensorflow/stream_executor/cuda/cuda_blas.cc:2981] Unable to register cuBLAS factory: Attempting to register factory for plugin cuBLAS when one has already been registered\n",
      "2022-11-15 11:19:05.720012: W tensorflow/stream_executor/platform/default/dso_loader.cc:64] Could not load dynamic library 'libnvinfer.so.7'; dlerror: libnvinfer.so.7: cannot open shared object file: No such file or directory\n",
      "2022-11-15 11:19:05.720050: W tensorflow/stream_executor/platform/default/dso_loader.cc:64] Could not load dynamic library 'libnvinfer_plugin.so.7'; dlerror: libnvinfer_plugin.so.7: cannot open shared object file: No such file or directory\n",
      "2022-11-15 11:19:05.720056: W tensorflow/compiler/tf2tensorrt/utils/py_utils.cc:38] TF-TRT Warning: Cannot dlopen some TensorRT libraries. If you would like to use Nvidia GPU with TensorRT, please make sure the missing libraries mentioned above are installed properly.\n"
     ]
    },
    {
     "name": "stdout",
     "output_type": "stream",
     "text": [
      "float64\n"
     ]
    }
   ],
   "source": [
    "\n",
    "from keras.utils.image_utils import load_img,img_to_array\n",
    "img_folder = Path(\"data/Data_AI_k20/\")\n",
    "\n",
    "label = [\"Ai\",\"Dang\",\"Han\",'Hoang',\"LamVu\",\"Nguyen\",\"phi\",\"phuc\",\"Tan\",\"Thoai\",\"Thuong\"]\n",
    "test_image = list([])\n",
    "X_data = np.empty((0,32,32))\n",
    "Y_label = []\n",
    "\n",
    "for i in range(len(label)):\n",
    "    train_folder = img_folder/label[i]\n",
    "    test = list(train_folder.glob(\"*.jpg\"))\n",
    "    test_image = test_image + test\n",
    "    Y_label = Y_label+[i]*len(list(train_folder.glob(\"*.jpg\")))\n",
    "\n",
    "for  i in range(len(test_image)):\n",
    "    image_path = str(test_image[i])\n",
    "    img = load_img(image_path,target_size=(32,32),color_mode = \"grayscale\")\n",
    "    img= img_to_array(img)\n",
    "    img = img.astype(\"float32\")/255\n",
    "    \n",
    "\n",
    "    img = np.reshape(img,(1,32,32))\n",
    "    X_data = np.vstack((X_data,img))\n",
    "print(X_data.dtype)"
   ]
  },
  {
   "cell_type": "code",
   "execution_count": 3,
   "metadata": {},
   "outputs": [
    {
     "name": "stdout",
     "output_type": "stream",
     "text": [
      "(967, 32, 32)\n"
     ]
    }
   ],
   "source": [
    "print(X_data.shape)"
   ]
  },
  {
   "cell_type": "code",
   "execution_count": 4,
   "metadata": {},
   "outputs": [
    {
     "name": "stderr",
     "output_type": "stream",
     "text": [
      "2022-11-15 11:20:27.731011: W tensorflow/stream_executor/platform/default/dso_loader.cc:64] Could not load dynamic library 'libcuda.so.1'; dlerror: libcuda.so.1: cannot open shared object file: No such file or directory\n",
      "2022-11-15 11:20:27.731058: W tensorflow/stream_executor/cuda/cuda_driver.cc:263] failed call to cuInit: UNKNOWN ERROR (303)\n",
      "2022-11-15 11:20:27.731091: I tensorflow/stream_executor/cuda/cuda_diagnostics.cc:156] kernel driver does not appear to be running on this host (dauphongtantan): /proc/driver/nvidia/version does not exist\n",
      "2022-11-15 11:20:27.731299: I tensorflow/core/platform/cpu_feature_guard.cc:193] This TensorFlow binary is optimized with oneAPI Deep Neural Network Library (oneDNN) to use the following CPU instructions in performance-critical operations:  AVX2 FMA\n",
      "To enable them in other operations, rebuild TensorFlow with the appropriate compiler flags.\n"
     ]
    }
   ],
   "source": [
    "from keras.models import Sequential,Model\n",
    "from keras.layers import Dense,Dropout, Flatten\n",
    "from keras.layers import Conv2D, MaxPooling2D\n",
    "\n",
    "model = Sequential()\n",
    "model.add(Conv2D(32,kernel_size = (3,3),activation = \"relu\", input_shape = (32,32,1),padding = \"same\"))\n",
    "model.add(MaxPooling2D((2,2),padding=\"same\"))\n",
    "model.add(Conv2D(64,kernel_size=(3,3),activation=\"relu\",padding=\"same\"))\n",
    "model.add(MaxPooling2D((2,2),padding = \"same\"))\n",
    "model.add(Flatten())\n",
    "model.add(Dense(128,activation=\"relu\"))\n",
    "model.add(Dense(11,activation=\"softmax\"))"
   ]
  },
  {
   "cell_type": "code",
   "execution_count": 5,
   "metadata": {},
   "outputs": [],
   "source": [
    "from keras.optimizers import Adam\n",
    "model.compile(loss='categorical_crossentropy',optimizer = Adam(),metrics= ['accuracy'])"
   ]
  },
  {
   "cell_type": "code",
   "execution_count": 6,
   "metadata": {},
   "outputs": [],
   "source": [
    "from sklearn.model_selection import train_test_split\n",
    "X_train,X_test,Y_train,Y_test = train_test_split(X_data,Y_label,test_size=0.3,shuffle=True)"
   ]
  },
  {
   "cell_type": "code",
   "execution_count": 7,
   "metadata": {},
   "outputs": [],
   "source": [
    "from keras.utils import to_categorical\n",
    "Y_train = to_categorical(Y_train)\n",
    "Y_test = to_categorical(Y_test)"
   ]
  },
  {
   "cell_type": "code",
   "execution_count": 8,
   "metadata": {},
   "outputs": [],
   "source": [
    "from keras.callbacks import EarlyStopping\n",
    "earlyStop = EarlyStopping(monitor='loss', patience=3)"
   ]
  },
  {
   "cell_type": "code",
   "execution_count": 9,
   "metadata": {},
   "outputs": [
    {
     "name": "stdout",
     "output_type": "stream",
     "text": [
      "Epoch 1/100\n",
      "22/22 [==============================] - 1s 21ms/step - loss: 1.5138 - accuracy: 0.5207 - val_loss: 0.6852 - val_accuracy: 0.9175\n",
      "Epoch 2/100\n",
      "22/22 [==============================] - 0s 16ms/step - loss: 0.2536 - accuracy: 0.9527 - val_loss: 0.0945 - val_accuracy: 0.9897\n",
      "Epoch 3/100\n",
      "22/22 [==============================] - 0s 17ms/step - loss: 0.0943 - accuracy: 0.9734 - val_loss: 0.0319 - val_accuracy: 0.9966\n",
      "Epoch 4/100\n",
      "22/22 [==============================] - 0s 16ms/step - loss: 0.0161 - accuracy: 0.9956 - val_loss: 0.0167 - val_accuracy: 0.9966\n",
      "Epoch 5/100\n",
      "22/22 [==============================] - 0s 15ms/step - loss: 0.0072 - accuracy: 0.9985 - val_loss: 0.0172 - val_accuracy: 0.9966\n",
      "Epoch 6/100\n",
      "22/22 [==============================] - 0s 15ms/step - loss: 0.0075 - accuracy: 0.9985 - val_loss: 0.0093 - val_accuracy: 0.9966\n",
      "Epoch 7/100\n",
      "22/22 [==============================] - 0s 15ms/step - loss: 0.0047 - accuracy: 1.0000 - val_loss: 0.0062 - val_accuracy: 1.0000\n",
      "Epoch 8/100\n",
      "22/22 [==============================] - 0s 15ms/step - loss: 0.0015 - accuracy: 1.0000 - val_loss: 0.0056 - val_accuracy: 1.0000\n",
      "Epoch 9/100\n",
      "22/22 [==============================] - 0s 15ms/step - loss: 0.0011 - accuracy: 1.0000 - val_loss: 0.0046 - val_accuracy: 1.0000\n",
      "Epoch 10/100\n",
      "22/22 [==============================] - 0s 15ms/step - loss: 8.6691e-04 - accuracy: 1.0000 - val_loss: 0.0049 - val_accuracy: 1.0000\n",
      "Epoch 11/100\n",
      "22/22 [==============================] - 0s 15ms/step - loss: 7.4796e-04 - accuracy: 1.0000 - val_loss: 0.0047 - val_accuracy: 1.0000\n",
      "Epoch 12/100\n",
      "22/22 [==============================] - 0s 16ms/step - loss: 6.3866e-04 - accuracy: 1.0000 - val_loss: 0.0041 - val_accuracy: 1.0000\n",
      "Epoch 13/100\n",
      "22/22 [==============================] - 0s 15ms/step - loss: 5.8191e-04 - accuracy: 1.0000 - val_loss: 0.0046 - val_accuracy: 1.0000\n",
      "Epoch 14/100\n",
      "22/22 [==============================] - 0s 15ms/step - loss: 5.0285e-04 - accuracy: 1.0000 - val_loss: 0.0037 - val_accuracy: 1.0000\n",
      "Epoch 15/100\n",
      "22/22 [==============================] - 0s 15ms/step - loss: 4.3227e-04 - accuracy: 1.0000 - val_loss: 0.0037 - val_accuracy: 1.0000\n",
      "Epoch 16/100\n",
      "22/22 [==============================] - 0s 16ms/step - loss: 3.9306e-04 - accuracy: 1.0000 - val_loss: 0.0040 - val_accuracy: 1.0000\n",
      "Epoch 17/100\n",
      "22/22 [==============================] - 0s 16ms/step - loss: 3.5163e-04 - accuracy: 1.0000 - val_loss: 0.0034 - val_accuracy: 1.0000\n",
      "Epoch 18/100\n",
      "22/22 [==============================] - 0s 15ms/step - loss: 3.3323e-04 - accuracy: 1.0000 - val_loss: 0.0029 - val_accuracy: 1.0000\n",
      "Epoch 19/100\n",
      "22/22 [==============================] - 0s 15ms/step - loss: 2.8643e-04 - accuracy: 1.0000 - val_loss: 0.0030 - val_accuracy: 1.0000\n",
      "Epoch 20/100\n",
      "22/22 [==============================] - 0s 15ms/step - loss: 2.6162e-04 - accuracy: 1.0000 - val_loss: 0.0034 - val_accuracy: 1.0000\n",
      "Epoch 21/100\n",
      "22/22 [==============================] - 0s 16ms/step - loss: 2.3860e-04 - accuracy: 1.0000 - val_loss: 0.0031 - val_accuracy: 1.0000\n",
      "Epoch 22/100\n",
      "22/22 [==============================] - 0s 16ms/step - loss: 2.2033e-04 - accuracy: 1.0000 - val_loss: 0.0032 - val_accuracy: 1.0000\n",
      "Epoch 23/100\n",
      "22/22 [==============================] - 0s 16ms/step - loss: 2.0928e-04 - accuracy: 1.0000 - val_loss: 0.0028 - val_accuracy: 1.0000\n",
      "Epoch 24/100\n",
      "22/22 [==============================] - 0s 16ms/step - loss: 1.9700e-04 - accuracy: 1.0000 - val_loss: 0.0030 - val_accuracy: 1.0000\n",
      "Epoch 25/100\n",
      "22/22 [==============================] - 0s 15ms/step - loss: 1.7296e-04 - accuracy: 1.0000 - val_loss: 0.0028 - val_accuracy: 1.0000\n",
      "Epoch 26/100\n",
      "22/22 [==============================] - 0s 16ms/step - loss: 1.6024e-04 - accuracy: 1.0000 - val_loss: 0.0028 - val_accuracy: 1.0000\n",
      "Epoch 27/100\n",
      "22/22 [==============================] - 0s 19ms/step - loss: 1.5158e-04 - accuracy: 1.0000 - val_loss: 0.0027 - val_accuracy: 1.0000\n",
      "Epoch 28/100\n",
      "22/22 [==============================] - 0s 19ms/step - loss: 1.4145e-04 - accuracy: 1.0000 - val_loss: 0.0028 - val_accuracy: 1.0000\n",
      "Epoch 29/100\n",
      "22/22 [==============================] - 0s 18ms/step - loss: 1.3335e-04 - accuracy: 1.0000 - val_loss: 0.0026 - val_accuracy: 1.0000\n",
      "Epoch 30/100\n",
      "22/22 [==============================] - 0s 16ms/step - loss: 1.2540e-04 - accuracy: 1.0000 - val_loss: 0.0031 - val_accuracy: 1.0000\n",
      "Epoch 31/100\n",
      "22/22 [==============================] - 0s 19ms/step - loss: 1.2013e-04 - accuracy: 1.0000 - val_loss: 0.0024 - val_accuracy: 1.0000\n",
      "Epoch 32/100\n",
      "22/22 [==============================] - 0s 16ms/step - loss: 1.1432e-04 - accuracy: 1.0000 - val_loss: 0.0026 - val_accuracy: 1.0000\n",
      "Epoch 33/100\n",
      "22/22 [==============================] - 0s 16ms/step - loss: 1.0582e-04 - accuracy: 1.0000 - val_loss: 0.0023 - val_accuracy: 1.0000\n",
      "Epoch 34/100\n",
      "22/22 [==============================] - 0s 17ms/step - loss: 9.9408e-05 - accuracy: 1.0000 - val_loss: 0.0023 - val_accuracy: 1.0000\n",
      "Epoch 35/100\n",
      "22/22 [==============================] - 0s 20ms/step - loss: 9.4954e-05 - accuracy: 1.0000 - val_loss: 0.0023 - val_accuracy: 1.0000\n",
      "Epoch 36/100\n",
      "22/22 [==============================] - 0s 14ms/step - loss: 8.7496e-05 - accuracy: 1.0000 - val_loss: 0.0023 - val_accuracy: 1.0000\n",
      "Epoch 37/100\n",
      "22/22 [==============================] - 0s 15ms/step - loss: 8.6622e-05 - accuracy: 1.0000 - val_loss: 0.0019 - val_accuracy: 1.0000\n",
      "Epoch 38/100\n",
      "22/22 [==============================] - 0s 15ms/step - loss: 7.9748e-05 - accuracy: 1.0000 - val_loss: 0.0018 - val_accuracy: 1.0000\n",
      "Epoch 39/100\n",
      "22/22 [==============================] - 0s 16ms/step - loss: 7.5904e-05 - accuracy: 1.0000 - val_loss: 0.0019 - val_accuracy: 1.0000\n",
      "Epoch 40/100\n",
      "22/22 [==============================] - 0s 16ms/step - loss: 7.2896e-05 - accuracy: 1.0000 - val_loss: 0.0018 - val_accuracy: 1.0000\n",
      "Epoch 41/100\n",
      "22/22 [==============================] - 0s 15ms/step - loss: 6.9343e-05 - accuracy: 1.0000 - val_loss: 0.0020 - val_accuracy: 1.0000\n",
      "Epoch 42/100\n",
      "22/22 [==============================] - 0s 16ms/step - loss: 6.6562e-05 - accuracy: 1.0000 - val_loss: 0.0019 - val_accuracy: 1.0000\n",
      "Epoch 43/100\n",
      "22/22 [==============================] - 0s 20ms/step - loss: 6.5618e-05 - accuracy: 1.0000 - val_loss: 0.0018 - val_accuracy: 1.0000\n",
      "Epoch 44/100\n",
      "22/22 [==============================] - 0s 22ms/step - loss: 6.2852e-05 - accuracy: 1.0000 - val_loss: 0.0019 - val_accuracy: 1.0000\n",
      "Epoch 45/100\n",
      "22/22 [==============================] - 0s 15ms/step - loss: 5.8312e-05 - accuracy: 1.0000 - val_loss: 0.0019 - val_accuracy: 1.0000\n",
      "Epoch 46/100\n",
      "22/22 [==============================] - 0s 15ms/step - loss: 5.6407e-05 - accuracy: 1.0000 - val_loss: 0.0018 - val_accuracy: 1.0000\n",
      "Epoch 47/100\n",
      "22/22 [==============================] - 0s 14ms/step - loss: 5.3980e-05 - accuracy: 1.0000 - val_loss: 0.0019 - val_accuracy: 1.0000\n",
      "Epoch 48/100\n",
      "22/22 [==============================] - 0s 15ms/step - loss: 5.1556e-05 - accuracy: 1.0000 - val_loss: 0.0019 - val_accuracy: 1.0000\n",
      "Epoch 49/100\n",
      "22/22 [==============================] - 0s 22ms/step - loss: 4.9386e-05 - accuracy: 1.0000 - val_loss: 0.0018 - val_accuracy: 1.0000\n",
      "Epoch 50/100\n",
      "22/22 [==============================] - 0s 19ms/step - loss: 4.7646e-05 - accuracy: 1.0000 - val_loss: 0.0018 - val_accuracy: 1.0000\n",
      "Epoch 51/100\n",
      "22/22 [==============================] - 0s 15ms/step - loss: 4.5976e-05 - accuracy: 1.0000 - val_loss: 0.0019 - val_accuracy: 1.0000\n",
      "Epoch 52/100\n",
      "22/22 [==============================] - 0s 16ms/step - loss: 4.4467e-05 - accuracy: 1.0000 - val_loss: 0.0018 - val_accuracy: 1.0000\n",
      "Epoch 53/100\n",
      "22/22 [==============================] - 0s 15ms/step - loss: 4.2374e-05 - accuracy: 1.0000 - val_loss: 0.0018 - val_accuracy: 1.0000\n",
      "Epoch 54/100\n",
      "22/22 [==============================] - 0s 17ms/step - loss: 4.1055e-05 - accuracy: 1.0000 - val_loss: 0.0017 - val_accuracy: 1.0000\n",
      "Epoch 55/100\n",
      "22/22 [==============================] - 0s 17ms/step - loss: 3.9359e-05 - accuracy: 1.0000 - val_loss: 0.0018 - val_accuracy: 1.0000\n",
      "Epoch 56/100\n",
      "22/22 [==============================] - 0s 16ms/step - loss: 3.8207e-05 - accuracy: 1.0000 - val_loss: 0.0018 - val_accuracy: 1.0000\n",
      "Epoch 57/100\n",
      "22/22 [==============================] - 0s 15ms/step - loss: 3.7170e-05 - accuracy: 1.0000 - val_loss: 0.0017 - val_accuracy: 1.0000\n",
      "Epoch 58/100\n",
      "22/22 [==============================] - 0s 14ms/step - loss: 3.5821e-05 - accuracy: 1.0000 - val_loss: 0.0017 - val_accuracy: 1.0000\n",
      "Epoch 59/100\n",
      "22/22 [==============================] - 0s 15ms/step - loss: 3.4691e-05 - accuracy: 1.0000 - val_loss: 0.0017 - val_accuracy: 1.0000\n",
      "Epoch 60/100\n",
      "22/22 [==============================] - 0s 18ms/step - loss: 3.3212e-05 - accuracy: 1.0000 - val_loss: 0.0017 - val_accuracy: 1.0000\n",
      "Epoch 61/100\n",
      "22/22 [==============================] - 0s 17ms/step - loss: 3.2874e-05 - accuracy: 1.0000 - val_loss: 0.0017 - val_accuracy: 1.0000\n",
      "Epoch 62/100\n",
      "22/22 [==============================] - 0s 18ms/step - loss: 3.1564e-05 - accuracy: 1.0000 - val_loss: 0.0016 - val_accuracy: 1.0000\n",
      "Epoch 63/100\n",
      "22/22 [==============================] - 0s 18ms/step - loss: 3.0044e-05 - accuracy: 1.0000 - val_loss: 0.0015 - val_accuracy: 1.0000\n",
      "Epoch 64/100\n",
      "22/22 [==============================] - 0s 16ms/step - loss: 2.9467e-05 - accuracy: 1.0000 - val_loss: 0.0015 - val_accuracy: 1.0000\n",
      "Epoch 65/100\n",
      "22/22 [==============================] - 0s 17ms/step - loss: 2.8741e-05 - accuracy: 1.0000 - val_loss: 0.0016 - val_accuracy: 1.0000\n",
      "Epoch 66/100\n",
      "22/22 [==============================] - 0s 16ms/step - loss: 2.7471e-05 - accuracy: 1.0000 - val_loss: 0.0015 - val_accuracy: 1.0000\n",
      "Epoch 67/100\n",
      "22/22 [==============================] - 0s 14ms/step - loss: 2.6671e-05 - accuracy: 1.0000 - val_loss: 0.0016 - val_accuracy: 1.0000\n",
      "Epoch 68/100\n",
      "22/22 [==============================] - 0s 14ms/step - loss: 2.5803e-05 - accuracy: 1.0000 - val_loss: 0.0015 - val_accuracy: 1.0000\n",
      "Epoch 69/100\n",
      "22/22 [==============================] - 0s 14ms/step - loss: 2.5527e-05 - accuracy: 1.0000 - val_loss: 0.0015 - val_accuracy: 1.0000\n",
      "Epoch 70/100\n",
      "22/22 [==============================] - 0s 15ms/step - loss: 2.4148e-05 - accuracy: 1.0000 - val_loss: 0.0015 - val_accuracy: 1.0000\n",
      "Epoch 71/100\n",
      "22/22 [==============================] - 0s 16ms/step - loss: 2.3533e-05 - accuracy: 1.0000 - val_loss: 0.0016 - val_accuracy: 1.0000\n",
      "Epoch 72/100\n",
      "22/22 [==============================] - 0s 15ms/step - loss: 2.3133e-05 - accuracy: 1.0000 - val_loss: 0.0016 - val_accuracy: 1.0000\n",
      "Epoch 73/100\n",
      "22/22 [==============================] - 0s 15ms/step - loss: 2.2430e-05 - accuracy: 1.0000 - val_loss: 0.0015 - val_accuracy: 1.0000\n",
      "Epoch 74/100\n",
      "22/22 [==============================] - 0s 14ms/step - loss: 2.1748e-05 - accuracy: 1.0000 - val_loss: 0.0015 - val_accuracy: 1.0000\n",
      "Epoch 75/100\n",
      "22/22 [==============================] - 0s 14ms/step - loss: 2.1319e-05 - accuracy: 1.0000 - val_loss: 0.0015 - val_accuracy: 1.0000\n",
      "Epoch 76/100\n",
      "22/22 [==============================] - 0s 14ms/step - loss: 2.0496e-05 - accuracy: 1.0000 - val_loss: 0.0015 - val_accuracy: 1.0000\n",
      "Epoch 77/100\n",
      "22/22 [==============================] - 0s 14ms/step - loss: 2.0551e-05 - accuracy: 1.0000 - val_loss: 0.0014 - val_accuracy: 1.0000\n",
      "Epoch 78/100\n",
      "22/22 [==============================] - 0s 17ms/step - loss: 1.9495e-05 - accuracy: 1.0000 - val_loss: 0.0014 - val_accuracy: 1.0000\n",
      "Epoch 79/100\n",
      "22/22 [==============================] - 0s 17ms/step - loss: 1.9140e-05 - accuracy: 1.0000 - val_loss: 0.0015 - val_accuracy: 1.0000\n",
      "Epoch 80/100\n",
      "22/22 [==============================] - 0s 16ms/step - loss: 1.8709e-05 - accuracy: 1.0000 - val_loss: 0.0014 - val_accuracy: 1.0000\n",
      "Epoch 81/100\n",
      "22/22 [==============================] - 0s 16ms/step - loss: 1.7991e-05 - accuracy: 1.0000 - val_loss: 0.0014 - val_accuracy: 1.0000\n",
      "Epoch 82/100\n",
      "22/22 [==============================] - 0s 15ms/step - loss: 1.7422e-05 - accuracy: 1.0000 - val_loss: 0.0014 - val_accuracy: 1.0000\n",
      "Epoch 83/100\n",
      "22/22 [==============================] - 0s 16ms/step - loss: 1.6976e-05 - accuracy: 1.0000 - val_loss: 0.0014 - val_accuracy: 1.0000\n",
      "Epoch 84/100\n",
      "22/22 [==============================] - 0s 16ms/step - loss: 1.6675e-05 - accuracy: 1.0000 - val_loss: 0.0014 - val_accuracy: 1.0000\n",
      "Epoch 85/100\n",
      "22/22 [==============================] - 0s 15ms/step - loss: 1.6178e-05 - accuracy: 1.0000 - val_loss: 0.0014 - val_accuracy: 1.0000\n",
      "Epoch 86/100\n",
      "22/22 [==============================] - 0s 16ms/step - loss: 1.5800e-05 - accuracy: 1.0000 - val_loss: 0.0014 - val_accuracy: 1.0000\n",
      "Epoch 87/100\n",
      "22/22 [==============================] - 0s 16ms/step - loss: 1.5585e-05 - accuracy: 1.0000 - val_loss: 0.0013 - val_accuracy: 1.0000\n",
      "Epoch 88/100\n",
      "22/22 [==============================] - 0s 15ms/step - loss: 1.5090e-05 - accuracy: 1.0000 - val_loss: 0.0014 - val_accuracy: 1.0000\n",
      "Epoch 89/100\n",
      "22/22 [==============================] - 0s 16ms/step - loss: 1.4902e-05 - accuracy: 1.0000 - val_loss: 0.0013 - val_accuracy: 1.0000\n",
      "Epoch 90/100\n",
      "22/22 [==============================] - 0s 17ms/step - loss: 1.5233e-05 - accuracy: 1.0000 - val_loss: 0.0015 - val_accuracy: 1.0000\n",
      "Epoch 91/100\n",
      "22/22 [==============================] - 0s 16ms/step - loss: 1.4358e-05 - accuracy: 1.0000 - val_loss: 0.0017 - val_accuracy: 1.0000\n",
      "Epoch 92/100\n",
      "22/22 [==============================] - 0s 14ms/step - loss: 1.4104e-05 - accuracy: 1.0000 - val_loss: 0.0014 - val_accuracy: 1.0000\n",
      "Epoch 93/100\n",
      "22/22 [==============================] - 0s 14ms/step - loss: 1.3652e-05 - accuracy: 1.0000 - val_loss: 0.0017 - val_accuracy: 1.0000\n",
      "Epoch 94/100\n",
      "22/22 [==============================] - 0s 15ms/step - loss: 1.2941e-05 - accuracy: 1.0000 - val_loss: 0.0015 - val_accuracy: 1.0000\n",
      "Epoch 95/100\n",
      "22/22 [==============================] - 0s 16ms/step - loss: 1.2488e-05 - accuracy: 1.0000 - val_loss: 0.0014 - val_accuracy: 1.0000\n",
      "Epoch 96/100\n",
      "22/22 [==============================] - 0s 15ms/step - loss: 1.2127e-05 - accuracy: 1.0000 - val_loss: 0.0013 - val_accuracy: 1.0000\n",
      "Epoch 97/100\n",
      "22/22 [==============================] - 0s 14ms/step - loss: 1.1878e-05 - accuracy: 1.0000 - val_loss: 0.0013 - val_accuracy: 1.0000\n",
      "Epoch 98/100\n",
      "22/22 [==============================] - 0s 14ms/step - loss: 1.1794e-05 - accuracy: 1.0000 - val_loss: 0.0013 - val_accuracy: 1.0000\n",
      "Epoch 99/100\n",
      "22/22 [==============================] - 0s 15ms/step - loss: 1.1399e-05 - accuracy: 1.0000 - val_loss: 0.0013 - val_accuracy: 1.0000\n",
      "Epoch 100/100\n",
      "22/22 [==============================] - 0s 14ms/step - loss: 1.1120e-05 - accuracy: 1.0000 - val_loss: 0.0013 - val_accuracy: 1.0000\n"
     ]
    }
   ],
   "source": [
    "history = model.fit(X_train, Y_train, epochs = 100, batch_size = 32, validation_data=[X_test,Y_test],callbacks = [earlyStop])"
   ]
  },
  {
   "cell_type": "code",
   "execution_count": 10,
   "metadata": {},
   "outputs": [
    {
     "name": "stdout",
     "output_type": "stream",
     "text": [
      "1/1 [==============================] - 0s 68ms/step\n",
      "Tan\n"
     ]
    },
    {
     "data": {
      "image/png": "[encoded data removed]",
      "text/plain": [
       "<Figure size 640x480 with 1 Axes>"
      ]
     },
     "metadata": {},
     "output_type": "display_data"
    }
   ],
   "source": [
    "from keras.utils.image_utils import load_img\n",
    "image = load_img('img/tan.jpg', target_size=(32,32),color_mode=\"grayscale\") #,grayscale=True\n",
    "from keras.utils.image_utils import img_to_array\n",
    "img = img_to_array(image)\n",
    "img = img.reshape(1,32,32)\n",
    "img = img.astype('float32')\n",
    "img = img/255\n",
    "tag = np.argmax(model.predict(img),axis=1)\n",
    "plt.imshow(image)\n",
    "print(label[tag[0]])"
   ]
  }
 ],
 "metadata": {
  "kernelspec": {
   "display_name": "Python 3.8.10 ('Car_enviroment')",
   "language": "python",
   "name": "python3"
  },
  "language_info": {
   "codemirror_mode": {
    "name": "ipython",
    "version": 3
   },
   "file_extension": ".py",
   "mimetype": "text/x-python",
   "name": "python",
   "nbconvert_exporter": "python",
   "pygments_lexer": "ipython3",
   "version": "3.8.10"
  },
  "orig_nbformat": 4,
  "vscode": {
   "interpreter": {
    "hash": "adc40417d40e2457938e3d78b2a2e0058813177b0c69e12c033c503d15659ee9"
   }
  }
 },
 "nbformat": 4,
 "nbformat_minor": 2
}
