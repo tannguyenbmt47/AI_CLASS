{
 "cells": [
  {
   "cell_type": "code",
   "execution_count": 1,
   "metadata": {},
   "outputs": [],
   "source": [
    "import numpy as np\n",
    "import matplotlib.pyplot as plt\n",
    "from pathlib import Path"
   ]
  },
  {
   "cell_type": "code",
   "execution_count": 2,
   "metadata": {},
   "outputs": [
    {
     "name": "stderr",
     "output_type": "stream",
     "text": [
      "2022-11-15 11:07:10.673638: I tensorflow/core/platform/cpu_feature_guard.cc:193] This TensorFlow binary is optimized with oneAPI Deep Neural Network Library (oneDNN) to use the following CPU instructions in performance-critical operations:  AVX2 FMA\n",
      "To enable them in other operations, rebuild TensorFlow with the appropriate compiler flags.\n",
      "2022-11-15 11:07:10.812087: W tensorflow/stream_executor/platform/default/dso_loader.cc:64] Could not load dynamic library 'libcudart.so.11.0'; dlerror: libcudart.so.11.0: cannot open shared object file: No such file or directory\n",
      "2022-11-15 11:07:10.812102: I tensorflow/stream_executor/cuda/cudart_stub.cc:29] Ignore above cudart dlerror if you do not have a GPU set up on your machine.\n",
      "2022-11-15 11:07:10.832027: E tensorflow/stream_executor/cuda/cuda_blas.cc:2981] Unable to register cuBLAS factory: Attempting to register factory for plugin cuBLAS when one has already been registered\n",
      "2022-11-15 11:07:11.374263: W tensorflow/stream_executor/platform/default/dso_loader.cc:64] Could not load dynamic library 'libnvinfer.so.7'; dlerror: libnvinfer.so.7: cannot open shared object file: No such file or directory\n",
      "2022-11-15 11:07:11.374373: W tensorflow/stream_executor/platform/default/dso_loader.cc:64] Could not load dynamic library 'libnvinfer_plugin.so.7'; dlerror: libnvinfer_plugin.so.7: cannot open shared object file: No such file or directory\n",
      "2022-11-15 11:07:11.374379: W tensorflow/compiler/tf2tensorrt/utils/py_utils.cc:38] TF-TRT Warning: Cannot dlopen some TensorRT libraries. If you would like to use Nvidia GPU with TensorRT, please make sure the missing libraries mentioned above are installed properly.\n"
     ]
    },
    {
     "name": "stdout",
     "output_type": "stream",
     "text": [
      "float64\n"
     ]
    }
   ],
   "source": [
    "# load image path\n",
    "\n",
    "from keras.utils.image_utils import load_img,img_to_array\n",
    "img_folder = Path(\"data\")\n",
    "\n",
    "label = [\"daisy\",\"dandelion\",\"rose\",'sunflower',\"tulip\"]\n",
    "test_image = list([])\n",
    "X_data = np.empty((0,32,32))\n",
    "Y_label = []\n",
    "\n",
    "for i in range(len(label)):\n",
    "    train_folder = img_folder/label[i]\n",
    "    test = list(train_folder.glob(\"*.jpg\"))\n",
    "    test_image = test_image + test\n",
    "    Y_label = Y_label+[i]*len(list(train_folder.glob(\"*.jpg\")))\n",
    "\n",
    "for  i in range(len(test_image)):\n",
    "    image_path = str(test_image[i])\n",
    "    img = load_img(image_path,target_size=(32,32),color_mode = \"grayscale\")\n",
    "    img= img_to_array(img)\n",
    "    img = img.astype(\"float32\")/255\n",
    "    \n",
    "\n",
    "    img = np.reshape(img,(1,32,32))\n",
    "    X_data = np.vstack((X_data,img))\n",
    "print(X_data.dtype)"
   ]
  },
  {
   "cell_type": "code",
   "execution_count": 3,
   "metadata": {},
   "outputs": [
    {
     "name": "stdout",
     "output_type": "stream",
     "text": [
      "(4316, 32, 32)\n"
     ]
    }
   ],
   "source": [
    "print(X_data.shape)"
   ]
  },
  {
   "cell_type": "code",
   "execution_count": 4,
   "metadata": {},
   "outputs": [
    {
     "name": "stderr",
     "output_type": "stream",
     "text": [
      "2022-11-15 11:07:31.379977: W tensorflow/stream_executor/platform/default/dso_loader.cc:64] Could not load dynamic library 'libcuda.so.1'; dlerror: libcuda.so.1: cannot open shared object file: No such file or directory\n",
      "2022-11-15 11:07:31.380013: W tensorflow/stream_executor/cuda/cuda_driver.cc:263] failed call to cuInit: UNKNOWN ERROR (303)\n",
      "2022-11-15 11:07:31.380049: I tensorflow/stream_executor/cuda/cuda_diagnostics.cc:156] kernel driver does not appear to be running on this host (dauphongtantan): /proc/driver/nvidia/version does not exist\n",
      "2022-11-15 11:07:31.380261: I tensorflow/core/platform/cpu_feature_guard.cc:193] This TensorFlow binary is optimized with oneAPI Deep Neural Network Library (oneDNN) to use the following CPU instructions in performance-critical operations:  AVX2 FMA\n",
      "To enable them in other operations, rebuild TensorFlow with the appropriate compiler flags.\n"
     ]
    }
   ],
   "source": [
    "from keras.models import Sequential,Model\n",
    "from keras.layers import Dense,Dropout, Flatten\n",
    "from keras.layers import Conv2D, MaxPooling2D\n",
    "\n",
    "model = Sequential()\n",
    "model.add(Conv2D(32,kernel_size = (3,3),activation = \"relu\", input_shape = (32,32,1),padding = \"same\"))\n",
    "model.add(MaxPooling2D((2,2),padding=\"same\"))\n",
    "model.add(Conv2D(64,kernel_size=(3,3),activation=\"relu\",padding=\"same\"))\n",
    "model.add(MaxPooling2D((2,2),padding = \"same\"))\n",
    "model.add(Flatten())\n",
    "model.add(Dense(128,activation=\"relu\"))\n",
    "model.add(Dense(5,activation=\"softmax\"))"
   ]
  },
  {
   "cell_type": "code",
   "execution_count": 5,
   "metadata": {},
   "outputs": [],
   "source": [
    "from keras.optimizers import Adam\n",
    "model.compile(loss='categorical_crossentropy',optimizer = Adam(),metrics= ['accuracy'])"
   ]
  },
  {
   "cell_type": "code",
   "execution_count": 6,
   "metadata": {},
   "outputs": [],
   "source": [
    "from sklearn.model_selection import train_test_split\n",
    "X_train,X_test,Y_train,Y_test = train_test_split(X_data,Y_label,test_size=0.3,shuffle=True)"
   ]
  },
  {
   "cell_type": "code",
   "execution_count": 7,
   "metadata": {},
   "outputs": [],
   "source": [
    "from keras.utils import to_categorical\n",
    "Y_train = to_categorical(Y_train)\n",
    "Y_test = to_categorical(Y_test)"
   ]
  },
  {
   "cell_type": "code",
   "execution_count": 8,
   "metadata": {},
   "outputs": [],
   "source": [
    "from keras.callbacks import EarlyStopping\n",
    "earlyStop = EarlyStopping(monitor='loss', patience=3)"
   ]
  },
  {
   "cell_type": "code",
   "execution_count": 9,
   "metadata": {},
   "outputs": [
    {
     "name": "stdout",
     "output_type": "stream",
     "text": [
      "Epoch 1/100\n",
      "95/95 [==============================] - 2s 17ms/step - loss: 1.5584 - accuracy: 0.3025 - val_loss: 1.4864 - val_accuracy: 0.3606\n",
      "Epoch 2/100\n",
      "95/95 [==============================] - 1s 14ms/step - loss: 1.4385 - accuracy: 0.3850 - val_loss: 1.4100 - val_accuracy: 0.4085\n",
      "Epoch 3/100\n",
      "95/95 [==============================] - 1s 14ms/step - loss: 1.3651 - accuracy: 0.4416 - val_loss: 1.4104 - val_accuracy: 0.4139\n",
      "Epoch 4/100\n",
      "95/95 [==============================] - 1s 14ms/step - loss: 1.2845 - accuracy: 0.4859 - val_loss: 1.3417 - val_accuracy: 0.4486\n",
      "Epoch 5/100\n",
      "95/95 [==============================] - 1s 14ms/step - loss: 1.1769 - accuracy: 0.5237 - val_loss: 1.3499 - val_accuracy: 0.4432\n",
      "Epoch 6/100\n",
      "95/95 [==============================] - 1s 15ms/step - loss: 1.1083 - accuracy: 0.5631 - val_loss: 1.3169 - val_accuracy: 0.4687\n",
      "Epoch 7/100\n",
      "95/95 [==============================] - 1s 14ms/step - loss: 1.0005 - accuracy: 0.6193 - val_loss: 1.3987 - val_accuracy: 0.4618\n",
      "Epoch 8/100\n",
      "95/95 [==============================] - 1s 14ms/step - loss: 0.8960 - accuracy: 0.6581 - val_loss: 1.5287 - val_accuracy: 0.4579\n",
      "Epoch 9/100\n",
      "95/95 [==============================] - 1s 14ms/step - loss: 0.7931 - accuracy: 0.7071 - val_loss: 1.3811 - val_accuracy: 0.4710\n",
      "Epoch 10/100\n",
      "95/95 [==============================] - 1s 14ms/step - loss: 0.6596 - accuracy: 0.7690 - val_loss: 1.4146 - val_accuracy: 0.4849\n",
      "Epoch 11/100\n",
      "95/95 [==============================] - 1s 14ms/step - loss: 0.5485 - accuracy: 0.8090 - val_loss: 1.4883 - val_accuracy: 0.4811\n",
      "Epoch 12/100\n",
      "95/95 [==============================] - 1s 15ms/step - loss: 0.4401 - accuracy: 0.8530 - val_loss: 1.6033 - val_accuracy: 0.4795\n",
      "Epoch 13/100\n",
      "95/95 [==============================] - 1s 14ms/step - loss: 0.3664 - accuracy: 0.8898 - val_loss: 1.8543 - val_accuracy: 0.4332\n",
      "Epoch 14/100\n",
      "95/95 [==============================] - 1s 14ms/step - loss: 0.3017 - accuracy: 0.9106 - val_loss: 1.8296 - val_accuracy: 0.4510\n",
      "Epoch 15/100\n",
      "95/95 [==============================] - 1s 15ms/step - loss: 0.1993 - accuracy: 0.9503 - val_loss: 2.0115 - val_accuracy: 0.4680\n",
      "Epoch 16/100\n",
      "95/95 [==============================] - 1s 14ms/step - loss: 0.1394 - accuracy: 0.9729 - val_loss: 2.1773 - val_accuracy: 0.4571\n",
      "Epoch 17/100\n",
      "95/95 [==============================] - 1s 14ms/step - loss: 0.0963 - accuracy: 0.9828 - val_loss: 2.2843 - val_accuracy: 0.4834\n",
      "Epoch 18/100\n",
      "95/95 [==============================] - 1s 15ms/step - loss: 0.0718 - accuracy: 0.9894 - val_loss: 2.4713 - val_accuracy: 0.4664\n",
      "Epoch 19/100\n",
      "95/95 [==============================] - 1s 15ms/step - loss: 0.0533 - accuracy: 0.9934 - val_loss: 2.4931 - val_accuracy: 0.4764\n",
      "Epoch 20/100\n",
      "95/95 [==============================] - 1s 14ms/step - loss: 0.0434 - accuracy: 0.9954 - val_loss: 2.6338 - val_accuracy: 0.4788\n",
      "Epoch 21/100\n",
      "95/95 [==============================] - 1s 14ms/step - loss: 0.0404 - accuracy: 0.9950 - val_loss: 2.8205 - val_accuracy: 0.4865\n",
      "Epoch 22/100\n",
      "95/95 [==============================] - 1s 14ms/step - loss: 0.0261 - accuracy: 0.9987 - val_loss: 2.9554 - val_accuracy: 0.4687\n",
      "Epoch 23/100\n",
      "95/95 [==============================] - 1s 14ms/step - loss: 0.0462 - accuracy: 0.9957 - val_loss: 2.7864 - val_accuracy: 0.4687\n",
      "Epoch 24/100\n",
      "95/95 [==============================] - 1s 14ms/step - loss: 0.0227 - accuracy: 0.9990 - val_loss: 3.3588 - val_accuracy: 0.4749\n",
      "Epoch 25/100\n",
      "95/95 [==============================] - 1s 14ms/step - loss: 0.0377 - accuracy: 0.9937 - val_loss: 3.1858 - val_accuracy: 0.4741\n",
      "Epoch 26/100\n",
      "95/95 [==============================] - 1s 14ms/step - loss: 0.0283 - accuracy: 0.9974 - val_loss: 3.0502 - val_accuracy: 0.4788\n",
      "Epoch 27/100\n",
      "95/95 [==============================] - 1s 14ms/step - loss: 0.0156 - accuracy: 0.9987 - val_loss: 3.1588 - val_accuracy: 0.4726\n",
      "Epoch 28/100\n",
      "95/95 [==============================] - 1s 14ms/step - loss: 0.0137 - accuracy: 0.9990 - val_loss: 3.2196 - val_accuracy: 0.4741\n",
      "Epoch 29/100\n",
      "95/95 [==============================] - 1s 14ms/step - loss: 0.0154 - accuracy: 0.9987 - val_loss: 3.2176 - val_accuracy: 0.4780\n",
      "Epoch 30/100\n",
      "95/95 [==============================] - 1s 14ms/step - loss: 0.0105 - accuracy: 0.9993 - val_loss: 3.2813 - val_accuracy: 0.4865\n",
      "Epoch 31/100\n",
      "95/95 [==============================] - 1s 14ms/step - loss: 0.0127 - accuracy: 0.9990 - val_loss: 3.3392 - val_accuracy: 0.4710\n",
      "Epoch 32/100\n",
      "95/95 [==============================] - 1s 14ms/step - loss: 0.0135 - accuracy: 0.9990 - val_loss: 3.3200 - val_accuracy: 0.4680\n",
      "Epoch 33/100\n",
      "95/95 [==============================] - 1s 15ms/step - loss: 0.0179 - accuracy: 0.9983 - val_loss: 3.3575 - val_accuracy: 0.4548\n"
     ]
    }
   ],
   "source": [
    "history = model.fit(X_train, Y_train, epochs = 100, batch_size = 32, validation_data=[X_test,Y_test],callbacks = [earlyStop])"
   ]
  },
  {
   "cell_type": "code",
   "execution_count": 10,
   "metadata": {},
   "outputs": [
    {
     "name": "stdout",
     "output_type": "stream",
     "text": [
      "1/1 [==============================] - 0s 54ms/step\n",
      "daisy\n"
     ]
    },
    {
     "data": {
      "image/png": "[encoded data removed]",
      "text/plain": [
       "<Figure size 640x480 with 1 Axes>"
      ]
     },
     "metadata": {},
     "output_type": "display_data"
    }
   ],
   "source": [
    "from keras.utils.image_utils import load_img\n",
    "image = load_img('img/daisy.jpeg', target_size=(32,32),color_mode=\"grayscale\") #,grayscale=True\n",
    "from keras.utils.image_utils import img_to_array\n",
    "img = img_to_array(image)\n",
    "img = img.reshape(1,32,32)\n",
    "img = img.astype('float32')\n",
    "img = img/255\n",
    "tag = np.argmax(model.predict(img),axis=1)\n",
    "plt.imshow(image)\n",
    "print(label[tag[0]])"
   ]
  },
  {
   "cell_type": "code",
   "execution_count": 11,
   "metadata": {},
   "outputs": [
    {
     "name": "stdout",
     "output_type": "stream",
     "text": [
      "1/1 [==============================] - 0s 16ms/step\n",
      "rose\n"
     ]
    },
    {
     "data": {
      "image/png": "[encoded data removed]",
      "text/plain": [
       "<Figure size 640x480 with 1 Axes>"
      ]
     },
     "metadata": {},
     "output_type": "display_data"
    }
   ],
   "source": [
    "from keras.utils.image_utils import load_img\n",
    "image = load_img('img/rose.jpeg', target_size=(32,32),color_mode=\"grayscale\") #,grayscale=True\n",
    "from keras.utils.image_utils import img_to_array\n",
    "img = img_to_array(image)\n",
    "img = img.reshape(1,32,32)\n",
    "img = img.astype('float32')\n",
    "img = img/255\n",
    "tag = np.argmax(model.predict(img),axis=1)\n",
    "plt.imshow(image)\n",
    "print(label[tag[0]])"
   ]
  }
 ],
 "metadata": {
  "kernelspec": {
   "display_name": "Python 3.8.10 ('Car_enviroment')",
   "language": "python",
   "name": "python3"
  },
  "language_info": {
   "codemirror_mode": {
    "name": "ipython",
    "version": 3
   },
   "file_extension": ".py",
   "mimetype": "text/x-python",
   "name": "python",
   "nbconvert_exporter": "python",
   "pygments_lexer": "ipython3",
   "version": "3.8.10"
  },
  "orig_nbformat": 4,
  "vscode": {
   "interpreter": {
    "hash": "adc40417d40e2457938e3d78b2a2e0058813177b0c69e12c033c503d15659ee9"
   }
  }
 },
 "nbformat": 4,
 "nbformat_minor": 2
}
