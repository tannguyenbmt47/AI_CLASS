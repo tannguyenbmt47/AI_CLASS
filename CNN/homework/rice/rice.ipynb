{
 "cells": [
  {
   "cell_type": "code",
   "execution_count": 1,
   "metadata": {},
   "outputs": [],
   "source": [
    "import numpy as np\n",
    "import matplotlib.pyplot as plt\n",
    "from pathlib import Path"
   ]
  },
  {
   "cell_type": "code",
   "execution_count": 2,
   "metadata": {},
   "outputs": [
    {
     "name": "stderr",
     "output_type": "stream",
     "text": [
      "2022-11-15 11:16:21.475403: I tensorflow/core/platform/cpu_feature_guard.cc:193] This TensorFlow binary is optimized with oneAPI Deep Neural Network Library (oneDNN) to use the following CPU instructions in performance-critical operations:  AVX2 FMA\n",
      "To enable them in other operations, rebuild TensorFlow with the appropriate compiler flags.\n",
      "2022-11-15 11:16:21.592149: W tensorflow/stream_executor/platform/default/dso_loader.cc:64] Could not load dynamic library 'libcudart.so.11.0'; dlerror: libcudart.so.11.0: cannot open shared object file: No such file or directory; LD_LIBRARY_PATH: /home/tan/Carla_envi/Car_enviroment/lib/python3.8/site-packages/cv2/../../lib64:\n",
      "2022-11-15 11:16:21.592163: I tensorflow/stream_executor/cuda/cudart_stub.cc:29] Ignore above cudart dlerror if you do not have a GPU set up on your machine.\n",
      "2022-11-15 11:16:21.611833: E tensorflow/stream_executor/cuda/cuda_blas.cc:2981] Unable to register cuBLAS factory: Attempting to register factory for plugin cuBLAS when one has already been registered\n",
      "2022-11-15 11:16:22.111532: W tensorflow/stream_executor/platform/default/dso_loader.cc:64] Could not load dynamic library 'libnvinfer.so.7'; dlerror: libnvinfer.so.7: cannot open shared object file: No such file or directory; LD_LIBRARY_PATH: /home/tan/Carla_envi/Car_enviroment/lib/python3.8/site-packages/cv2/../../lib64:\n",
      "2022-11-15 11:16:22.111571: W tensorflow/stream_executor/platform/default/dso_loader.cc:64] Could not load dynamic library 'libnvinfer_plugin.so.7'; dlerror: libnvinfer_plugin.so.7: cannot open shared object file: No such file or directory; LD_LIBRARY_PATH: /home/tan/Carla_envi/Car_enviroment/lib/python3.8/site-packages/cv2/../../lib64:\n",
      "2022-11-15 11:16:22.111576: W tensorflow/compiler/tf2tensorrt/utils/py_utils.cc:38] TF-TRT Warning: Cannot dlopen some TensorRT libraries. If you would like to use Nvidia GPU with TensorRT, please make sure the missing libraries mentioned above are installed properly.\n"
     ]
    },
    {
     "name": "stdout",
     "output_type": "stream",
     "text": [
      "float64\n"
     ]
    }
   ],
   "source": [
    "# load image path\n",
    "import cv2 as cv\n",
    "from keras.utils.image_utils import load_img,img_to_array\n",
    "img_folder = Path(\"data\")\n",
    "\n",
    "label = [\"Arborio\",\"basmati\",\"Ipsala\",'Jasmine',\"Karacadag\"]\n",
    "test_image = list([])\n",
    "X_data = np.empty((0,32,32))\n",
    "Y_label = []\n",
    "\n",
    "for i in range(len(label)):\n",
    "    train_folder = img_folder/label[i]\n",
    "    test = list(train_folder.glob(\"*.jpg\"))\n",
    "    test_image = test_image + test\n",
    "    Y_label = Y_label+[i]*len(list(train_folder.glob(\"*.jpg\")))\n",
    "\n",
    "for  i in range(len(test_image)):\n",
    "    image_path = str(test_image[i])\n",
    "    img = load_img(image_path,target_size=(32,32),color_mode = \"grayscale\")\n",
    "    img= img_to_array(img)\n",
    "    img = img.astype(\"float32\")/255\n",
    "    \n",
    "\n",
    "    img = np.reshape(img,(1,32,32))\n",
    "    X_data = np.vstack((X_data,img))\n",
    "print(X_data.dtype)"
   ]
  },
  {
   "cell_type": "code",
   "execution_count": 3,
   "metadata": {},
   "outputs": [
    {
     "name": "stdout",
     "output_type": "stream",
     "text": [
      "(104, 32, 32)\n"
     ]
    }
   ],
   "source": [
    "print(X_data.shape)"
   ]
  },
  {
   "cell_type": "code",
   "execution_count": 4,
   "metadata": {},
   "outputs": [
    {
     "name": "stderr",
     "output_type": "stream",
     "text": [
      "2022-11-15 11:16:25.814114: W tensorflow/stream_executor/platform/default/dso_loader.cc:64] Could not load dynamic library 'libcuda.so.1'; dlerror: libcuda.so.1: cannot open shared object file: No such file or directory; LD_LIBRARY_PATH: /home/tan/Carla_envi/Car_enviroment/lib/python3.8/site-packages/cv2/../../lib64:\n",
      "2022-11-15 11:16:25.814130: W tensorflow/stream_executor/cuda/cuda_driver.cc:263] failed call to cuInit: UNKNOWN ERROR (303)\n",
      "2022-11-15 11:16:25.814143: I tensorflow/stream_executor/cuda/cuda_diagnostics.cc:156] kernel driver does not appear to be running on this host (dauphongtantan): /proc/driver/nvidia/version does not exist\n",
      "2022-11-15 11:16:25.814401: I tensorflow/core/platform/cpu_feature_guard.cc:193] This TensorFlow binary is optimized with oneAPI Deep Neural Network Library (oneDNN) to use the following CPU instructions in performance-critical operations:  AVX2 FMA\n",
      "To enable them in other operations, rebuild TensorFlow with the appropriate compiler flags.\n"
     ]
    }
   ],
   "source": [
    "from keras.models import Sequential,Model\n",
    "from keras.layers import Dense,Dropout, Flatten\n",
    "from keras.layers import Conv2D, MaxPooling2D\n",
    "\n",
    "model = Sequential()\n",
    "model.add(Conv2D(32,kernel_size = (3,3),activation = \"relu\", input_shape = (32,32,1),padding = \"same\"))\n",
    "model.add(MaxPooling2D((2,2),padding=\"same\"))\n",
    "model.add(Conv2D(64,kernel_size=(3,3),activation=\"relu\",padding=\"same\"))\n",
    "model.add(MaxPooling2D((2,2),padding = \"same\"))\n",
    "model.add(Flatten())\n",
    "model.add(Dense(128,activation=\"relu\"))\n",
    "model.add(Dense(5,activation=\"softmax\"))"
   ]
  },
  {
   "cell_type": "code",
   "execution_count": 5,
   "metadata": {},
   "outputs": [],
   "source": [
    "from keras.optimizers import Adam\n",
    "model.compile(loss='categorical_crossentropy',optimizer = Adam(),metrics= ['accuracy'])"
   ]
  },
  {
   "cell_type": "code",
   "execution_count": 6,
   "metadata": {},
   "outputs": [],
   "source": [
    "from sklearn.model_selection import train_test_split\n",
    "X_train,X_test,Y_train,Y_test = train_test_split(X_data,Y_label,test_size=0.3,shuffle=True)"
   ]
  },
  {
   "cell_type": "code",
   "execution_count": 7,
   "metadata": {},
   "outputs": [],
   "source": [
    "from keras.utils import to_categorical\n",
    "Y_train = to_categorical(Y_train)\n",
    "Y_test = to_categorical(Y_test)"
   ]
  },
  {
   "cell_type": "code",
   "execution_count": 8,
   "metadata": {},
   "outputs": [],
   "source": [
    "from keras.callbacks import EarlyStopping\n",
    "earlyStop = EarlyStopping(monitor='loss', patience=3)"
   ]
  },
  {
   "cell_type": "code",
   "execution_count": 9,
   "metadata": {},
   "outputs": [
    {
     "name": "stdout",
     "output_type": "stream",
     "text": [
      "Epoch 1/100\n",
      "3/3 [==============================] - 1s 83ms/step - loss: 1.5638 - accuracy: 0.3889 - val_loss: 1.4741 - val_accuracy: 0.3750\n",
      "Epoch 2/100\n",
      "3/3 [==============================] - 0s 21ms/step - loss: 1.3579 - accuracy: 0.4306 - val_loss: 1.3171 - val_accuracy: 0.4688\n",
      "Epoch 3/100\n",
      "3/3 [==============================] - 0s 22ms/step - loss: 1.1183 - accuracy: 0.6111 - val_loss: 1.1524 - val_accuracy: 0.5625\n",
      "Epoch 4/100\n",
      "3/3 [==============================] - 0s 25ms/step - loss: 0.9365 - accuracy: 0.7361 - val_loss: 0.9651 - val_accuracy: 0.5625\n",
      "Epoch 5/100\n",
      "3/3 [==============================] - 0s 24ms/step - loss: 0.6868 - accuracy: 0.8056 - val_loss: 0.8940 - val_accuracy: 0.5312\n",
      "Epoch 6/100\n",
      "3/3 [==============================] - 0s 23ms/step - loss: 0.7143 - accuracy: 0.5972 - val_loss: 0.7042 - val_accuracy: 0.8125\n",
      "Epoch 7/100\n",
      "3/3 [==============================] - 0s 21ms/step - loss: 0.5416 - accuracy: 0.8889 - val_loss: 0.6426 - val_accuracy: 0.7812\n",
      "Epoch 8/100\n",
      "3/3 [==============================] - 0s 20ms/step - loss: 0.4507 - accuracy: 0.8611 - val_loss: 0.6441 - val_accuracy: 0.7188\n",
      "Epoch 9/100\n",
      "3/3 [==============================] - 0s 20ms/step - loss: 0.3788 - accuracy: 0.8889 - val_loss: 0.5255 - val_accuracy: 0.8125\n",
      "Epoch 10/100\n",
      "3/3 [==============================] - 0s 25ms/step - loss: 0.2826 - accuracy: 0.9583 - val_loss: 0.4806 - val_accuracy: 0.8750\n",
      "Epoch 11/100\n",
      "3/3 [==============================] - 0s 24ms/step - loss: 0.2836 - accuracy: 0.9444 - val_loss: 0.4619 - val_accuracy: 0.8438\n",
      "Epoch 12/100\n",
      "3/3 [==============================] - 0s 26ms/step - loss: 0.2312 - accuracy: 0.9444 - val_loss: 0.3603 - val_accuracy: 0.8750\n",
      "Epoch 13/100\n",
      "3/3 [==============================] - 0s 23ms/step - loss: 0.1599 - accuracy: 0.9722 - val_loss: 0.3518 - val_accuracy: 0.8125\n",
      "Epoch 14/100\n",
      "3/3 [==============================] - 0s 25ms/step - loss: 0.1416 - accuracy: 1.0000 - val_loss: 0.2764 - val_accuracy: 0.9375\n",
      "Epoch 15/100\n",
      "3/3 [==============================] - 0s 21ms/step - loss: 0.1166 - accuracy: 0.9722 - val_loss: 0.3367 - val_accuracy: 0.8750\n",
      "Epoch 16/100\n",
      "3/3 [==============================] - 0s 21ms/step - loss: 0.1121 - accuracy: 0.9722 - val_loss: 0.3011 - val_accuracy: 0.8750\n",
      "Epoch 17/100\n",
      "3/3 [==============================] - 0s 21ms/step - loss: 0.0842 - accuracy: 1.0000 - val_loss: 0.3090 - val_accuracy: 0.8750\n",
      "Epoch 18/100\n",
      "3/3 [==============================] - 0s 20ms/step - loss: 0.0856 - accuracy: 0.9861 - val_loss: 0.2888 - val_accuracy: 0.9062\n",
      "Epoch 19/100\n",
      "3/3 [==============================] - 0s 22ms/step - loss: 0.0653 - accuracy: 0.9861 - val_loss: 0.2797 - val_accuracy: 0.8750\n",
      "Epoch 20/100\n",
      "3/3 [==============================] - 0s 21ms/step - loss: 0.0458 - accuracy: 1.0000 - val_loss: 0.2550 - val_accuracy: 0.9062\n",
      "Epoch 21/100\n",
      "3/3 [==============================] - 0s 20ms/step - loss: 0.0372 - accuracy: 1.0000 - val_loss: 0.1854 - val_accuracy: 0.9062\n",
      "Epoch 22/100\n",
      "3/3 [==============================] - 0s 26ms/step - loss: 0.0392 - accuracy: 0.9861 - val_loss: 0.1837 - val_accuracy: 0.9375\n",
      "Epoch 23/100\n",
      "3/3 [==============================] - 0s 20ms/step - loss: 0.0322 - accuracy: 1.0000 - val_loss: 0.2782 - val_accuracy: 0.9062\n",
      "Epoch 24/100\n",
      "3/3 [==============================] - 0s 20ms/step - loss: 0.0340 - accuracy: 1.0000 - val_loss: 0.1788 - val_accuracy: 0.9375\n",
      "Epoch 25/100\n",
      "3/3 [==============================] - 0s 26ms/step - loss: 0.0302 - accuracy: 1.0000 - val_loss: 0.2057 - val_accuracy: 0.9375\n",
      "Epoch 26/100\n",
      "3/3 [==============================] - 0s 26ms/step - loss: 0.0213 - accuracy: 1.0000 - val_loss: 0.1967 - val_accuracy: 0.9375\n",
      "Epoch 27/100\n",
      "3/3 [==============================] - 0s 23ms/step - loss: 0.0189 - accuracy: 1.0000 - val_loss: 0.2507 - val_accuracy: 0.9062\n",
      "Epoch 28/100\n",
      "3/3 [==============================] - 0s 25ms/step - loss: 0.0244 - accuracy: 1.0000 - val_loss: 0.1687 - val_accuracy: 0.9688\n",
      "Epoch 29/100\n",
      "3/3 [==============================] - 0s 24ms/step - loss: 0.0143 - accuracy: 1.0000 - val_loss: 0.1777 - val_accuracy: 0.9375\n",
      "Epoch 30/100\n",
      "3/3 [==============================] - 0s 21ms/step - loss: 0.0150 - accuracy: 1.0000 - val_loss: 0.1752 - val_accuracy: 0.9375\n",
      "Epoch 31/100\n",
      "3/3 [==============================] - 0s 20ms/step - loss: 0.0130 - accuracy: 1.0000 - val_loss: 0.2009 - val_accuracy: 0.9688\n",
      "Epoch 32/100\n",
      "3/3 [==============================] - 0s 19ms/step - loss: 0.0092 - accuracy: 1.0000 - val_loss: 0.1868 - val_accuracy: 0.9688\n",
      "Epoch 33/100\n",
      "3/3 [==============================] - 0s 19ms/step - loss: 0.0127 - accuracy: 1.0000 - val_loss: 0.1826 - val_accuracy: 0.9688\n",
      "Epoch 34/100\n",
      "3/3 [==============================] - 0s 20ms/step - loss: 0.0101 - accuracy: 1.0000 - val_loss: 0.2067 - val_accuracy: 0.9375\n",
      "Epoch 35/100\n",
      "3/3 [==============================] - 0s 20ms/step - loss: 0.0078 - accuracy: 1.0000 - val_loss: 0.2139 - val_accuracy: 0.9375\n",
      "Epoch 36/100\n",
      "3/3 [==============================] - 0s 20ms/step - loss: 0.0077 - accuracy: 1.0000 - val_loss: 0.2054 - val_accuracy: 0.9375\n",
      "Epoch 37/100\n",
      "3/3 [==============================] - 0s 18ms/step - loss: 0.0072 - accuracy: 1.0000 - val_loss: 0.2048 - val_accuracy: 0.9375\n",
      "Epoch 38/100\n",
      "3/3 [==============================] - 0s 18ms/step - loss: 0.0064 - accuracy: 1.0000 - val_loss: 0.2093 - val_accuracy: 0.9688\n",
      "Epoch 39/100\n",
      "3/3 [==============================] - 0s 19ms/step - loss: 0.0055 - accuracy: 1.0000 - val_loss: 0.1941 - val_accuracy: 0.9375\n",
      "Epoch 40/100\n",
      "3/3 [==============================] - 0s 19ms/step - loss: 0.0051 - accuracy: 1.0000 - val_loss: 0.1839 - val_accuracy: 0.9375\n",
      "Epoch 41/100\n",
      "3/3 [==============================] - 0s 19ms/step - loss: 0.0047 - accuracy: 1.0000 - val_loss: 0.1818 - val_accuracy: 0.9375\n",
      "Epoch 42/100\n",
      "3/3 [==============================] - 0s 20ms/step - loss: 0.0046 - accuracy: 1.0000 - val_loss: 0.1822 - val_accuracy: 0.9375\n",
      "Epoch 43/100\n",
      "3/3 [==============================] - 0s 18ms/step - loss: 0.0044 - accuracy: 1.0000 - val_loss: 0.1753 - val_accuracy: 0.9688\n",
      "Epoch 44/100\n",
      "3/3 [==============================] - 0s 19ms/step - loss: 0.0041 - accuracy: 1.0000 - val_loss: 0.1779 - val_accuracy: 0.9688\n",
      "Epoch 45/100\n",
      "3/3 [==============================] - 0s 19ms/step - loss: 0.0041 - accuracy: 1.0000 - val_loss: 0.1734 - val_accuracy: 0.9688\n",
      "Epoch 46/100\n",
      "3/3 [==============================] - 0s 20ms/step - loss: 0.0039 - accuracy: 1.0000 - val_loss: 0.1608 - val_accuracy: 0.9688\n",
      "Epoch 47/100\n",
      "3/3 [==============================] - 0s 20ms/step - loss: 0.0036 - accuracy: 1.0000 - val_loss: 0.1536 - val_accuracy: 0.9688\n",
      "Epoch 48/100\n",
      "3/3 [==============================] - 0s 19ms/step - loss: 0.0039 - accuracy: 1.0000 - val_loss: 0.1492 - val_accuracy: 0.9688\n",
      "Epoch 49/100\n",
      "3/3 [==============================] - 0s 18ms/step - loss: 0.0038 - accuracy: 1.0000 - val_loss: 0.1603 - val_accuracy: 0.9688\n",
      "Epoch 50/100\n",
      "3/3 [==============================] - 0s 24ms/step - loss: 0.0031 - accuracy: 1.0000 - val_loss: 0.1880 - val_accuracy: 0.9688\n",
      "Epoch 51/100\n",
      "3/3 [==============================] - 0s 20ms/step - loss: 0.0037 - accuracy: 1.0000 - val_loss: 0.1969 - val_accuracy: 0.9688\n",
      "Epoch 52/100\n",
      "3/3 [==============================] - 0s 21ms/step - loss: 0.0031 - accuracy: 1.0000 - val_loss: 0.1741 - val_accuracy: 0.9688\n",
      "Epoch 53/100\n",
      "3/3 [==============================] - 0s 20ms/step - loss: 0.0028 - accuracy: 1.0000 - val_loss: 0.1763 - val_accuracy: 0.9688\n",
      "Epoch 54/100\n",
      "3/3 [==============================] - 0s 20ms/step - loss: 0.0027 - accuracy: 1.0000 - val_loss: 0.1800 - val_accuracy: 0.9688\n",
      "Epoch 55/100\n",
      "3/3 [==============================] - 0s 19ms/step - loss: 0.0026 - accuracy: 1.0000 - val_loss: 0.1831 - val_accuracy: 0.9688\n",
      "Epoch 56/100\n",
      "3/3 [==============================] - 0s 23ms/step - loss: 0.0024 - accuracy: 1.0000 - val_loss: 0.1968 - val_accuracy: 0.9688\n",
      "Epoch 57/100\n",
      "3/3 [==============================] - 0s 20ms/step - loss: 0.0025 - accuracy: 1.0000 - val_loss: 0.2263 - val_accuracy: 0.9688\n",
      "Epoch 58/100\n",
      "3/3 [==============================] - 0s 20ms/step - loss: 0.0027 - accuracy: 1.0000 - val_loss: 0.2295 - val_accuracy: 0.9688\n",
      "Epoch 59/100\n",
      "3/3 [==============================] - 0s 19ms/step - loss: 0.0026 - accuracy: 1.0000 - val_loss: 0.2151 - val_accuracy: 0.9688\n"
     ]
    }
   ],
   "source": [
    "history = model.fit(X_train, Y_train, epochs = 100, batch_size = 32, validation_data=[X_test,Y_test],callbacks = [earlyStop])"
   ]
  },
  {
   "cell_type": "code",
   "execution_count": 10,
   "metadata": {},
   "outputs": [
    {
     "name": "stdout",
     "output_type": "stream",
     "text": [
      "1/1 [==============================] - 0s 57ms/step\n",
      "basmati\n"
     ]
    },
    {
     "data": {
      "image/png": "[encoded data removed]",
      "text/plain": [
       "<Figure size 640x480 with 1 Axes>"
      ]
     },
     "metadata": {},
     "output_type": "display_data"
    }
   ],
   "source": [
    "from keras.utils.image_utils import load_img\n",
    "image = load_img('img/basmati.jpg', target_size=(32,32),color_mode=\"grayscale\") #,grayscale=True\n",
    "from keras.utils.image_utils import img_to_array\n",
    "img = img_to_array(image)\n",
    "img = img.reshape(1,32,32)\n",
    "img = img.astype('float32')\n",
    "img = img/255\n",
    "tag = np.argmax(model.predict(img),axis=1)\n",
    "plt.imshow(image)\n",
    "print(label[tag[0]])"
   ]
  },
  {
   "cell_type": "code",
   "execution_count": 12,
   "metadata": {},
   "outputs": [
    {
     "name": "stdout",
     "output_type": "stream",
     "text": [
      "1/1 [==============================] - 0s 14ms/step\n",
      "Karacadag\n"
     ]
    },
    {
     "data": {
      "image/png": "[encoded data removed]",
      "text/plain": [
       "<Figure size 640x480 with 1 Axes>"
      ]
     },
     "metadata": {},
     "output_type": "display_data"
    }
   ],
   "source": [
    "from keras.utils.image_utils import load_img\n",
    "image = load_img('img/karacadag.jpg', target_size=(32,32),color_mode=\"grayscale\") #,grayscale=True\n",
    "from keras.utils.image_utils import img_to_array\n",
    "img = img_to_array(image)\n",
    "img = img.reshape(1,32,32)\n",
    "img = img.astype('float32')\n",
    "img = img/255\n",
    "tag = np.argmax(model.predict(img),axis=1)\n",
    "plt.imshow(image)\n",
    "print(label[tag[0]])"
   ]
  }
 ],
 "metadata": {
  "kernelspec": {
   "display_name": "Python 3.8.10 ('Car_enviroment')",
   "language": "python",
   "name": "python3"
  },
  "language_info": {
   "codemirror_mode": {
    "name": "ipython",
    "version": 3
   },
   "file_extension": ".py",
   "mimetype": "text/x-python",
   "name": "python",
   "nbconvert_exporter": "python",
   "pygments_lexer": "ipython3",
   "version": "3.8.10"
  },
  "orig_nbformat": 4,
  "vscode": {
   "interpreter": {
    "hash": "adc40417d40e2457938e3d78b2a2e0058813177b0c69e12c033c503d15659ee9"
   }
  }
 },
 "nbformat": 4,
 "nbformat_minor": 2
}
