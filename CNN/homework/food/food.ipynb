{
 "cells": [
  {
   "cell_type": "code",
   "execution_count": 2,
   "metadata": {},
   "outputs": [],
   "source": [
    "import numpy as np\n",
    "import matplotlib.pyplot as plt\n",
    "from pathlib import Path"
   ]
  },
  {
   "cell_type": "code",
   "execution_count": 3,
   "metadata": {},
   "outputs": [
    {
     "name": "stdout",
     "output_type": "stream",
     "text": [
      "float64\n"
     ]
    }
   ],
   "source": [
    "# load image path\n",
    "import cv2 as cv\n",
    "from keras.utils.image_utils import load_img,img_to_array\n",
    "img_folder = Path(\"data\")\n",
    "\n",
    "label = [\"bread\",\"egg\",\"meat\",'noodle',\"rice\"]\n",
    "test_image = list([])\n",
    "X_data = np.empty((0,32,32))\n",
    "Y_label = []\n",
    "\n",
    "for i in range(len(label)):\n",
    "    train_folder = img_folder/label[i]\n",
    "    test = list(train_folder.glob(\"*.jpeg\"))\n",
    "    test_image = test_image + test\n",
    "    Y_label = Y_label+[i]*len(list(train_folder.glob(\"*.jpeg\")))\n",
    "\n",
    "for  i in range(len(test_image)):\n",
    "    image_path = str(test_image[i])\n",
    "    img = load_img(image_path,target_size=(32,32),color_mode = \"grayscale\")\n",
    "    img= img_to_array(img)\n",
    "    img = img.astype(\"float32\")/255\n",
    "    \n",
    "\n",
    "    img = np.reshape(img,(1,32,32))\n",
    "    X_data = np.vstack((X_data,img))\n",
    "print(X_data.dtype)"
   ]
  },
  {
   "cell_type": "code",
   "execution_count": 4,
   "metadata": {},
   "outputs": [
    {
     "name": "stdout",
     "output_type": "stream",
     "text": [
      "(104, 32, 32)\n"
     ]
    }
   ],
   "source": [
    "print(X_data.shape)"
   ]
  },
  {
   "cell_type": "code",
   "execution_count": 5,
   "metadata": {},
   "outputs": [
    {
     "name": "stderr",
     "output_type": "stream",
     "text": [
      "2022-11-15 10:59:59.255562: W tensorflow/stream_executor/platform/default/dso_loader.cc:64] Could not load dynamic library 'libcuda.so.1'; dlerror: libcuda.so.1: cannot open shared object file: No such file or directory; LD_LIBRARY_PATH: /home/tan/Carla_envi/Car_enviroment/lib/python3.8/site-packages/cv2/../../lib64:\n",
      "2022-11-15 10:59:59.255828: W tensorflow/stream_executor/cuda/cuda_driver.cc:263] failed call to cuInit: UNKNOWN ERROR (303)\n",
      "2022-11-15 10:59:59.255867: I tensorflow/stream_executor/cuda/cuda_diagnostics.cc:156] kernel driver does not appear to be running on this host (dauphongtantan): /proc/driver/nvidia/version does not exist\n",
      "2022-11-15 10:59:59.256627: I tensorflow/core/platform/cpu_feature_guard.cc:193] This TensorFlow binary is optimized with oneAPI Deep Neural Network Library (oneDNN) to use the following CPU instructions in performance-critical operations:  AVX2 FMA\n",
      "To enable them in other operations, rebuild TensorFlow with the appropriate compiler flags.\n"
     ]
    }
   ],
   "source": [
    "from keras.models import Sequential,Model\n",
    "from keras.layers import Dense,Dropout, Flatten\n",
    "from keras.layers import Conv2D, MaxPooling2D\n",
    "\n",
    "model = Sequential()\n",
    "model.add(Conv2D(32,kernel_size = (3,3),activation = \"relu\", input_shape = (32,32,1),padding = \"same\"))\n",
    "model.add(MaxPooling2D((2,2),padding=\"same\"))\n",
    "model.add(Conv2D(64,kernel_size=(3,3),activation=\"relu\",padding=\"same\"))\n",
    "model.add(MaxPooling2D((2,2),padding = \"same\"))\n",
    "model.add(Flatten())\n",
    "model.add(Dense(128,activation=\"relu\"))\n",
    "model.add(Dense(5,activation=\"softmax\"))"
   ]
  },
  {
   "cell_type": "code",
   "execution_count": 6,
   "metadata": {},
   "outputs": [
    {
     "name": "stdout",
     "output_type": "stream",
     "text": [
      "Model: \"sequential\"\n",
      "_________________________________________________________________\n",
      " Layer (type)                Output Shape              Param #   \n",
      "=================================================================\n",
      " conv2d (Conv2D)             (None, 32, 32, 32)        320       \n",
      "                                                                 \n",
      " max_pooling2d (MaxPooling2D  (None, 16, 16, 32)       0         \n",
      " )                                                               \n",
      "                                                                 \n",
      " conv2d_1 (Conv2D)           (None, 16, 16, 64)        18496     \n",
      "                                                                 \n",
      " max_pooling2d_1 (MaxPooling  (None, 8, 8, 64)         0         \n",
      " 2D)                                                             \n",
      "                                                                 \n",
      " flatten (Flatten)           (None, 4096)              0         \n",
      "                                                                 \n",
      " dense (Dense)               (None, 128)               524416    \n",
      "                                                                 \n",
      " dense_1 (Dense)             (None, 5)                 645       \n",
      "                                                                 \n",
      "=================================================================\n",
      "Total params: 543,877\n",
      "Trainable params: 543,877\n",
      "Non-trainable params: 0\n",
      "_________________________________________________________________\n"
     ]
    }
   ],
   "source": [
    "model.summary()"
   ]
  },
  {
   "cell_type": "code",
   "execution_count": 7,
   "metadata": {},
   "outputs": [],
   "source": [
    "from keras.optimizers import Adam\n",
    "model.compile(loss='categorical_crossentropy',optimizer = Adam(),metrics= ['accuracy'])"
   ]
  },
  {
   "cell_type": "code",
   "execution_count": 8,
   "metadata": {},
   "outputs": [],
   "source": [
    "from sklearn.model_selection import train_test_split\n",
    "X_train,X_test,Y_train,Y_test = train_test_split(X_data,Y_label,test_size=0.3,shuffle=True)"
   ]
  },
  {
   "cell_type": "code",
   "execution_count": 9,
   "metadata": {},
   "outputs": [],
   "source": [
    "from keras.utils import to_categorical\n",
    "Y_train = to_categorical(Y_train)\n",
    "Y_test = to_categorical(Y_test)"
   ]
  },
  {
   "cell_type": "code",
   "execution_count": 10,
   "metadata": {},
   "outputs": [],
   "source": [
    "from keras.callbacks import EarlyStopping\n",
    "earlyStop = EarlyStopping(monitor='loss', patience=3)"
   ]
  },
  {
   "cell_type": "code",
   "execution_count": 11,
   "metadata": {},
   "outputs": [
    {
     "name": "stdout",
     "output_type": "stream",
     "text": [
      "Epoch 1/100\n",
      "3/3 [==============================] - 1s 81ms/step - loss: 1.6838 - accuracy: 0.2222 - val_loss: 1.8091 - val_accuracy: 0.0312\n",
      "Epoch 2/100\n",
      "3/3 [==============================] - 0s 20ms/step - loss: 1.5778 - accuracy: 0.3472 - val_loss: 1.7058 - val_accuracy: 0.2812\n",
      "Epoch 3/100\n",
      "3/3 [==============================] - 0s 22ms/step - loss: 1.5637 - accuracy: 0.5000 - val_loss: 1.6676 - val_accuracy: 0.2500\n",
      "Epoch 4/100\n",
      "3/3 [==============================] - 0s 20ms/step - loss: 1.5470 - accuracy: 0.4306 - val_loss: 1.6649 - val_accuracy: 0.0312\n",
      "Epoch 5/100\n",
      "3/3 [==============================] - 0s 21ms/step - loss: 1.5208 - accuracy: 0.3056 - val_loss: 1.7111 - val_accuracy: 0.0312\n",
      "Epoch 6/100\n",
      "3/3 [==============================] - 0s 22ms/step - loss: 1.4801 - accuracy: 0.3333 - val_loss: 1.7939 - val_accuracy: 0.0625\n",
      "Epoch 7/100\n",
      "3/3 [==============================] - 0s 20ms/step - loss: 1.4528 - accuracy: 0.3611 - val_loss: 1.7806 - val_accuracy: 0.0312\n",
      "Epoch 8/100\n",
      "3/3 [==============================] - 0s 21ms/step - loss: 1.4099 - accuracy: 0.3194 - val_loss: 1.7218 - val_accuracy: 0.0312\n",
      "Epoch 9/100\n",
      "3/3 [==============================] - 0s 23ms/step - loss: 1.3485 - accuracy: 0.4167 - val_loss: 1.5550 - val_accuracy: 0.1875\n",
      "Epoch 10/100\n",
      "3/3 [==============================] - 0s 20ms/step - loss: 1.3025 - accuracy: 0.5694 - val_loss: 1.4625 - val_accuracy: 0.3750\n",
      "Epoch 11/100\n",
      "3/3 [==============================] - 0s 21ms/step - loss: 1.2091 - accuracy: 0.6389 - val_loss: 1.5559 - val_accuracy: 0.3125\n",
      "Epoch 12/100\n",
      "3/3 [==============================] - 0s 21ms/step - loss: 1.1571 - accuracy: 0.5694 - val_loss: 1.5872 - val_accuracy: 0.1875\n",
      "Epoch 13/100\n",
      "3/3 [==============================] - 0s 20ms/step - loss: 1.0532 - accuracy: 0.6250 - val_loss: 1.3390 - val_accuracy: 0.5312\n",
      "Epoch 14/100\n",
      "3/3 [==============================] - 0s 21ms/step - loss: 0.9968 - accuracy: 0.7778 - val_loss: 1.2741 - val_accuracy: 0.5312\n",
      "Epoch 15/100\n",
      "3/3 [==============================] - 0s 23ms/step - loss: 0.8948 - accuracy: 0.7500 - val_loss: 1.3034 - val_accuracy: 0.5312\n",
      "Epoch 16/100\n",
      "3/3 [==============================] - 0s 26ms/step - loss: 0.8244 - accuracy: 0.7917 - val_loss: 1.1599 - val_accuracy: 0.5000\n",
      "Epoch 17/100\n",
      "3/3 [==============================] - 0s 19ms/step - loss: 0.7393 - accuracy: 0.8056 - val_loss: 1.4010 - val_accuracy: 0.5000\n",
      "Epoch 18/100\n",
      "3/3 [==============================] - 0s 20ms/step - loss: 0.7620 - accuracy: 0.7361 - val_loss: 1.4250 - val_accuracy: 0.3750\n",
      "Epoch 19/100\n",
      "3/3 [==============================] - 0s 19ms/step - loss: 0.6820 - accuracy: 0.8056 - val_loss: 1.1906 - val_accuracy: 0.5625\n",
      "Epoch 20/100\n",
      "3/3 [==============================] - 0s 19ms/step - loss: 0.5670 - accuracy: 0.8889 - val_loss: 1.2096 - val_accuracy: 0.5312\n",
      "Epoch 21/100\n",
      "3/3 [==============================] - 0s 23ms/step - loss: 0.6200 - accuracy: 0.7639 - val_loss: 1.2774 - val_accuracy: 0.4688\n",
      "Epoch 22/100\n",
      "3/3 [==============================] - 0s 20ms/step - loss: 0.4906 - accuracy: 0.8611 - val_loss: 1.2843 - val_accuracy: 0.4688\n",
      "Epoch 23/100\n",
      "3/3 [==============================] - 0s 22ms/step - loss: 0.5042 - accuracy: 0.8611 - val_loss: 1.0714 - val_accuracy: 0.4688\n",
      "Epoch 24/100\n",
      "3/3 [==============================] - 0s 20ms/step - loss: 0.4365 - accuracy: 0.8611 - val_loss: 1.1960 - val_accuracy: 0.5312\n",
      "Epoch 25/100\n",
      "3/3 [==============================] - 0s 20ms/step - loss: 0.4119 - accuracy: 0.8889 - val_loss: 1.3219 - val_accuracy: 0.4688\n",
      "Epoch 26/100\n",
      "3/3 [==============================] - 0s 20ms/step - loss: 0.3439 - accuracy: 0.9167 - val_loss: 1.2216 - val_accuracy: 0.5000\n",
      "Epoch 27/100\n",
      "3/3 [==============================] - 0s 21ms/step - loss: 0.3200 - accuracy: 0.9583 - val_loss: 1.0694 - val_accuracy: 0.5312\n",
      "Epoch 28/100\n",
      "3/3 [==============================] - 0s 23ms/step - loss: 0.3074 - accuracy: 0.9306 - val_loss: 1.1431 - val_accuracy: 0.4688\n",
      "Epoch 29/100\n",
      "3/3 [==============================] - 0s 18ms/step - loss: 0.2747 - accuracy: 0.9722 - val_loss: 1.3143 - val_accuracy: 0.4688\n",
      "Epoch 30/100\n",
      "3/3 [==============================] - 0s 18ms/step - loss: 0.3040 - accuracy: 0.9444 - val_loss: 1.2434 - val_accuracy: 0.4375\n",
      "Epoch 31/100\n",
      "3/3 [==============================] - 0s 18ms/step - loss: 0.2104 - accuracy: 0.9861 - val_loss: 1.1350 - val_accuracy: 0.6250\n",
      "Epoch 32/100\n",
      "3/3 [==============================] - 0s 21ms/step - loss: 0.2594 - accuracy: 0.9444 - val_loss: 1.2293 - val_accuracy: 0.5625\n",
      "Epoch 33/100\n",
      "3/3 [==============================] - 0s 19ms/step - loss: 0.1741 - accuracy: 1.0000 - val_loss: 1.6935 - val_accuracy: 0.4062\n",
      "Epoch 34/100\n",
      "3/3 [==============================] - 0s 21ms/step - loss: 0.2538 - accuracy: 0.9167 - val_loss: 1.3038 - val_accuracy: 0.5000\n",
      "Epoch 35/100\n",
      "3/3 [==============================] - 0s 27ms/step - loss: 0.1567 - accuracy: 1.0000 - val_loss: 1.0496 - val_accuracy: 0.5000\n",
      "Epoch 36/100\n",
      "3/3 [==============================] - 0s 19ms/step - loss: 0.1594 - accuracy: 0.9861 - val_loss: 1.1767 - val_accuracy: 0.5000\n",
      "Epoch 37/100\n",
      "3/3 [==============================] - 0s 21ms/step - loss: 0.1268 - accuracy: 1.0000 - val_loss: 1.2974 - val_accuracy: 0.5312\n",
      "Epoch 38/100\n",
      "3/3 [==============================] - 0s 19ms/step - loss: 0.1029 - accuracy: 1.0000 - val_loss: 1.3281 - val_accuracy: 0.4688\n",
      "Epoch 39/100\n",
      "3/3 [==============================] - 0s 20ms/step - loss: 0.1030 - accuracy: 1.0000 - val_loss: 1.2242 - val_accuracy: 0.5625\n",
      "Epoch 40/100\n",
      "3/3 [==============================] - 0s 23ms/step - loss: 0.0894 - accuracy: 1.0000 - val_loss: 1.2014 - val_accuracy: 0.5625\n",
      "Epoch 41/100\n",
      "3/3 [==============================] - 0s 20ms/step - loss: 0.0705 - accuracy: 1.0000 - val_loss: 1.2795 - val_accuracy: 0.5312\n",
      "Epoch 42/100\n",
      "3/3 [==============================] - 0s 20ms/step - loss: 0.0858 - accuracy: 0.9722 - val_loss: 1.1614 - val_accuracy: 0.5625\n",
      "Epoch 43/100\n",
      "3/3 [==============================] - 0s 20ms/step - loss: 0.0683 - accuracy: 0.9861 - val_loss: 1.1574 - val_accuracy: 0.5625\n",
      "Epoch 44/100\n",
      "3/3 [==============================] - 0s 19ms/step - loss: 0.0718 - accuracy: 1.0000 - val_loss: 1.3809 - val_accuracy: 0.5625\n",
      "Epoch 45/100\n",
      "3/3 [==============================] - 0s 20ms/step - loss: 0.0667 - accuracy: 1.0000 - val_loss: 1.4681 - val_accuracy: 0.5625\n",
      "Epoch 46/100\n",
      "3/3 [==============================] - 0s 20ms/step - loss: 0.0452 - accuracy: 1.0000 - val_loss: 1.1737 - val_accuracy: 0.5000\n",
      "Epoch 47/100\n",
      "3/3 [==============================] - 0s 20ms/step - loss: 0.0484 - accuracy: 1.0000 - val_loss: 1.1294 - val_accuracy: 0.5000\n",
      "Epoch 48/100\n",
      "3/3 [==============================] - 0s 21ms/step - loss: 0.0561 - accuracy: 1.0000 - val_loss: 1.1593 - val_accuracy: 0.5312\n",
      "Epoch 49/100\n",
      "3/3 [==============================] - 0s 20ms/step - loss: 0.0382 - accuracy: 1.0000 - val_loss: 1.4257 - val_accuracy: 0.5625\n",
      "Epoch 50/100\n",
      "3/3 [==============================] - 0s 21ms/step - loss: 0.0314 - accuracy: 1.0000 - val_loss: 1.6016 - val_accuracy: 0.5625\n",
      "Epoch 51/100\n",
      "3/3 [==============================] - 0s 20ms/step - loss: 0.0327 - accuracy: 1.0000 - val_loss: 1.5142 - val_accuracy: 0.5625\n",
      "Epoch 52/100\n",
      "3/3 [==============================] - 0s 22ms/step - loss: 0.0289 - accuracy: 1.0000 - val_loss: 1.3558 - val_accuracy: 0.5625\n",
      "Epoch 53/100\n",
      "3/3 [==============================] - 0s 19ms/step - loss: 0.0242 - accuracy: 1.0000 - val_loss: 1.2760 - val_accuracy: 0.5625\n",
      "Epoch 54/100\n",
      "3/3 [==============================] - 0s 20ms/step - loss: 0.0204 - accuracy: 1.0000 - val_loss: 1.2808 - val_accuracy: 0.5938\n",
      "Epoch 55/100\n",
      "3/3 [==============================] - 0s 20ms/step - loss: 0.0196 - accuracy: 1.0000 - val_loss: 1.2913 - val_accuracy: 0.5938\n",
      "Epoch 56/100\n",
      "3/3 [==============================] - 0s 21ms/step - loss: 0.0194 - accuracy: 1.0000 - val_loss: 1.2470 - val_accuracy: 0.5938\n",
      "Epoch 57/100\n",
      "3/3 [==============================] - 0s 20ms/step - loss: 0.0176 - accuracy: 1.0000 - val_loss: 1.2231 - val_accuracy: 0.5938\n",
      "Epoch 58/100\n",
      "3/3 [==============================] - 0s 19ms/step - loss: 0.0164 - accuracy: 1.0000 - val_loss: 1.2299 - val_accuracy: 0.5625\n",
      "Epoch 59/100\n",
      "3/3 [==============================] - 0s 19ms/step - loss: 0.0155 - accuracy: 1.0000 - val_loss: 1.2908 - val_accuracy: 0.5625\n",
      "Epoch 60/100\n",
      "3/3 [==============================] - 0s 20ms/step - loss: 0.0143 - accuracy: 1.0000 - val_loss: 1.3487 - val_accuracy: 0.5625\n",
      "Epoch 61/100\n",
      "3/3 [==============================] - 0s 20ms/step - loss: 0.0133 - accuracy: 1.0000 - val_loss: 1.4141 - val_accuracy: 0.5625\n",
      "Epoch 62/100\n",
      "3/3 [==============================] - 0s 20ms/step - loss: 0.0123 - accuracy: 1.0000 - val_loss: 1.4571 - val_accuracy: 0.5938\n",
      "Epoch 63/100\n",
      "3/3 [==============================] - 0s 20ms/step - loss: 0.0121 - accuracy: 1.0000 - val_loss: 1.4469 - val_accuracy: 0.5938\n",
      "Epoch 64/100\n",
      "3/3 [==============================] - 0s 21ms/step - loss: 0.0115 - accuracy: 1.0000 - val_loss: 1.4019 - val_accuracy: 0.5938\n",
      "Epoch 65/100\n",
      "3/3 [==============================] - 0s 22ms/step - loss: 0.0107 - accuracy: 1.0000 - val_loss: 1.3577 - val_accuracy: 0.6250\n",
      "Epoch 66/100\n",
      "3/3 [==============================] - 0s 21ms/step - loss: 0.0103 - accuracy: 1.0000 - val_loss: 1.3335 - val_accuracy: 0.5938\n",
      "Epoch 67/100\n",
      "3/3 [==============================] - 0s 22ms/step - loss: 0.0100 - accuracy: 1.0000 - val_loss: 1.3376 - val_accuracy: 0.5938\n",
      "Epoch 68/100\n",
      "3/3 [==============================] - 0s 19ms/step - loss: 0.0096 - accuracy: 1.0000 - val_loss: 1.3733 - val_accuracy: 0.5938\n",
      "Epoch 69/100\n",
      "3/3 [==============================] - 0s 19ms/step - loss: 0.0088 - accuracy: 1.0000 - val_loss: 1.4578 - val_accuracy: 0.5938\n",
      "Epoch 70/100\n",
      "3/3 [==============================] - 0s 20ms/step - loss: 0.0087 - accuracy: 1.0000 - val_loss: 1.5139 - val_accuracy: 0.5938\n",
      "Epoch 71/100\n",
      "3/3 [==============================] - 0s 21ms/step - loss: 0.0090 - accuracy: 1.0000 - val_loss: 1.4643 - val_accuracy: 0.5938\n",
      "Epoch 72/100\n",
      "3/3 [==============================] - 0s 19ms/step - loss: 0.0079 - accuracy: 1.0000 - val_loss: 1.3300 - val_accuracy: 0.5312\n",
      "Epoch 73/100\n",
      "3/3 [==============================] - 0s 22ms/step - loss: 0.0083 - accuracy: 1.0000 - val_loss: 1.2946 - val_accuracy: 0.5000\n",
      "Epoch 74/100\n",
      "3/3 [==============================] - 0s 21ms/step - loss: 0.0087 - accuracy: 1.0000 - val_loss: 1.3551 - val_accuracy: 0.5625\n",
      "Epoch 75/100\n",
      "3/3 [==============================] - 0s 19ms/step - loss: 0.0073 - accuracy: 1.0000 - val_loss: 1.4487 - val_accuracy: 0.5625\n",
      "Epoch 76/100\n",
      "3/3 [==============================] - 0s 20ms/step - loss: 0.0068 - accuracy: 1.0000 - val_loss: 1.5408 - val_accuracy: 0.5625\n",
      "Epoch 77/100\n",
      "3/3 [==============================] - 0s 21ms/step - loss: 0.0071 - accuracy: 1.0000 - val_loss: 1.5264 - val_accuracy: 0.5625\n",
      "Epoch 78/100\n",
      "3/3 [==============================] - 0s 21ms/step - loss: 0.0063 - accuracy: 1.0000 - val_loss: 1.4151 - val_accuracy: 0.5938\n",
      "Epoch 79/100\n",
      "3/3 [==============================] - 0s 20ms/step - loss: 0.0062 - accuracy: 1.0000 - val_loss: 1.3416 - val_accuracy: 0.5625\n",
      "Epoch 80/100\n",
      "3/3 [==============================] - 0s 21ms/step - loss: 0.0068 - accuracy: 1.0000 - val_loss: 1.3597 - val_accuracy: 0.5625\n",
      "Epoch 81/100\n",
      "3/3 [==============================] - 0s 20ms/step - loss: 0.0065 - accuracy: 1.0000 - val_loss: 1.4658 - val_accuracy: 0.5938\n",
      "Epoch 82/100\n",
      "3/3 [==============================] - 0s 21ms/step - loss: 0.0057 - accuracy: 1.0000 - val_loss: 1.5727 - val_accuracy: 0.5312\n",
      "Epoch 83/100\n",
      "3/3 [==============================] - 0s 20ms/step - loss: 0.0057 - accuracy: 1.0000 - val_loss: 1.6238 - val_accuracy: 0.5625\n",
      "Epoch 84/100\n",
      "3/3 [==============================] - 0s 21ms/step - loss: 0.0057 - accuracy: 1.0000 - val_loss: 1.5626 - val_accuracy: 0.5625\n",
      "Epoch 85/100\n",
      "3/3 [==============================] - 0s 20ms/step - loss: 0.0051 - accuracy: 1.0000 - val_loss: 1.4366 - val_accuracy: 0.5625\n",
      "Epoch 86/100\n",
      "3/3 [==============================] - 0s 19ms/step - loss: 0.0049 - accuracy: 1.0000 - val_loss: 1.3752 - val_accuracy: 0.5312\n",
      "Epoch 87/100\n",
      "3/3 [==============================] - 0s 21ms/step - loss: 0.0050 - accuracy: 1.0000 - val_loss: 1.3722 - val_accuracy: 0.5312\n",
      "Epoch 88/100\n",
      "3/3 [==============================] - 0s 20ms/step - loss: 0.0049 - accuracy: 1.0000 - val_loss: 1.4097 - val_accuracy: 0.5312\n",
      "Epoch 89/100\n",
      "3/3 [==============================] - 0s 20ms/step - loss: 0.0046 - accuracy: 1.0000 - val_loss: 1.5285 - val_accuracy: 0.5312\n",
      "Epoch 90/100\n",
      "3/3 [==============================] - 0s 22ms/step - loss: 0.0043 - accuracy: 1.0000 - val_loss: 1.6164 - val_accuracy: 0.5625\n",
      "Epoch 91/100\n",
      "3/3 [==============================] - 0s 18ms/step - loss: 0.0045 - accuracy: 1.0000 - val_loss: 1.6395 - val_accuracy: 0.5625\n",
      "Epoch 92/100\n",
      "3/3 [==============================] - 0s 19ms/step - loss: 0.0044 - accuracy: 1.0000 - val_loss: 1.5930 - val_accuracy: 0.5312\n",
      "Epoch 93/100\n",
      "3/3 [==============================] - 0s 18ms/step - loss: 0.0040 - accuracy: 1.0000 - val_loss: 1.5459 - val_accuracy: 0.5312\n",
      "Epoch 94/100\n",
      "3/3 [==============================] - 0s 19ms/step - loss: 0.0038 - accuracy: 1.0000 - val_loss: 1.5071 - val_accuracy: 0.5625\n",
      "Epoch 95/100\n",
      "3/3 [==============================] - 0s 19ms/step - loss: 0.0038 - accuracy: 1.0000 - val_loss: 1.4659 - val_accuracy: 0.5625\n",
      "Epoch 96/100\n",
      "3/3 [==============================] - 0s 21ms/step - loss: 0.0036 - accuracy: 1.0000 - val_loss: 1.4665 - val_accuracy: 0.5625\n",
      "Epoch 97/100\n",
      "3/3 [==============================] - 0s 19ms/step - loss: 0.0035 - accuracy: 1.0000 - val_loss: 1.4762 - val_accuracy: 0.5625\n",
      "Epoch 98/100\n",
      "3/3 [==============================] - 0s 22ms/step - loss: 0.0034 - accuracy: 1.0000 - val_loss: 1.5006 - val_accuracy: 0.6250\n",
      "Epoch 99/100\n",
      "3/3 [==============================] - 0s 21ms/step - loss: 0.0034 - accuracy: 1.0000 - val_loss: 1.5079 - val_accuracy: 0.5938\n",
      "Epoch 100/100\n",
      "3/3 [==============================] - 0s 21ms/step - loss: 0.0033 - accuracy: 1.0000 - val_loss: 1.4711 - val_accuracy: 0.5625\n"
     ]
    }
   ],
   "source": [
    "history = model.fit(X_train, Y_train, epochs = 100, batch_size = 32, validation_data=[X_test,Y_test],callbacks = [earlyStop])"
   ]
  },
  {
   "cell_type": "code",
   "execution_count": 12,
   "metadata": {},
   "outputs": [],
   "source": [
    "from keras.utils.image_utils import load_img\n",
    "image = load_img('img/egg.jpg', target_size=(32,32),color_mode=\"grayscale\")"
   ]
  },
  {
   "cell_type": "code",
   "execution_count": 13,
   "metadata": {},
   "outputs": [
    {
     "name": "stdout",
     "output_type": "stream",
     "text": [
      "1/1 [==============================] - 0s 57ms/step\n",
      "egg\n"
     ]
    },
    {
     "data": {
      "image/png": "[encoded data removed]",
      "text/plain": [
       "<Figure size 640x480 with 1 Axes>"
      ]
     },
     "metadata": {},
     "output_type": "display_data"
    }
   ],
   "source": [
    "from keras.utils.image_utils import img_to_array\n",
    "img = img_to_array(image)\n",
    "img = img.reshape(1,32,32)\n",
    "img = img.astype('float32')\n",
    "img = img/255\n",
    "tag = np.argmax(model.predict(img),axis=1)\n",
    "plt.imshow(image)\n",
    "print(label[tag[0]])"
   ]
  },
  {
   "cell_type": "code",
   "execution_count": 16,
   "metadata": {},
   "outputs": [
    {
     "name": "stdout",
     "output_type": "stream",
     "text": [
      "1/1 [==============================] - 0s 14ms/step\n",
      "meat\n"
     ]
    },
    {
     "data": {
      "image/png": "[encoded data removed]",
      "text/plain": [
       "<Figure size 640x480 with 1 Axes>"
      ]
     },
     "metadata": {},
     "output_type": "display_data"
    }
   ],
   "source": [
    "from keras.utils.image_utils import load_img\n",
    "image = load_img('img/spagetti.jpeg', target_size=(32,32),color_mode=\"grayscale\")\n",
    "from keras.utils.image_utils import img_to_array\n",
    "img = img_to_array(image)\n",
    "img = img.reshape(1,32,32)\n",
    "img = img.astype('float32')\n",
    "img = img/255\n",
    "tag = np.argmax(model.predict(img),axis=1)\n",
    "plt.imshow(image)\n",
    "print(label[tag[0]])"
   ]
  }
 ],
 "metadata": {
  "kernelspec": {
   "display_name": "Python 3.8.10 ('Car_enviroment')",
   "language": "python",
   "name": "python3"
  },
  "language_info": {
   "codemirror_mode": {
    "name": "ipython",
    "version": 3
   },
   "file_extension": ".py",
   "mimetype": "text/x-python",
   "name": "python",
   "nbconvert_exporter": "python",
   "pygments_lexer": "ipython3",
   "version": "3.8.10"
  },
  "orig_nbformat": 4,
  "vscode": {
   "interpreter": {
    "hash": "adc40417d40e2457938e3d78b2a2e0058813177b0c69e12c033c503d15659ee9"
   }
  }
 },
 "nbformat": 4,
 "nbformat_minor": 2
}
