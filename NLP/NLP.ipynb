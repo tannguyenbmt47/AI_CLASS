{
 "cells": [
  {
   "cell_type": "code",
   "execution_count": 7,
   "metadata": {},
   "outputs": [
    {
     "name": "stdout",
     "output_type": "stream",
     "text": [
      "Defaulting to user installation because normal site-packages is not writeable\n",
      "Collecting youtube-search\n",
      "  Downloading youtube_search-2.1.2-py3-none-any.whl (3.4 kB)\n",
      "Requirement already satisfied: requests in /usr/lib/python3/dist-packages (from youtube-search) (2.22.0)\n",
      "Installing collected packages: youtube-search\n",
      "Successfully installed youtube-search-2.1.2\n",
      "\n",
      "\u001b[1m[\u001b[0m\u001b[34;49mnotice\u001b[0m\u001b[1;39;49m]\u001b[0m\u001b[39;49m A new release of pip available: \u001b[0m\u001b[31;49m22.3\u001b[0m\u001b[39;49m -> \u001b[0m\u001b[32;49m22.3.1\u001b[0m\n",
      "\u001b[1m[\u001b[0m\u001b[34;49mnotice\u001b[0m\u001b[1;39;49m]\u001b[0m\u001b[39;49m To update, run: \u001b[0m\u001b[32;49mpip install --upgrade pip\u001b[0m\n",
      "Note: you may need to restart the kernel to use updated packages.\n"
     ]
    }
   ],
   "source": [
    "pip install youtube-search"
   ]
  },
  {
   "cell_type": "code",
   "execution_count": 9,
   "metadata": {},
   "outputs": [
    {
     "name": "stdout",
     "output_type": "stream",
     "text": [
      "[{'id': '2iidlwQ-NfU', 'thumbnails': ['https://i.ytimg.com/vi/2iidlwQ-NfU/hq720.jpg?sqp=-oaymwEjCOgCEMoBSFryq4qpAxUIARUAAAAAGAElAADIQj0AgKJDeAE=&rs=AOn4CLA8ckFJD441yyj8H413RV3J6Y2emg', 'https://i.ytimg.com/vi/2iidlwQ-NfU/hq720.jpg?sqp=-oaymwEXCNAFEJQDSFryq4qpAwkIARUAAIhCGAE=&rs=AOn4CLByLgmOYtGgWIXqca4WMJso7fPUtA'], 'title': 'vaicaunoicokhiennguoithaydoi - GREY D x tlinh | Official Music Video', 'long_desc': None, 'channel': 'ST.319 Entertainment', 'duration': '3:56', 'views': '26.525.915 lượt xem', 'publish_time': '5 tháng trước', 'url_suffix': '/watch?v=2iidlwQ-NfU'}, {'id': 'yZtmA0MCmzc', 'thumbnails': ['https://i.ytimg.com/vi/yZtmA0MCmzc/hq720.jpg?sqp=-oaymwEjCOgCEMoBSFryq4qpAxUIARUAAAAAGAElAADIQj0AgKJDeAE=&rs=AOn4CLAfywcylYt0DIMqZxGS5sLY6BwVeg', 'https://i.ytimg.com/vi/yZtmA0MCmzc/hq720.jpg?sqp=-oaymwEXCNAFEJQDSFryq4qpAwkIARUAAIhCGAE=&rs=AOn4CLCl9rMId3OgWRqjxQ7EkabCB3J1MA'], 'title': 'ZOKY - VÀI CÂU NÓI  | OFFICIAL MV 4K |', 'long_desc': None, 'channel': 'Zoky Bác sĩ', 'duration': '2:41', 'views': '178.649 lượt xem', 'publish_time': '1 năm trước', 'url_suffix': '/watch?v=yZtmA0MCmzc'}, {'id': 'hiG85vP0XGw', 'thumbnails': ['https://i.ytimg.com/vi/hiG85vP0XGw/hq720.jpg?sqp=-oaymwEjCOgCEMoBSFryq4qpAxUIARUAAAAAGAElAADIQj0AgKJDeAE=&rs=AOn4CLBGMrziTVXALFvH01PZ9B9lSa_iCg', 'https://i.ytimg.com/vi/hiG85vP0XGw/hq720.jpg?sqp=-oaymwEXCNAFEJQDSFryq4qpAwkIARUAAIhCGAE=&rs=AOn4CLC7AZK5rtmpxWzjLjEgIbzdg9bsLA'], 'title': 'Những câu nói ý nghĩa làm thay đổi cuộc đời bạn', 'long_desc': None, 'channel': 'Angel Trần Channel', 'duration': '30:05', 'views': '12.303.551 lượt xem', 'publish_time': '4 năm trước', 'url_suffix': '/watch?v=hiG85vP0XGw'}, {'id': '5VYIa9aj8Bc', 'thumbnails': ['https://i.ytimg.com/vi/5VYIa9aj8Bc/hq720.jpg?sqp=-oaymwEjCOgCEMoBSFryq4qpAxUIARUAAAAAGAElAADIQj0AgKJDeAE=&rs=AOn4CLB54BRE6K0Y9bPkFm9XwHUsWc68mw', 'https://i.ytimg.com/vi/5VYIa9aj8Bc/hq720.jpg?sqp=-oaymwEXCNAFEJQDSFryq4qpAwkIARUAAIhCGAE=&rs=AOn4CLDVFqebk1yYlZSkeXPvZ54csE5bTw'], 'title': 'vaicaunoicokhiennguoithaydoi (cm1x lofi ver.) - GREY D x tlinh', 'long_desc': None, 'channel': 'CM1X Official', 'duration': '3:25', 'views': '412.521 lượt xem', 'publish_time': '3 tháng trước', 'url_suffix': '/watch?v=5VYIa9aj8Bc'}, {'id': 'ugV6HtrO4xA', 'thumbnails': ['https://i.ytimg.com/vi/ugV6HtrO4xA/hq720.jpg?sqp=-oaymwEjCOgCEMoBSFryq4qpAxUIARUAAAAAGAElAADIQj0AgKJDeAE=&rs=AOn4CLDRjVoywvfdPwPHajZBAyk2NPdMmw', 'https://i.ytimg.com/vi/ugV6HtrO4xA/hq720.jpg?sqp=-oaymwEXCNAFEJQDSFryq4qpAwkIARUAAIhCGAE=&rs=AOn4CLBo3gcLDaAkQldjYaPsPDoPN39JzA'], 'title': 'vaicaunoicokhiennguoithaydoi - GREY D | ‘Hương Mùa Hè’ show (tập 1)', 'long_desc': None, 'channel': 'Hương Mùa Hè', 'duration': '3:40', 'views': '1.432.572 lượt xem', 'publish_time': '4 tháng trước', 'url_suffix': '/watch?v=ugV6HtrO4xA'}, {'id': 'XoAb7lC9-ik', 'thumbnails': ['https://i.ytimg.com/vi/XoAb7lC9-ik/hq720.jpg?sqp=-oaymwEjCOgCEMoBSFryq4qpAxUIARUAAAAAGAElAADIQj0AgKJDeAE=&rs=AOn4CLDKndIEEdq3Up52LdUnmLo5Bo8ksg', 'https://i.ytimg.com/vi/XoAb7lC9-ik/hq720.jpg?sqp=-oaymwEXCNAFEJQDSFryq4qpAwkIARUAAIhCGAE=&rs=AOn4CLD3gkRebYhrSAnG2Qa-M7c4Ny0lOg'], 'title': 'VƯƠNG ANH TÚ - GIÚP ANH TRẢ LỜI NHỮNG CÂU HỎI | Live at Lululola Show', 'long_desc': None, 'channel': 'Vương Anh Tú Official', 'duration': '4:42', 'views': '847.371 lượt xem', 'publish_time': '6 tháng trước', 'url_suffix': '/watch?v=XoAb7lC9-ik'}, {'id': 'l-XjpFw-Wro', 'thumbnails': ['https://i.ytimg.com/vi/l-XjpFw-Wro/hq720.jpg?sqp=-oaymwE9COgCEMoBSFryq4qpAy8IARUAAAAAGAElAADIQj0AgKJDeAHwAQH4Af4JgALQBYoCDAgAEAEYXSBlKC0wDw==&rs=AOn4CLArxAbptGPHqzsf7mZ47iAZkdAY6g', 'https://i.ytimg.com/vi/l-XjpFw-Wro/hq720.jpg?sqp=-oaymwExCNAFEJQDSFryq4qpAyMIARUAAIhCGAHwAQH4Af4JgALQBYoCDAgAEAEYXSBlKC0wDw==&rs=AOn4CLCRJLLXA5MNzAp-YLo9edY4DYzMug'], 'title': 'Vài câu nói - Zoky', 'long_desc': None, 'channel': 'Dat Dayy♪', 'duration': '2:18', 'views': '4.680 lượt xem', 'publish_time': '3 tháng trước', 'url_suffix': '/watch?v=l-XjpFw-Wro'}, {'id': 'U6zdwWA6L1M', 'thumbnails': ['https://i.ytimg.com/vi/U6zdwWA6L1M/hq720.jpg?sqp=-oaymwEjCOgCEMoBSFryq4qpAxUIARUAAAAAGAElAADIQj0AgKJDeAE=&rs=AOn4CLC16vH8sCfskHXoJ6inHT8S3s_zDg', 'https://i.ytimg.com/vi/U6zdwWA6L1M/hq720.jpg?sqp=-oaymwEXCNAFEJQDSFryq4qpAwkIARUAAIhCGAE=&rs=AOn4CLCm0hu1TSrkuqKVG5eEnxZ6UK2D4A'], 'title': 'ZOKY - VÀI CÂU NÓI | (BEAT) - Ở đây chỉ có beat nhạc.', 'long_desc': None, 'channel': 'Ở đây chỉ có beat nhạc', 'duration': '2:17', 'views': '34.470 lượt xem', 'publish_time': '5 tháng trước', 'url_suffix': '/watch?v=U6zdwWA6L1M'}, {'id': 'lmowgXfIWyA', 'thumbnails': ['https://i.ytimg.com/vi/lmowgXfIWyA/hq720.jpg?sqp=-oaymwEjCOgCEMoBSFryq4qpAxUIARUAAAAAGAElAADIQj0AgKJDeAE=&rs=AOn4CLC7QccvFvID3NQGrcRmdCVpoazyNA', 'https://i.ytimg.com/vi/lmowgXfIWyA/hq720.jpg?sqp=-oaymwEXCNAFEJQDSFryq4qpAwkIARUAAIhCGAE=&rs=AOn4CLAEBuG3uRAiZKpRbHCJh-U_O3YbhQ'], 'title': 'VÀI CÂ NÓI CÓ KHIẾN NGƯỜI THAY ĐỔI', 'long_desc': None, 'channel': 'Various Artists - Topic', 'duration': '3:46', 'views': '232.741 lượt xem', 'publish_time': 0, 'url_suffix': '/watch?v=lmowgXfIWyA'}, {'id': 'Ho0MobHCEgY', 'thumbnails': ['https://i.ytimg.com/vi/Ho0MobHCEgY/hq720.jpg?sqp=-oaymwEjCOgCEMoBSFryq4qpAxUIARUAAAAAGAElAADIQj0AgKJDeAE=&rs=AOn4CLBgEEXVTisQJSNYe8JLot7dfKm5OA', 'https://i.ytimg.com/vi/Ho0MobHCEgY/hq720.jpg?sqp=-oaymwEXCNAFEJQDSFryq4qpAwkIARUAAIhCGAE=&rs=AOn4CLCkgoL0C2wPi6gTONpMolh2yvXr5w'], 'title': 'VÌ MỘT CÂU NÓI - HOÀNG DŨNG, MÀU NƯỚC BAND | 25 MÉT VUÔNG - EP.3', 'long_desc': None, 'channel': 'Hoàng Dũng', 'duration': '6:39', 'views': '1.905.482 lượt xem', 'publish_time': '11 tháng trước', 'url_suffix': '/watch?v=Ho0MobHCEgY'}]\n",
      "/watch?v=2iidlwQ-NfU\n",
      "http://www.youtube.com/watch?v=2iidlwQ-NfU\n",
      "Bai hat yeu cau da duoc mo\n"
     ]
    }
   ],
   "source": [
    "from youtube_search import YoutubeSearch\n",
    "import webbrowser\n",
    "\n",
    "mysong = input(\"\")\n",
    "result = YoutubeSearch(mysong, max_results =10).to_dict()\n",
    "print(result)\n",
    "print(result[0][\"url_suffix\"])\n",
    "url = \"http://www.youtube.com\" + result[0][\"url_suffix\"]\n",
    "\n",
    "print(url)\n",
    "\n",
    "webbrowser.open(url)\n",
    "print(\"Bai hat yeu cau da duoc mo\")\n"
   ]
  },
  {
   "cell_type": "code",
   "execution_count": 10,
   "metadata": {},
   "outputs": [
    {
     "name": "stdout",
     "output_type": "stream",
     "text": [
      "Defaulting to user installation because normal site-packages is not writeable\n",
      "Collecting SpeechRecognition\n",
      "  Downloading SpeechRecognition-3.8.1-py2.py3-none-any.whl (32.8 MB)\n",
      "\u001b[2K     \u001b[90m━━━━━━━━━━━━━━━━━━━━━━━━━━━━━━━━━━━━━━━━\u001b[0m \u001b[32m32.8/32.8 MB\u001b[0m \u001b[31m4.0 MB/s\u001b[0m eta \u001b[36m0:00:00\u001b[0m00:01\u001b[0m00:01\u001b[0mm\n",
      "\u001b[?25hInstalling collected packages: SpeechRecognition\n",
      "Successfully installed SpeechRecognition-3.8.1\n",
      "\n",
      "\u001b[1m[\u001b[0m\u001b[34;49mnotice\u001b[0m\u001b[1;39;49m]\u001b[0m\u001b[39;49m A new release of pip available: \u001b[0m\u001b[31;49m22.3\u001b[0m\u001b[39;49m -> \u001b[0m\u001b[32;49m22.3.1\u001b[0m\n",
      "\u001b[1m[\u001b[0m\u001b[34;49mnotice\u001b[0m\u001b[1;39;49m]\u001b[0m\u001b[39;49m To update, run: \u001b[0m\u001b[32;49mpip install --upgrade pip\u001b[0m\n",
      "Note: you may need to restart the kernel to use updated packages.\n"
     ]
    }
   ],
   "source": [
    "pip install SpeechRecognition\n"
   ]
  },
  {
   "cell_type": "code",
   "execution_count": 11,
   "metadata": {},
   "outputs": [
    {
     "name": "stdout",
     "output_type": "stream",
     "text": [
      "Defaulting to user installation because normal site-packages is not writeable\n",
      "Collecting google-speech\n",
      "  Downloading google_speech-1.1.0.tar.gz (17 kB)\n",
      "  Preparing metadata (setup.py) ... \u001b[?25ldone\n",
      "\u001b[?25hCollecting appdirs>=1.4.0\n",
      "  Downloading appdirs-1.4.4-py2.py3-none-any.whl (9.6 kB)\n",
      "Requirement already satisfied: requests>=2.6.0 in /usr/lib/python3/dist-packages (from google-speech) (2.22.0)\n",
      "Collecting web_cache>=1.1.0\n",
      "  Downloading web_cache-1.1.0.tar.gz (16 kB)\n",
      "  Preparing metadata (setup.py) ... \u001b[?25ldone\n",
      "\u001b[?25hBuilding wheels for collected packages: google-speech, web_cache\n",
      "  Building wheel for google-speech (setup.py) ... \u001b[?25ldone\n",
      "\u001b[?25h  Created wheel for google-speech: filename=google_speech-1.1.0-py3-none-any.whl size=18124 sha256=7f367072aa0ce445d7f4b23844b04a1d204c01ae0df2691f79af33bbf627ac87\n",
      "  Stored in directory: /home/tan/.cache/pip/wheels/34/b6/47/deb677eb3ab6f1b0462dd29e2dcfc5a446d73246bac2896bc9\n",
      "  Building wheel for web_cache (setup.py) ... \u001b[?25ldone\n",
      "\u001b[?25h  Created wheel for web_cache: filename=web_cache-1.1.0-py3-none-any.whl size=15426 sha256=fcf63325e1cd815ca4bba12857567010d354d302763debde635f5c44b31364db\n",
      "  Stored in directory: /home/tan/.cache/pip/wheels/61/5e/58/4182119863b290fff66d237155a682418335e58a82321e56ff\n",
      "Successfully built google-speech web_cache\n",
      "Installing collected packages: web_cache, appdirs, google-speech\n",
      "Successfully installed appdirs-1.4.4 google-speech-1.1.0 web_cache-1.1.0\n",
      "\n",
      "\u001b[1m[\u001b[0m\u001b[34;49mnotice\u001b[0m\u001b[1;39;49m]\u001b[0m\u001b[39;49m A new release of pip available: \u001b[0m\u001b[31;49m22.3\u001b[0m\u001b[39;49m -> \u001b[0m\u001b[32;49m22.3.1\u001b[0m\n",
      "\u001b[1m[\u001b[0m\u001b[34;49mnotice\u001b[0m\u001b[1;39;49m]\u001b[0m\u001b[39;49m To update, run: \u001b[0m\u001b[32;49mpip install --upgrade pip\u001b[0m\n",
      "Note: you may need to restart the kernel to use updated packages.\n"
     ]
    }
   ],
   "source": [
    "pip install google-speech"
   ]
  },
  {
   "cell_type": "code",
   "execution_count": 15,
   "metadata": {},
   "outputs": [
    {
     "name": "stdout",
     "output_type": "stream",
     "text": [
      "days when life was simple like the class was always have with you back when we\n"
     ]
    }
   ],
   "source": [
    "filename = \"sound/Hayd - Head In The Clouds (Official Video).wav\"\n",
    "import speech_recognition as sv\n",
    "v = sv.Recognizer()\n",
    "\n",
    "with sv.AudioFile(filename) as source:\n",
    "    audio_data = v.record(source)\n",
    "    text = v.recognize_google(audio_data)\n",
    "    print(text)"
   ]
  },
  {
   "cell_type": "code",
   "execution_count": 16,
   "metadata": {},
   "outputs": [
    {
     "name": "stdout",
     "output_type": "stream",
     "text": [
      "crocodile it's an important job let me explain why here in Australia we have a lot of crocodile but sometimes the crocodiles are sick I want to know why I studied the food the crocodiles eat I also learn how fast they grow and where they live how do I do this well in the morning I take my camera and I watched the crocodiles in the river I take photos sometimes the crocodiles eat toad some toads make them sick and they die I want to help a crocodiles\n"
     ]
    }
   ],
   "source": [
    "filename = \"sound/english.wav\"\n",
    "import speech_recognition as sv\n",
    "v = sv.Recognizer()\n",
    "\n",
    "with sv.AudioFile(filename) as source:\n",
    "    audio_data = v.record(source,offset=15, duration = 50)\n",
    "    text = v.recognize_google(audio_data)\n",
    "    print(text)"
   ]
  },
  {
   "cell_type": "code",
   "execution_count": 17,
   "metadata": {},
   "outputs": [
    {
     "name": "stdout",
     "output_type": "stream",
     "text": [
      "mẹ mày đ***** mày đ***** mày\n"
     ]
    }
   ],
   "source": [
    "filename = \"sound/chuinhau\"\n",
    "import speech_recognition as sv\n",
    "v = sv.Recognizer()\n",
    "\n",
    "with sv.AudioFile(filename) as source:\n",
    "    audio_data = v.record(source,offset=15, duration = 50)\n",
    "    text = v.recognize_google(audio_data,language=\"vi_VI\") # \n",
    "    print(text)"
   ]
  },
  {
   "cell_type": "code",
   "execution_count": 18,
   "metadata": {},
   "outputs": [
    {
     "name": "stdout",
     "output_type": "stream",
     "text": [
      "cho anh ta chẳng biết là tôi đang đi tìm này sang mp3\n"
     ]
    }
   ],
   "source": [
    "filename = \"sound/sontung\"\n",
    "import speech_recognition as sv\n",
    "v = sv.Recognizer()\n",
    "\n",
    "with sv.AudioFile(filename) as source:\n",
    "    audio_data = v.record(source,offset=15, duration = 50)\n",
    "    text = v.recognize_google(audio_data,language=\"vi_VI\") # \n",
    "    print(text)"
   ]
  },
  {
   "cell_type": "code",
   "execution_count": 19,
   "metadata": {},
   "outputs": [
    {
     "name": "stdout",
     "output_type": "stream",
     "text": [
      "Con cò bé bé nó đậu cành tre Đi không hỏi mẹ biết đi đường nào Mẹ có yêu con Con cò bé bé nó đậu cành tre\n"
     ]
    }
   ],
   "source": [
    "filename = \"sound/bexuanmai\"\n",
    "import speech_recognition as sv\n",
    "v = sv.Recognizer()\n",
    "\n",
    "with sv.AudioFile(filename) as source:\n",
    "    audio_data = v.record(source,offset=15, duration = 50)\n",
    "    text = v.recognize_google(audio_data,language=\"vi_VI\") # \n",
    "    print(text)"
   ]
  },
  {
   "cell_type": "code",
   "execution_count": 22,
   "metadata": {},
   "outputs": [
    {
     "name": "stdout",
     "output_type": "stream",
     "text": [
      "nhìn quanh Lần Cuối Rừng Thay Lá Mầm không báo tin gì trên màn mưa đã em không nói một lời không khóc Không cười chỉ cuốn theo chiều gió đưa sẽ như cà phê muối dễ như cách em sửa bàn tay đẹp chỉ tiêu nuôi dễ như cách em quay lại quay lại quay lại để buông lời tha thứ X Vậy là lần cuối đi bên nhau\n"
     ]
    }
   ],
   "source": [
    "filename = \"sound/lancuoi.wav\"\n",
    "import speech_recognition as sv\n",
    "v = sv.Recognizer()\n",
    "\n",
    "with sv.AudioFile(filename) as source:\n",
    "    audio_data = v.record(source,offset=0, duration = 50)\n",
    "    text = v.recognize_google(audio_data,language=\"vi_VI\") # \n",
    "    print(text)"
   ]
  },
  {
   "cell_type": "code",
   "execution_count": 25,
   "metadata": {},
   "outputs": [
    {
     "name": "stdout",
     "output_type": "stream",
     "text": [
      "Defaulting to user installation because normal site-packages is not writeable\n",
      "Collecting playsound\n",
      "  Downloading playsound-1.3.0.tar.gz (7.7 kB)\n",
      "  Preparing metadata (setup.py) ... \u001b[?25ldone\n",
      "\u001b[?25hBuilding wheels for collected packages: playsound\n",
      "  Building wheel for playsound (setup.py) ... \u001b[?25ldone\n",
      "\u001b[?25h  Created wheel for playsound: filename=playsound-1.3.0-py3-none-any.whl size=7020 sha256=0c4a548bf2537521e93f6e906f4ec7a3f695f09bdce21e4a290b39c2ae878663\n",
      "  Stored in directory: /home/tan/.cache/pip/wheels/6a/77/c4/6ed630d7b0e68442ed69150ebac62c3220a835b5001ab4cf7c\n",
      "Successfully built playsound\n",
      "Installing collected packages: playsound\n",
      "Successfully installed playsound-1.3.0\n",
      "\n",
      "\u001b[1m[\u001b[0m\u001b[34;49mnotice\u001b[0m\u001b[1;39;49m]\u001b[0m\u001b[39;49m A new release of pip available: \u001b[0m\u001b[31;49m22.3\u001b[0m\u001b[39;49m -> \u001b[0m\u001b[32;49m22.3.1\u001b[0m\n",
      "\u001b[1m[\u001b[0m\u001b[34;49mnotice\u001b[0m\u001b[1;39;49m]\u001b[0m\u001b[39;49m To update, run: \u001b[0m\u001b[32;49mpip install --upgrade pip\u001b[0m\n",
      "Note: you may need to restart the kernel to use updated packages.\n"
     ]
    }
   ],
   "source": [
    "pip install playsound"
   ]
  },
  {
   "cell_type": "code",
   "execution_count": 3,
   "metadata": {},
   "outputs": [],
   "source": [
    "from playsound import playsound\n",
    "import speech_recognition as sr\n",
    "from gtts import gTTS"
   ]
  },
  {
   "cell_type": "code",
   "execution_count": 4,
   "metadata": {},
   "outputs": [
    {
     "name": "stdout",
     "output_type": "stream",
     "text": [
      "早上好中国 现在我有冰淇淋 我很喜欢冰淇淋 但是 速度与激情9 比冰淇淋 速度与激情 速度与激情9 我最喜欢 所以…\n"
     ]
    }
   ],
   "source": [
    "import os\n",
    "text = \"早上好中国 现在我有冰淇淋 我很喜欢冰淇淋 但是 速度与激情9 比冰淇淋 速度与激情 速度与激情9 我最喜欢 所以…\"\n",
    "speak = gTTS(text,lang=\"zh-CN\",slow=\"false\")\n",
    "speak.save(\"test.mp3\")\n",
    "playsound(\"test.mp3\")\n",
    "os.remove(\"test.mp3\")\n",
    "print(text)"
   ]
  },
  {
   "cell_type": "code",
   "execution_count": null,
   "metadata": {},
   "outputs": [],
   "source": []
  },
  {
   "cell_type": "code",
   "execution_count": 31,
   "metadata": {},
   "outputs": [
    {
     "name": "stdout",
     "output_type": "stream",
     "text": [
      "The self-study lessons in this section are written and organised by English level based on the Common European Framework of Reference for languages (CEFR). There are different types of texts and interactive exercises that practise the reading skills you need to do well in your studies, to get ahead at work and to communicate in English in your free time.\n"
     ]
    }
   ],
   "source": [
    "import os\n",
    "text = \"The self-study lessons in this section are written and organised by English level based on the Common European Framework of Reference for languages (CEFR). There are different types of texts and interactive exercises that practise the reading skills you need to do well in your studies, to get ahead at work and to communicate in English in your free time.\"\n",
    "speak = gTTS(text,lang=\"en\",slow=\"false\")\n",
    "speak.save(\"test.mp3\")\n",
    "playsound(\"test.mp3\")\n",
    "os.remove(\"test.mp3\")\n",
    "print(text)"
   ]
  },
  {
   "cell_type": "code",
   "execution_count": 33,
   "metadata": {},
   "outputs": [
    {
     "name": "stdout",
     "output_type": "stream",
     "text": [
      "cho anh ta chẳng biết là tôi đang đi tìm này sang mp3\n",
      "cho anh ta chẳng biết là tôi đang đi tìm này sang mp3\n"
     ]
    }
   ],
   "source": [
    "filename = \"sound/sontung\"\n",
    "import speech_recognition as sv\n",
    "v = sv.Recognizer()\n",
    "txt = \"\"\n",
    "with sv.AudioFile(filename) as source:\n",
    "    audio_data = v.record(source,offset=15, duration = 50)\n",
    "    text = v.recognize_google(audio_data,language=\"vi_VI\") # \n",
    "    print(text)\n",
    "    txt = txt+text\n",
    "print(txt)\n",
    "speak = gTTS(text,lang=\"en\",slow=\"false\")\n",
    "speak.save(\"test.mp3\")\n",
    "playsound(\"test.mp3\")\n",
    "os.remove(\"test.mp3\")\n",
    "print(text)"
   ]
  },
  {
   "cell_type": "code",
   "execution_count": 36,
   "metadata": {},
   "outputs": [
    {
     "name": "stdout",
     "output_type": "stream",
     "text": [
      "Defaulting to user installation because normal site-packages is not writeable\n",
      "Requirement already satisfied: googletrans in /home/tan/.local/lib/python3.8/site-packages (3.0.0)\n",
      "Requirement already satisfied: httpx==0.13.3 in /home/tan/.local/lib/python3.8/site-packages (from googletrans) (0.13.3)\n",
      "Requirement already satisfied: chardet==3.* in /usr/lib/python3/dist-packages (from httpx==0.13.3->googletrans) (3.0.4)\n",
      "Requirement already satisfied: sniffio in /home/tan/.local/lib/python3.8/site-packages (from httpx==0.13.3->googletrans) (1.3.0)\n",
      "Requirement already satisfied: rfc3986<2,>=1.3 in /home/tan/.local/lib/python3.8/site-packages (from httpx==0.13.3->googletrans) (1.5.0)\n",
      "Requirement already satisfied: hstspreload in /home/tan/.local/lib/python3.8/site-packages (from httpx==0.13.3->googletrans) (2022.11.1)\n",
      "Requirement already satisfied: idna==2.* in /usr/lib/python3/dist-packages (from httpx==0.13.3->googletrans) (2.8)\n",
      "Requirement already satisfied: httpcore==0.9.* in /home/tan/.local/lib/python3.8/site-packages (from httpx==0.13.3->googletrans) (0.9.1)\n",
      "Requirement already satisfied: certifi in /usr/lib/python3/dist-packages (from httpx==0.13.3->googletrans) (2019.11.28)\n",
      "Requirement already satisfied: h2==3.* in /home/tan/.local/lib/python3.8/site-packages (from httpcore==0.9.*->httpx==0.13.3->googletrans) (3.2.0)\n",
      "Requirement already satisfied: h11<0.10,>=0.8 in /home/tan/.local/lib/python3.8/site-packages (from httpcore==0.9.*->httpx==0.13.3->googletrans) (0.9.0)\n",
      "Requirement already satisfied: hpack<4,>=3.0 in /home/tan/.local/lib/python3.8/site-packages (from h2==3.*->httpcore==0.9.*->httpx==0.13.3->googletrans) (3.0.0)\n",
      "Requirement already satisfied: hyperframe<6,>=5.2.0 in /home/tan/.local/lib/python3.8/site-packages (from h2==3.*->httpcore==0.9.*->httpx==0.13.3->googletrans) (5.2.0)\n",
      "\n",
      "\u001b[1m[\u001b[0m\u001b[34;49mnotice\u001b[0m\u001b[1;39;49m]\u001b[0m\u001b[39;49m A new release of pip available: \u001b[0m\u001b[31;49m22.3\u001b[0m\u001b[39;49m -> \u001b[0m\u001b[32;49m22.3.1\u001b[0m\n",
      "\u001b[1m[\u001b[0m\u001b[34;49mnotice\u001b[0m\u001b[1;39;49m]\u001b[0m\u001b[39;49m To update, run: \u001b[0m\u001b[32;49mpip install --upgrade pip\u001b[0m\n",
      "Note: you may need to restart the kernel to use updated packages.\n"
     ]
    }
   ],
   "source": [
    "pip install googletrans"
   ]
  },
  {
   "cell_type": "code",
   "execution_count": 1,
   "metadata": {},
   "outputs": [
    {
     "name": "stdout",
     "output_type": "stream",
     "text": [
      "and i love you\n"
     ]
    }
   ],
   "source": [
    "from googletrans import Translator\n",
    "dich = Translator()\n",
    "translation =dich.translate(\"va toi cung yeu em\", dest=\"en\")\n",
    "print(translation.text)\n"
   ]
  },
  {
   "cell_type": "code",
   "execution_count": 52,
   "metadata": {},
   "outputs": [
    {
     "name": "stdout",
     "output_type": "stream",
     "text": [
      "Defaulting to user installation because normal site-packages is not writeable\n",
      "Requirement already satisfied: googletrans==3.1.0a0 in /home/tan/.local/lib/python3.8/site-packages (3.1.0a0)\n",
      "Requirement already satisfied: httpx==0.13.3 in /home/tan/.local/lib/python3.8/site-packages (from googletrans==3.1.0a0) (0.13.3)\n",
      "Requirement already satisfied: chardet==3.* in /usr/lib/python3/dist-packages (from httpx==0.13.3->googletrans==3.1.0a0) (3.0.4)\n",
      "Requirement already satisfied: hstspreload in /home/tan/.local/lib/python3.8/site-packages (from httpx==0.13.3->googletrans==3.1.0a0) (2022.11.1)\n",
      "Requirement already satisfied: sniffio in /home/tan/.local/lib/python3.8/site-packages (from httpx==0.13.3->googletrans==3.1.0a0) (1.3.0)\n",
      "Requirement already satisfied: rfc3986<2,>=1.3 in /home/tan/.local/lib/python3.8/site-packages (from httpx==0.13.3->googletrans==3.1.0a0) (1.5.0)\n",
      "Requirement already satisfied: httpcore==0.9.* in /home/tan/.local/lib/python3.8/site-packages (from httpx==0.13.3->googletrans==3.1.0a0) (0.9.1)\n",
      "Requirement already satisfied: idna==2.* in /usr/lib/python3/dist-packages (from httpx==0.13.3->googletrans==3.1.0a0) (2.8)\n",
      "Requirement already satisfied: certifi in /usr/lib/python3/dist-packages (from httpx==0.13.3->googletrans==3.1.0a0) (2019.11.28)\n",
      "Requirement already satisfied: h2==3.* in /home/tan/.local/lib/python3.8/site-packages (from httpcore==0.9.*->httpx==0.13.3->googletrans==3.1.0a0) (3.2.0)\n",
      "Requirement already satisfied: h11<0.10,>=0.8 in /home/tan/.local/lib/python3.8/site-packages (from httpcore==0.9.*->httpx==0.13.3->googletrans==3.1.0a0) (0.9.0)\n",
      "Requirement already satisfied: hyperframe<6,>=5.2.0 in /home/tan/.local/lib/python3.8/site-packages (from h2==3.*->httpcore==0.9.*->httpx==0.13.3->googletrans==3.1.0a0) (5.2.0)\n",
      "Requirement already satisfied: hpack<4,>=3.0 in /home/tan/.local/lib/python3.8/site-packages (from h2==3.*->httpcore==0.9.*->httpx==0.13.3->googletrans==3.1.0a0) (3.0.0)\n",
      "Note: you may need to restart the kernel to use updated packages.\n"
     ]
    }
   ],
   "source": [
    "pip install googletrans==3.1.0a0"
   ]
  },
  {
   "cell_type": "code",
   "execution_count": 12,
   "metadata": {},
   "outputs": [
    {
     "name": "stdout",
     "output_type": "stream",
     "text": [
      "nhìn quanh Lần Cuối Rừng Thay Lá Mầm không báo tin gì trên màn mưa đã em không nói một lời không khóc Không cười chỉ cuốn theo chiều gió đưa sẽ như cà phê muối dễ như cách em sửa bàn tay đẹp chỉ tiêu nuôi dễ như cách em quay lại quay lại quay lại để buông lời tha thứ X Vậy là lần cuối đi bên nhau cay đắng nhưng không đau Nếu ai cũng mang con người mong đời đời tôi mưa cũng đang tay tôi như một giấc mơ trôi Tôi hẹn gặp lại cho anh hỏi B ngày mai vì khó như nói thông tin về những gì em đã khỏe vì nước\n",
      "nhìn quanh Lần Cuối Rừng Thay Lá Mầm không báo tin gì trên màn mưa đã em không nói một lời không khóc Không cười chỉ cuốn theo chiều gió đưa sẽ như cà phê muối dễ như cách em sửa bàn tay đẹp chỉ tiêu nuôi dễ như cách em quay lại quay lại quay lại để buông lời tha thứ X Vậy là lần cuối đi bên nhau cay đắng nhưng không đau Nếu ai cũng mang con người mong đời đời tôi mưa cũng đang tay tôi như một giấc mơ trôi Tôi hẹn gặp lại cho anh hỏi B ngày mai vì khó như nói thông tin về những gì em đã khỏe vì nước\n",
      "nhìn quanh Lần Cuối Rừng Thay Lá Mầm không báo tin gì trên màn mưa đã em không nói một lời không khóc Không cười chỉ cuốn theo chiều gió đưa sẽ như cà phê muối dễ như cách em sửa bàn tay đẹp chỉ tiêu nuôi dễ như cách em quay lại quay lại quay lại để buông lời tha thứ X Vậy là lần cuối đi bên nhau cay đắng nhưng không đau Nếu ai cũng mang con người mong đời đời tôi mưa cũng đang tay tôi như một giấc mơ trôi Tôi hẹn gặp lại cho anh hỏi B ngày mai vì khó như nói thông tin về những gì em đã khỏe vì nước\n",
      "I looked around The Last Time the Forest Changed the Sprouts, I didn't say anything on the rain screen, I didn't say a word, I didn't cry. Don't laugh, just blow it with the wind, it will be as easy as salted coffee like the way you fix your beautiful hands. you come back to come back to forgive X So the last time we were together was bitter but painless If everyone brought the person who wished for my eternity the rain was also in my hand like a drifting dream I promise to see you again I ask B tomorrow because it's as hard as telling information about how you got well because of water\n"
     ]
    },
    {
     "ename": "KeyboardInterrupt",
     "evalue": "",
     "output_type": "error",
     "traceback": [
      "\u001b[0;31m---------------------------------------------------------------------------\u001b[0m",
      "\u001b[0;31mKeyboardInterrupt\u001b[0m                         Traceback (most recent call last)",
      "Cell \u001b[0;32mIn [12], line 26\u001b[0m\n\u001b[1;32m     24\u001b[0m speak \u001b[39m=\u001b[39m gTTS(text,lang\u001b[39m=\u001b[39m\u001b[39m\"\u001b[39m\u001b[39men\u001b[39m\u001b[39m\"\u001b[39m,slow\u001b[39m=\u001b[39m\u001b[39m\"\u001b[39m\u001b[39mfalse\u001b[39m\u001b[39m\"\u001b[39m)\n\u001b[1;32m     25\u001b[0m speak\u001b[39m.\u001b[39msave(\u001b[39m\"\u001b[39m\u001b[39mtest.mp3\u001b[39m\u001b[39m\"\u001b[39m)\n\u001b[0;32m---> 26\u001b[0m playsound(\u001b[39m\"\u001b[39m\u001b[39mtest.mp3\u001b[39m\u001b[39m\"\u001b[39m)\n\u001b[1;32m     27\u001b[0m os\u001b[39m.\u001b[39mremove(\u001b[39m\"\u001b[39m\u001b[39mtest.mp3\u001b[39m\u001b[39m\"\u001b[39m)\n\u001b[1;32m     28\u001b[0m \u001b[39mprint\u001b[39m(text)\n",
      "File \u001b[0;32m~/.local/lib/python3.8/site-packages/playsound.py:189\u001b[0m, in \u001b[0;36m_playsoundNix\u001b[0;34m(sound, block)\u001b[0m\n\u001b[1;32m    187\u001b[0m bus \u001b[39m=\u001b[39m playbin\u001b[39m.\u001b[39mget_bus()\n\u001b[1;32m    188\u001b[0m \u001b[39mtry\u001b[39;00m:\n\u001b[0;32m--> 189\u001b[0m     bus\u001b[39m.\u001b[39;49mpoll(Gst\u001b[39m.\u001b[39;49mMessageType\u001b[39m.\u001b[39;49mEOS, Gst\u001b[39m.\u001b[39;49mCLOCK_TIME_NONE)\n\u001b[1;32m    190\u001b[0m \u001b[39mfinally\u001b[39;00m:\n\u001b[1;32m    191\u001b[0m     playbin\u001b[39m.\u001b[39mset_state(Gst\u001b[39m.\u001b[39mState\u001b[39m.\u001b[39mNULL)\n",
      "\u001b[0;31mKeyboardInterrupt\u001b[0m: "
     ]
    }
   ],
   "source": [
    "from googletrans import Translator\n",
    "\n",
    "\n",
    "filename = \"sound/lancuoi.wav\"\n",
    "import speech_recognition as sv\n",
    "v = sv.Recognizer()\n",
    "txt = \"\"\n",
    "with sv.AudioFile(filename) as source:\n",
    "    audio_data = v.record(source,offset=0, duration = 100)\n",
    "    text = v.recognize_google(audio_data,language=\"vi_VI\") # \n",
    "    print(text)\n",
    "    txt = txt+text\n",
    "print(txt)\n",
    "speak = gTTS(text,lang=\"vi\",slow=\"false\")\n",
    "speak.save(\"test.mp3\")\n",
    "playsound(\"test.mp3\")\n",
    "os.remove(\"test.mp3\")\n",
    "print(text)\n",
    "\n",
    "dich = Translator()\n",
    "translation =dich.translate(text, dest=\"en\")\n",
    "print(translation.text)\n",
    "text =translation.text\n",
    "speak = gTTS(text,lang=\"en\",slow=\"false\")\n",
    "speak.save(\"test.mp3\")\n",
    "playsound(\"test.mp3\")\n",
    "os.remove(\"test.mp3\")\n",
    "print(text)"
   ]
  },
  {
   "cell_type": "code",
   "execution_count": 15,
   "metadata": {},
   "outputs": [
    {
     "name": "stdout",
     "output_type": "stream",
     "text": [
      "早上好中国 现在我有冰淇淋 我很喜欢冰淇淋 但是 速度与激情9 比冰淇淋 速度与激情 速度与激情9 我最喜欢 所以…\n",
      "chào buổi sáng trung quốc bây giờ tôi có kem tôi thích kem nhưng nhanh và tức giận 9 ngon hơn kem nhanh và tức giận nhanh và tức giận 9 là món tôi thích nhất nên…\n",
      "早安，中国，现在我有冰淇淋了，我喜欢冰淇淋，但是又快又生气 9 比冰淇淋好快又生气又快又生气 9 是我的最爱，所以……\n"
     ]
    }
   ],
   "source": [
    "text = \"早上好中国 现在我有冰淇淋 我很喜欢冰淇淋 但是 速度与激情9 比冰淇淋 速度与激情 速度与激情9 我最喜欢 所以…\"\n",
    "speak = gTTS(text,lang=\"zh\",slow=\"false\")\n",
    "speak.save(\"test.mp3\")\n",
    "playsound(\"test.mp3\")\n",
    "os.remove(\"test.mp3\")\n",
    "print(text)\n",
    "\n",
    "dich = Translator()\n",
    "translation =dich.translate(text, dest=\"vi\")\n",
    "print(translation.text)\n",
    "text =translation.text\n",
    "speak = gTTS(text,lang=\"vi\",slow=\"false\")\n",
    "speak.save(\"test.mp3\")\n",
    "playsound(\"test.mp3\")\n",
    "os.remove(\"test.mp3\")\n",
    "\n",
    "translation =dich.translate(text, dest=\"zh-CN\")\n",
    "print(translation.text)\n",
    "text =translation.text\n",
    "speak = gTTS(text,lang=\"zh\",slow=\"false\")\n",
    "speak.save(\"test.mp3\")\n",
    "playsound(\"test.mp3\")\n",
    "os.remove(\"test.mp3\")\n"
   ]
  }
 ],
 "metadata": {
  "kernelspec": {
   "display_name": "Python 3.8.10 64-bit",
   "language": "python",
   "name": "python3"
  },
  "language_info": {
   "codemirror_mode": {
    "name": "ipython",
    "version": 3
   },
   "file_extension": ".py",
   "mimetype": "text/x-python",
   "name": "python",
   "nbconvert_exporter": "python",
   "pygments_lexer": "ipython3",
   "version": "3.8.10 (default, Nov 14 2022, 12:59:47) \n[GCC 9.4.0]"
  },
  "orig_nbformat": 4,
  "vscode": {
   "interpreter": {
    "hash": "916dbcbb3f70747c44a77c7bcd40155683ae19c65e1c03b4aa3499c5328201f1"
   }
  }
 },
 "nbformat": 4,
 "nbformat_minor": 2
}
